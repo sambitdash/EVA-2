{
  "nbformat": 4,
  "nbformat_minor": 0,
  "metadata": {
    "colab": {
      "name": "EVA P2S2 File 3.ipynb",
      "provenance": [],
      "include_colab_link": true
    },
    "kernelspec": {
      "name": "python3",
      "display_name": "Python 3"
    },
    "accelerator": "GPU"
  },
  "cells": [
    {
      "cell_type": "markdown",
      "metadata": {
        "id": "view-in-github",
        "colab_type": "text"
      },
      "source": [
        "<a href=\"https://colab.research.google.com/github/sambitdash/EVA-2/blob/master/Phase-2/Session-2/EVA_P2S2_File_3.ipynb\" target=\"_parent\"><img src=\"https://colab.research.google.com/assets/colab-badge.svg\" alt=\"Open In Colab\"/></a>"
      ]
    },
    {
      "cell_type": "code",
      "metadata": {
        "id": "tKDSmwV-gMKz",
        "colab_type": "code",
        "colab": {}
      },
      "source": [
        " %tensorflow_version 1.x \n",
        "import keras\n",
        "from keras.layers import SimpleRNN\n",
        "from keras.models import Sequential\n",
        "from keras.layers import Embedding, SimpleRNN\n",
        "from keras.layers import Dense"
      ],
      "execution_count": 0,
      "outputs": []
    },
    {
      "cell_type": "code",
      "metadata": {
        "id": "zbIo6FxWgQW2",
        "colab_type": "code",
        "outputId": "e99765de-90ce-442c-a9b6-9cf52053162e",
        "colab": {
          "base_uri": "https://localhost:8080/",
          "height": 158
        }
      },
      "source": [
        "from keras.datasets import reuters\n",
        "from keras.preprocessing import sequence\n",
        "\n",
        "max_features = 10000  # number of words to consider as features\n",
        "maxlen = 500  # cut texts after this number of words (among top max_features most common words)\n",
        "batch_size = 64\n",
        "\n",
        "print('Loading data...')\n",
        "(input_train, y_train), (input_test, y_test) = reuters.load_data(num_words=max_features)\n",
        "print(len(input_train), 'train sequences')\n",
        "print(len(input_test), 'test sequences')\n",
        "\n",
        "print('Pad sequences (samples x time)')\n",
        "input_train = sequence.pad_sequences(input_train, maxlen=maxlen)\n",
        "input_test = sequence.pad_sequences(input_test, maxlen=maxlen)\n",
        "print('input_train shape:', input_train.shape)\n",
        "print('input_test shape:', input_test.shape)\n",
        "print('y_train shape:', y_train.shape)\n",
        "print('y_test shape:', y_test.shape)"
      ],
      "execution_count": 10,
      "outputs": [
        {
          "output_type": "stream",
          "text": [
            "Loading data...\n",
            "8982 train sequences\n",
            "2246 test sequences\n",
            "Pad sequences (samples x time)\n",
            "input_train shape: (8982, 500)\n",
            "input_test shape: (2246, 500)\n",
            "y_train shape: (8982,)\n",
            "y_test shape: (2246,)\n"
          ],
          "name": "stdout"
        }
      ]
    },
    {
      "cell_type": "code",
      "metadata": {
        "id": "ZAjrco-igR7p",
        "colab_type": "code",
        "colab": {}
      },
      "source": [
        "from keras.utils import np_utils\n",
        "\n",
        "y_train = np_utils.to_categorical(y_train, 46)\n",
        "y_test = np_utils.to_categorical(y_test, 46)"
      ],
      "execution_count": 0,
      "outputs": []
    },
    {
      "cell_type": "code",
      "metadata": {
        "id": "nhBWMWjIge9t",
        "colab_type": "code",
        "outputId": "56f2bca4-133a-4f60-f1e2-69a7a1cb2d2f",
        "colab": {
          "base_uri": "https://localhost:8080/",
          "height": 34
        }
      },
      "source": [
        "\n",
        "y_test.shape"
      ],
      "execution_count": 12,
      "outputs": [
        {
          "output_type": "execute_result",
          "data": {
            "text/plain": [
              "(2246, 46)"
            ]
          },
          "metadata": {
            "tags": []
          },
          "execution_count": 12
        }
      ]
    },
    {
      "cell_type": "markdown",
      "metadata": {
        "id": "Im9MERcSn_a5",
        "colab_type": "text"
      },
      "source": [
        "## Model Design\n",
        "\n",
        "Introducing recurrent_regularizer and dropout improved the accuracy. "
      ]
    },
    {
      "cell_type": "code",
      "metadata": {
        "id": "x_dBLLj2giDC",
        "colab_type": "code",
        "outputId": "b5baff68-5e9f-4271-bf7a-ce2f2ab8c0de",
        "colab": {
          "base_uri": "https://localhost:8080/",
          "height": 738
        }
      },
      "source": [
        "from keras.models import Sequential\n",
        "from keras.layers import Embedding, SimpleRNN\n",
        "from keras.layers import Dense\n",
        "from keras.regularizers import l2\n",
        "\n",
        "l2error = 1e-3\n",
        "\n",
        "model = Sequential()\n",
        "model.add(Embedding(max_features, 64, embeddings_regularizer=l2(l2error)))\n",
        "model.add(SimpleRNN(64, return_sequences=True, recurrent_regularizer=l2(l2error), dropout=0.25))\n",
        "model.add(SimpleRNN(64, return_sequences=True, recurrent_regularizer=l2(l2error), dropout=0.25))\n",
        "model.add(SimpleRNN(64, return_sequences=True, recurrent_regularizer=l2(l2error), dropout=0.25))\n",
        "model.add(SimpleRNN(64, recurrent_regularizer=l2(l2error), dropout=0.25))\n",
        "model.add(Dense(46, activation='softmax'))\n",
        "\n",
        "model.summary()\n",
        "\n",
        "model.compile(optimizer='rmsprop', loss='categorical_crossentropy', metrics=['acc'])\n",
        "history = model.fit(input_train, y_train,\n",
        "                    epochs=10,\n",
        "                    batch_size=512,\n",
        "                    validation_split=0.3)"
      ],
      "execution_count": 28,
      "outputs": [
        {
          "output_type": "stream",
          "text": [
            "Model: \"sequential_15\"\n",
            "_________________________________________________________________\n",
            "Layer (type)                 Output Shape              Param #   \n",
            "=================================================================\n",
            "embedding_14 (Embedding)     (None, None, 64)          640000    \n",
            "_________________________________________________________________\n",
            "simple_rnn_51 (SimpleRNN)    (None, None, 64)          8256      \n",
            "_________________________________________________________________\n",
            "simple_rnn_52 (SimpleRNN)    (None, None, 64)          8256      \n",
            "_________________________________________________________________\n",
            "simple_rnn_53 (SimpleRNN)    (None, None, 64)          8256      \n",
            "_________________________________________________________________\n",
            "simple_rnn_54 (SimpleRNN)    (None, 64)                8256      \n",
            "_________________________________________________________________\n",
            "dense_12 (Dense)             (None, 46)                2990      \n",
            "=================================================================\n",
            "Total params: 676,014\n",
            "Trainable params: 676,014\n",
            "Non-trainable params: 0\n",
            "_________________________________________________________________\n",
            "Train on 6287 samples, validate on 2695 samples\n",
            "Epoch 1/10\n",
            "6287/6287 [==============================] - 17s 3ms/step - loss: 4.1642 - acc: 0.1734 - val_loss: 3.0561 - val_acc: 0.3547\n",
            "Epoch 2/10\n",
            "6287/6287 [==============================] - 13s 2ms/step - loss: 3.0337 - acc: 0.3568 - val_loss: 2.9193 - val_acc: 0.3369\n",
            "Epoch 3/10\n",
            "6287/6287 [==============================] - 13s 2ms/step - loss: 2.8061 - acc: 0.3997 - val_loss: 2.5675 - val_acc: 0.4679\n",
            "Epoch 4/10\n",
            "6287/6287 [==============================] - 13s 2ms/step - loss: 2.5516 - acc: 0.4734 - val_loss: 2.9991 - val_acc: 0.2256\n",
            "Epoch 5/10\n",
            "6287/6287 [==============================] - 13s 2ms/step - loss: 2.5739 - acc: 0.4328 - val_loss: 2.3962 - val_acc: 0.4965\n",
            "Epoch 6/10\n",
            "6287/6287 [==============================] - 13s 2ms/step - loss: 2.4117 - acc: 0.4840 - val_loss: 2.3461 - val_acc: 0.4972\n",
            "Epoch 7/10\n",
            "6287/6287 [==============================] - 13s 2ms/step - loss: 2.3874 - acc: 0.4899 - val_loss: 2.3244 - val_acc: 0.4905\n",
            "Epoch 8/10\n",
            "6287/6287 [==============================] - 13s 2ms/step - loss: 2.3097 - acc: 0.5023 - val_loss: 2.1996 - val_acc: 0.5254\n",
            "Epoch 9/10\n",
            "6287/6287 [==============================] - 13s 2ms/step - loss: 2.1930 - acc: 0.5246 - val_loss: 2.3160 - val_acc: 0.5002\n",
            "Epoch 10/10\n",
            "6287/6287 [==============================] - 13s 2ms/step - loss: 2.1526 - acc: 0.5352 - val_loss: 2.2688 - val_acc: 0.4931\n"
          ],
          "name": "stdout"
        }
      ]
    },
    {
      "cell_type": "code",
      "metadata": {
        "id": "J0vgEIYAgq3c",
        "colab_type": "code",
        "outputId": "70154fcf-43a9-448e-c40e-51aca4a42c7a",
        "colab": {
          "base_uri": "https://localhost:8080/",
          "height": 545
        }
      },
      "source": [
        "import matplotlib.pyplot as plt\n",
        "%matplotlib inline\n",
        "\n",
        "acc = history.history['acc']\n",
        "val_acc = history.history['val_acc']\n",
        "loss = history.history['loss']\n",
        "val_loss = history.history['val_loss']\n",
        "\n",
        "epochs = range(len(acc))\n",
        "\n",
        "plt.plot(epochs, acc, label='Training acc')\n",
        "plt.plot(epochs, val_acc, label='Validation acc')\n",
        "plt.title('Training and validation accuracy')\n",
        "plt.legend()\n",
        "\n",
        "plt.figure()\n",
        "\n",
        "plt.plot(epochs, loss, label='Training loss')\n",
        "plt.plot(epochs, val_loss, label='Validation loss')\n",
        "plt.title('Training and validation loss')\n",
        "plt.legend()\n",
        "\n",
        "plt.show()"
      ],
      "execution_count": 29,
      "outputs": [
        {
          "output_type": "display_data",
          "data": {
            "image/png": "[encoded data removed]",
            "text/plain": [
              "<Figure size 432x288 with 1 Axes>"
            ]
          },
          "metadata": {
            "tags": []
          }
        },
        {
          "output_type": "display_data",
          "data": {
            "image/png": "[encoded data removed]",
            "text/plain": [
              "<Figure size 432x288 with 1 Axes>"
            ]
          },
          "metadata": {
            "tags": []
          }
        }
      ]
    }
  ]
}