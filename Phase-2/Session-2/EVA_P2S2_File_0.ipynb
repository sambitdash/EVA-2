{
 "cells": [
  {
   "cell_type": "markdown",
   "metadata": {
    "colab_type": "text",
    "id": "view-in-github"
   },
   "source": [
    "<a href=\"https://colab.research.google.com/github/sambitdash/EVA-2/blob/master/Phase-2/Session-2/EVA_P2S2_File_0.ipynb\" target=\"_parent\"><img src=\"https://colab.research.google.com/assets/colab-badge.svg\" alt=\"Open In Colab\"/></a>"
   ]
  },
  {
   "cell_type": "markdown",
   "metadata": {
    "colab_type": "text",
    "id": "_RrSZJSlMInf"
   },
   "source": [
    "# Session 2 - File 0\n",
    "\n",
    "## Import the Libraries\n",
    "\n",
    "Force usage of Tensorflow 1. All indentation modified to 4 for easier reading of the code."
   ]
  },
  {
   "cell_type": "code",
   "execution_count": 3,
   "metadata": {
    "colab": {},
    "colab_type": "code",
    "id": "PsRXqXtrZg8j"
   },
   "outputs": [],
   "source": [
    "%matplotlib inline\n",
    "import pandas as pd\n",
    "import numpy as np\n",
    "import matplotlib.pyplot as plt\n",
    "from tensorflow.keras.models import Sequential\n",
    "from tensorflow.keras.layers import Dense, SimpleRNN"
   ]
  },
  {
   "cell_type": "markdown",
   "metadata": {
    "colab_type": "text",
    "id": "mxc3qh3WMsjk"
   },
   "source": [
    "## Utility Method for Matrix Conversion \n",
    "\n",
    "Prediction of the (step+1)-th element on the array given the RNN input of first step elements. Effectively, the RNN must learn the sinusoidal function and prediction plot will be kind of a subsampling of the time series predicting the (step+1)-th element of the sequence."
   ]
  },
  {
   "cell_type": "code",
   "execution_count": 4,
   "metadata": {
    "colab": {},
    "colab_type": "code",
    "id": "xexFmDLOZuZg"
   },
   "outputs": [],
   "source": [
    "# convert into dataset matrix\n",
    "def convertToMatrix(data, step):\n",
    "    X, Y =[], []\n",
    "    for i in range(len(data)-step):\n",
    "        d=i+step  \n",
    "        X.append(data[i:d,])\n",
    "        Y.append(data[d,])\n",
    "    return np.array(X), np.array(Y)"
   ]
  },
  {
   "cell_type": "markdown",
   "metadata": {
    "colab_type": "text",
    "id": "JsTTHgK_Nlw8"
   },
   "source": [
    "## Create Random Data in DataFrame\n",
    "\n",
    "Data is a sinusoidal wave function that's also added a random noise of -1 to 1. The first 5 elements are shown are printed as a sample. 3 cycles of sinusoidal waves are considered as $(1000\\times0.02/2\\pi) = 3.18309886184$  are considered. "
   ]
  },
  {
   "cell_type": "code",
   "execution_count": 5,
   "metadata": {
    "colab": {
     "base_uri": "https://localhost:8080/",
     "height": 195
    },
    "colab_type": "code",
    "id": "buL6VQ8QZzeL",
    "outputId": "f2584a4c-7b0c-4c25-a903-81692a0e92de"
   },
   "outputs": [
    {
     "data": {
      "text/html": [
       "<div>\n",
       "<style scoped>\n",
       "    .dataframe tbody tr th:only-of-type {\n",
       "        vertical-align: middle;\n",
       "    }\n",
       "\n",
       "    .dataframe tbody tr th {\n",
       "        vertical-align: top;\n",
       "    }\n",
       "\n",
       "    .dataframe thead th {\n",
       "        text-align: right;\n",
       "    }\n",
       "</style>\n",
       "<table border=\"1\" class=\"dataframe\">\n",
       "  <thead>\n",
       "    <tr style=\"text-align: right;\">\n",
       "      <th></th>\n",
       "      <th>0</th>\n",
       "    </tr>\n",
       "  </thead>\n",
       "  <tbody>\n",
       "    <tr>\n",
       "      <th>0</th>\n",
       "      <td>1.388938</td>\n",
       "    </tr>\n",
       "    <tr>\n",
       "      <th>1</th>\n",
       "      <td>0.321997</td>\n",
       "    </tr>\n",
       "    <tr>\n",
       "      <th>2</th>\n",
       "      <td>1.094949</td>\n",
       "    </tr>\n",
       "    <tr>\n",
       "      <th>3</th>\n",
       "      <td>1.200226</td>\n",
       "    </tr>\n",
       "    <tr>\n",
       "      <th>4</th>\n",
       "      <td>1.679130</td>\n",
       "    </tr>\n",
       "  </tbody>\n",
       "</table>\n",
       "</div>"
      ],
      "text/plain": [
       "          0\n",
       "0  1.388938\n",
       "1  0.321997\n",
       "2  1.094949\n",
       "3  1.200226\n",
       "4  1.679130"
      ]
     },
     "execution_count": 5,
     "metadata": {},
     "output_type": "execute_result"
    }
   ],
   "source": [
    "step = 4\n",
    "N = 1000\n",
    "Tp = 800    \n",
    "\n",
    "t=np.arange(0,N)\n",
    "x=np.sin(0.02*t) + 2*np.random.rand(N)\n",
    "df = pd.DataFrame(x)\n",
    "df.head()"
   ]
  },
  {
   "cell_type": "code",
   "execution_count": 6,
   "metadata": {
    "colab": {
     "base_uri": "https://localhost:8080/",
     "height": 265
    },
    "colab_type": "code",
    "id": "-b8l_c4sZ02I",
    "outputId": "301ef798-3be2-4409-ec21-f81e9e072f54"
   },
   "outputs": [
    {
     "data": {
      "image/png": "[encoded data removed]",
      "text/plain": [
       "<Figure size 432x288 with 1 Axes>"
      ]
     },
     "metadata": {
      "needs_background": "light"
     },
     "output_type": "display_data"
    }
   ],
   "source": [
    "plt.plot(df)\n",
    "plt.show()"
   ]
  },
  {
   "cell_type": "code",
   "execution_count": 7,
   "metadata": {
    "colab": {},
    "colab_type": "code",
    "id": "OETjs_L1Z2zx"
   },
   "outputs": [],
   "source": [
    "values=df.values\n",
    "train,test = values[0:Tp,:], values[Tp:N,:]\n",
    "\n",
    "# add step elements into train and test\n",
    "test = np.append(test,np.repeat(test[-1,],step))\n",
    "train = np.append(train,np.repeat(train[-1,],step))\n",
    " \n",
    "trainX,trainY =convertToMatrix(train,step)\n",
    "testX,testY = convertToMatrix(test,step)\n",
    "\n",
    "trainX = np.reshape(trainX, (trainX.shape[0], 1, trainX.shape[1]))\n",
    "testX = np.reshape(testX, (testX.shape[0], 1, testX.shape[1]))"
   ]
  },
  {
   "cell_type": "markdown",
   "metadata": {
    "colab_type": "text",
    "id": "jfoacprhjwmW"
   },
   "source": [
    "## Model Design\n",
    "\n",
    "RNNs are designed as a sequence with $ o = h = tanh(WX + Uh + b) $\n",
    "\n",
    "The parameters are computed from the unrolling of the RNN-states. There are 32-variables for the W. And since, there the total paramters will be $ units\\times(units+states+bias) = 32\\times(32+4+1) = 1184 $\n",
    "\n",
    "Output of RNN will 32 paramater array which will be pushed into a Dense layer of 8 units. Leading to $32\\times8 + (biases=8) = 264$ parameters.\n",
    "\n",
    "Dense 8 to 1 will have 9 parameters.\n",
    "\n",
    "$ReLu$ seems to produce better convergence than $tanh$ and one argument can be better gradient flow in case of $ReLu$ activation. \n"
   ]
  },
  {
   "cell_type": "code",
   "execution_count": 8,
   "metadata": {
    "colab": {
     "base_uri": "https://localhost:8080/",
     "height": 263
    },
    "colab_type": "code",
    "id": "AcKtwCCHZ4Ww",
    "outputId": "6f3f317e-efa7-49ee-87a2-426aeee7aa43"
   },
   "outputs": [
    {
     "name": "stdout",
     "output_type": "stream",
     "text": [
      "Model: \"sequential\"\n",
      "_________________________________________________________________\n",
      "Layer (type)                 Output Shape              Param #   \n",
      "=================================================================\n",
      "simple_rnn (SimpleRNN)       (None, 32)                1184      \n",
      "_________________________________________________________________\n",
      "dense (Dense)                (None, 8)                 264       \n",
      "_________________________________________________________________\n",
      "dense_1 (Dense)              (None, 1)                 9         \n",
      "=================================================================\n",
      "Total params: 1,457\n",
      "Trainable params: 1,457\n",
      "Non-trainable params: 0\n",
      "_________________________________________________________________\n"
     ]
    }
   ],
   "source": [
    "model = Sequential()\n",
    "model.add(SimpleRNN(units=32, input_shape=(1,step), activation=\"relu\"))\n",
    "model.add(Dense(8, activation=\"relu\")) \n",
    "model.add(Dense(1))\n",
    "model.compile(loss='mean_squared_error', optimizer='rmsprop')\n",
    "model.summary()"
   ]
  },
  {
   "cell_type": "markdown",
   "metadata": {
    "colab_type": "text",
    "id": "deKwdcUzmrH9"
   },
   "source": [
    "## Training\n",
    "\n",
    "Batch sizes are kept as 16 which is essentially ensuring at a times 16 sets of sequences are picked up for training in a batch. "
   ]
  },
  {
   "cell_type": "code",
   "execution_count": 9,
   "metadata": {
    "colab": {
     "base_uri": "https://localhost:8080/",
     "height": 1000
    },
    "colab_type": "code",
    "id": "tsF5r8eQZ6kr",
    "outputId": "9b382972-1b25-42ff-f3e7-d525861c07aa"
   },
   "outputs": [
    {
     "name": "stdout",
     "output_type": "stream",
     "text": [
      "Train on 800 samples\n",
      "Epoch 1/100\n",
      "800/800 - 1s - loss: 0.7097\n",
      "Epoch 2/100\n",
      "800/800 - 0s - loss: 0.4353\n",
      "Epoch 3/100\n",
      "800/800 - 0s - loss: 0.4206\n",
      "Epoch 4/100\n",
      "800/800 - 0s - loss: 0.4197\n",
      "Epoch 5/100\n",
      "800/800 - 0s - loss: 0.4160\n",
      "Epoch 6/100\n",
      "800/800 - 0s - loss: 0.4135\n",
      "Epoch 7/100\n",
      "800/800 - 0s - loss: 0.4136\n",
      "Epoch 8/100\n",
      "800/800 - 0s - loss: 0.4092\n",
      "Epoch 9/100\n",
      "800/800 - 0s - loss: 0.4091\n",
      "Epoch 10/100\n",
      "800/800 - 0s - loss: 0.4075\n",
      "Epoch 11/100\n",
      "800/800 - 0s - loss: 0.4054\n",
      "Epoch 12/100\n",
      "800/800 - 0s - loss: 0.4052\n",
      "Epoch 13/100\n",
      "800/800 - 0s - loss: 0.4057\n",
      "Epoch 14/100\n",
      "800/800 - 0s - loss: 0.4015\n",
      "Epoch 15/100\n",
      "800/800 - 0s - loss: 0.3994\n",
      "Epoch 16/100\n",
      "800/800 - 0s - loss: 0.4005\n",
      "Epoch 17/100\n",
      "800/800 - 0s - loss: 0.3976\n",
      "Epoch 18/100\n",
      "800/800 - 0s - loss: 0.3975\n",
      "Epoch 19/100\n",
      "800/800 - 0s - loss: 0.3981\n",
      "Epoch 20/100\n",
      "800/800 - 0s - loss: 0.3958\n",
      "Epoch 21/100\n",
      "800/800 - 0s - loss: 0.3955\n",
      "Epoch 22/100\n",
      "800/800 - 0s - loss: 0.3951\n",
      "Epoch 23/100\n",
      "800/800 - 0s - loss: 0.3971\n",
      "Epoch 24/100\n",
      "800/800 - 0s - loss: 0.3930\n",
      "Epoch 25/100\n",
      "800/800 - 0s - loss: 0.3938\n",
      "Epoch 26/100\n",
      "800/800 - 0s - loss: 0.3921\n",
      "Epoch 27/100\n",
      "800/800 - 0s - loss: 0.3918\n",
      "Epoch 28/100\n",
      "800/800 - 0s - loss: 0.3932\n",
      "Epoch 29/100\n",
      "800/800 - 0s - loss: 0.3906\n",
      "Epoch 30/100\n",
      "800/800 - 0s - loss: 0.3896\n",
      "Epoch 31/100\n",
      "800/800 - 0s - loss: 0.3893\n",
      "Epoch 32/100\n",
      "800/800 - 0s - loss: 0.3869\n",
      "Epoch 33/100\n",
      "800/800 - 0s - loss: 0.3866\n",
      "Epoch 34/100\n",
      "800/800 - 0s - loss: 0.3874\n",
      "Epoch 35/100\n",
      "800/800 - 0s - loss: 0.3852\n",
      "Epoch 36/100\n",
      "800/800 - 0s - loss: 0.3854\n",
      "Epoch 37/100\n",
      "800/800 - 0s - loss: 0.3851\n",
      "Epoch 38/100\n",
      "800/800 - 0s - loss: 0.3857\n",
      "Epoch 39/100\n",
      "800/800 - 0s - loss: 0.3855\n",
      "Epoch 40/100\n",
      "800/800 - 0s - loss: 0.3847\n",
      "Epoch 41/100\n",
      "800/800 - 0s - loss: 0.3840\n",
      "Epoch 42/100\n",
      "800/800 - 0s - loss: 0.3818\n",
      "Epoch 43/100\n",
      "800/800 - 0s - loss: 0.3795\n",
      "Epoch 44/100\n",
      "800/800 - 0s - loss: 0.3806\n",
      "Epoch 45/100\n",
      "800/800 - 0s - loss: 0.3804\n",
      "Epoch 46/100\n",
      "800/800 - 0s - loss: 0.3815\n",
      "Epoch 47/100\n",
      "800/800 - 0s - loss: 0.3806\n",
      "Epoch 48/100\n",
      "800/800 - 0s - loss: 0.3799\n",
      "Epoch 49/100\n",
      "800/800 - 0s - loss: 0.3789\n",
      "Epoch 50/100\n",
      "800/800 - 0s - loss: 0.3778\n",
      "Epoch 51/100\n",
      "800/800 - 0s - loss: 0.3777\n",
      "Epoch 52/100\n",
      "800/800 - 0s - loss: 0.3761\n",
      "Epoch 53/100\n",
      "800/800 - 0s - loss: 0.3774\n",
      "Epoch 54/100\n",
      "800/800 - 0s - loss: 0.3771\n",
      "Epoch 55/100\n",
      "800/800 - 0s - loss: 0.3785\n",
      "Epoch 56/100\n",
      "800/800 - 0s - loss: 0.3755\n",
      "Epoch 57/100\n",
      "800/800 - 0s - loss: 0.3724\n",
      "Epoch 58/100\n",
      "800/800 - 0s - loss: 0.3757\n",
      "Epoch 59/100\n",
      "800/800 - 0s - loss: 0.3760\n",
      "Epoch 60/100\n",
      "800/800 - 0s - loss: 0.3759\n",
      "Epoch 61/100\n",
      "800/800 - 0s - loss: 0.3732\n",
      "Epoch 62/100\n",
      "800/800 - 0s - loss: 0.3732\n",
      "Epoch 63/100\n",
      "800/800 - 0s - loss: 0.3737\n",
      "Epoch 64/100\n",
      "800/800 - 0s - loss: 0.3716\n",
      "Epoch 65/100\n",
      "800/800 - 0s - loss: 0.3711\n",
      "Epoch 66/100\n",
      "800/800 - 0s - loss: 0.3735\n",
      "Epoch 67/100\n",
      "800/800 - 0s - loss: 0.3712\n",
      "Epoch 68/100\n",
      "800/800 - 0s - loss: 0.3702\n",
      "Epoch 69/100\n",
      "800/800 - 0s - loss: 0.3715\n",
      "Epoch 70/100\n",
      "800/800 - 0s - loss: 0.3720\n",
      "Epoch 71/100\n",
      "800/800 - 0s - loss: 0.3704\n",
      "Epoch 72/100\n",
      "800/800 - 0s - loss: 0.3698\n",
      "Epoch 73/100\n",
      "800/800 - 0s - loss: 0.3677\n",
      "Epoch 74/100\n",
      "800/800 - 0s - loss: 0.3710\n",
      "Epoch 75/100\n",
      "800/800 - 0s - loss: 0.3681\n",
      "Epoch 76/100\n",
      "800/800 - 0s - loss: 0.3678\n",
      "Epoch 77/100\n",
      "800/800 - 0s - loss: 0.3719\n",
      "Epoch 78/100\n",
      "800/800 - 0s - loss: 0.3666\n",
      "Epoch 79/100\n",
      "800/800 - 0s - loss: 0.3681\n",
      "Epoch 80/100\n",
      "800/800 - 0s - loss: 0.3675\n",
      "Epoch 81/100\n",
      "800/800 - 0s - loss: 0.3656\n",
      "Epoch 82/100\n",
      "800/800 - 0s - loss: 0.3658\n",
      "Epoch 83/100\n",
      "800/800 - 0s - loss: 0.3626\n",
      "Epoch 84/100\n",
      "800/800 - 0s - loss: 0.3672\n",
      "Epoch 85/100\n",
      "800/800 - 0s - loss: 0.3648\n",
      "Epoch 86/100\n",
      "800/800 - 0s - loss: 0.3648\n",
      "Epoch 87/100\n",
      "800/800 - 0s - loss: 0.3652\n",
      "Epoch 88/100\n",
      "800/800 - 0s - loss: 0.3652\n",
      "Epoch 89/100\n",
      "800/800 - 0s - loss: 0.3629\n",
      "Epoch 90/100\n",
      "800/800 - 0s - loss: 0.3650\n",
      "Epoch 91/100\n",
      "800/800 - 0s - loss: 0.3644\n",
      "Epoch 92/100\n",
      "800/800 - 0s - loss: 0.3625\n",
      "Epoch 93/100\n",
      "800/800 - 0s - loss: 0.3622\n",
      "Epoch 94/100\n",
      "800/800 - 0s - loss: 0.3626\n",
      "Epoch 95/100\n",
      "800/800 - 0s - loss: 0.3630\n",
      "Epoch 96/100\n",
      "800/800 - 0s - loss: 0.3623\n",
      "Epoch 97/100\n",
      "800/800 - 0s - loss: 0.3641\n",
      "Epoch 98/100\n",
      "800/800 - 0s - loss: 0.3634\n",
      "Epoch 99/100\n",
      "800/800 - 0s - loss: 0.3620\n",
      "Epoch 100/100\n",
      "800/800 - 0s - loss: 0.3618\n",
      "0.35199467062950135\n"
     ]
    }
   ],
   "source": [
    "model.fit(trainX,trainY, epochs=100, batch_size=16, verbose=2)\n",
    "trainPredict = model.predict(trainX)\n",
    "testPredict= model.predict(testX)\n",
    "predicted=np.concatenate((trainPredict,testPredict),axis=0)\n",
    "\n",
    "trainScore = model.evaluate(trainX, trainY, verbose=0)\n",
    "print(trainScore)"
   ]
  },
  {
   "cell_type": "code",
   "execution_count": 10,
   "metadata": {
    "colab": {
     "base_uri": "https://localhost:8080/",
     "height": 265
    },
    "colab_type": "code",
    "id": "GlxseXMaZ8B0",
    "outputId": "1d4043d0-d654-4832-e983-1bdd7b7cd452"
   },
   "outputs": [
    {
     "data": {
      "image/png": "[encoded data removed]",
      "text/plain": [
       "<Figure size 432x288 with 1 Axes>"
      ]
     },
     "metadata": {
      "needs_background": "light"
     },
     "output_type": "display_data"
    }
   ],
   "source": [
    "index = df.index.values\n",
    "plt.plot(index,df)\n",
    "plt.plot(index,predicted)\n",
    "plt.axvline(df.index[Tp], c=\"r\")\n",
    "plt.show()"
   ]
  },
  {
   "cell_type": "code",
   "execution_count": 11,
   "metadata": {
    "colab": {},
    "colab_type": "code",
    "id": "dHxiMsG2awa0"
   },
   "outputs": [
    {
     "name": "stdout",
     "output_type": "stream",
     "text": [
      "Fri Jan 31 12:21:58 2020       \r\n",
      "+-----------------------------------------------------------------------------+\r\n",
      "| NVIDIA-SMI 440.33.01    Driver Version: 440.33.01    CUDA Version: 10.2     |\r\n",
      "|-------------------------------+----------------------+----------------------+\r\n",
      "| GPU  Name        Persistence-M| Bus-Id        Disp.A | Volatile Uncorr. ECC |\r\n",
      "| Fan  Temp  Perf  Pwr:Usage/Cap|         Memory-Usage | GPU-Util  Compute M. |\r\n",
      "|===============================+======================+======================|\r\n",
      "|   0  GeForce GTX 107...  On   | 00000000:08:00.0  On |                  N/A |\r\n",
      "|  0%   52C    P2    40W / 180W |   7877MiB /  8116MiB |      1%      Default |\r\n",
      "+-------------------------------+----------------------+----------------------+\r\n",
      "                                                                               \r\n",
      "+-----------------------------------------------------------------------------+\r\n",
      "| Processes:                                                       GPU Memory |\r\n",
      "|  GPU       PID   Type   Process name                             Usage      |\r\n",
      "|=============================================================================|\r\n",
      "|    0      1127      G   /usr/lib/xorg/Xorg                            18MiB |\r\n",
      "|    0      1234      G   /usr/bin/gnome-shell                          76MiB |\r\n",
      "|    0      2001      G   /usr/lib/xorg/Xorg                           134MiB |\r\n",
      "|    0      2133      G   /usr/bin/gnome-shell                          97MiB |\r\n",
      "|    0     10626      G   ...uest-channel-token=11019284385909947916    44MiB |\r\n",
      "|    0     10947      C   /home/sambit/anaconda3/envs/tf2/bin/python  7491MiB |\r\n",
      "+-----------------------------------------------------------------------------+\r\n"
     ]
    }
   ],
   "source": [
    "!nvidia-smi"
   ]
  },
  {
   "cell_type": "code",
   "execution_count": null,
   "metadata": {},
   "outputs": [],
   "source": []
  }
 ],
 "metadata": {
  "accelerator": "GPU",
  "colab": {
   "collapsed_sections": [],
   "include_colab_link": true,
   "name": "EVA P2S2 File 0.ipynb",
   "provenance": []
  },
  "kernelspec": {
   "display_name": "Python 3",
   "language": "python",
   "name": "python3"
  },
  "language_info": {
   "codemirror_mode": {
    "name": "ipython",
    "version": 3
   },
   "file_extension": ".py",
   "mimetype": "text/x-python",
   "name": "python",
   "nbconvert_exporter": "python",
   "pygments_lexer": "ipython3",
   "version": "3.7.5"
  }
 },
 "nbformat": 4,
 "nbformat_minor": 1
}
