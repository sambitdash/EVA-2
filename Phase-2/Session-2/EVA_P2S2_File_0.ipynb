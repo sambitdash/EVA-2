{
  "nbformat": 4,
  "nbformat_minor": 0,
  "metadata": {
    "colab": {
      "name": "EVA P2S2 File 0.ipynb",
      "provenance": [],
      "collapsed_sections": [],
      "include_colab_link": true
    },
    "kernelspec": {
      "name": "python3",
      "display_name": "Python 3"
    },
    "accelerator": "GPU"
  },
  "cells": [
    {
      "cell_type": "markdown",
      "metadata": {
        "id": "view-in-github",
        "colab_type": "text"
      },
      "source": [
        "<a href=\"https://colab.research.google.com/github/sambitdash/EVA-2/blob/master/Phase-2/Session-2/EVA_P2S2_File_0.ipynb\" target=\"_parent\"><img src=\"https://colab.research.google.com/assets/colab-badge.svg\" alt=\"Open In Colab\"/></a>"
      ]
    },
    {
      "cell_type": "markdown",
      "metadata": {
        "id": "_RrSZJSlMInf",
        "colab_type": "text"
      },
      "source": [
        "# Session 2 - File 0\n",
        "\n",
        "## Import the Libraries\n",
        "\n",
        "Force usage of Tensorflow 1. All indentation modified to 4 for easier reading of the code."
      ]
    },
    {
      "cell_type": "code",
      "metadata": {
        "id": "PsRXqXtrZg8j",
        "colab_type": "code",
        "colab": {}
      },
      "source": [
        "%matplotlib inline\n",
        "import pandas as pd\n",
        "import numpy as np\n",
        "import matplotlib.pyplot as plt\n",
        "%tensorflow_version 1.x\n",
        "from keras.models import Sequential\n",
        "from keras.layers import Dense, SimpleRNN"
      ],
      "execution_count": 0,
      "outputs": []
    },
    {
      "cell_type": "markdown",
      "metadata": {
        "id": "mxc3qh3WMsjk",
        "colab_type": "text"
      },
      "source": [
        "## Utility Method for Matrix Conversion \n",
        "\n",
        "Prediction of the (step+1)-th element on the array given the RNN input of first step elements. Effectively, the RNN must learn the sinusoidal function and prediction plot will be kind of a subsampling of the time series predicting the (step+1)-th element of the sequence."
      ]
    },
    {
      "cell_type": "code",
      "metadata": {
        "id": "xexFmDLOZuZg",
        "colab_type": "code",
        "colab": {}
      },
      "source": [
        "# convert into dataset matrix\n",
        "def convertToMatrix(data, step):\n",
        "    X, Y =[], []\n",
        "    for i in range(len(data)-step):\n",
        "        d=i+step  \n",
        "        X.append(data[i:d,])\n",
        "        Y.append(data[d,])\n",
        "    return np.array(X), np.array(Y)"
      ],
      "execution_count": 0,
      "outputs": []
    },
    {
      "cell_type": "markdown",
      "metadata": {
        "id": "JsTTHgK_Nlw8",
        "colab_type": "text"
      },
      "source": [
        "## Create Random Data in DataFrame\n",
        "\n",
        "Data is a sinusoidal wave function that's also added a random noise of -1 to 1. The first 5 elements are shown are printed as a sample. 3 cycles of sinusoidal waves are considered as $(1000\\times0.02/2\\pi) = 3.18309886184$  are considered. "
      ]
    },
    {
      "cell_type": "code",
      "metadata": {
        "id": "buL6VQ8QZzeL",
        "colab_type": "code",
        "outputId": "f2584a4c-7b0c-4c25-a903-81692a0e92de",
        "colab": {
          "base_uri": "https://localhost:8080/",
          "height": 195
        }
      },
      "source": [
        "step = 4\n",
        "N = 1000\n",
        "Tp = 800    \n",
        "\n",
        "t=np.arange(0,N)\n",
        "x=np.sin(0.02*t) + 2*np.random.rand(N)\n",
        "df = pd.DataFrame(x)\n",
        "df.head()"
      ],
      "execution_count": 86,
      "outputs": [
        {
          "output_type": "execute_result",
          "data": {
            "text/html": [
              "<div>\n",
              "<style scoped>\n",
              "    .dataframe tbody tr th:only-of-type {\n",
              "        vertical-align: middle;\n",
              "    }\n",
              "\n",
              "    .dataframe tbody tr th {\n",
              "        vertical-align: top;\n",
              "    }\n",
              "\n",
              "    .dataframe thead th {\n",
              "        text-align: right;\n",
              "    }\n",
              "</style>\n",
              "<table border=\"1\" class=\"dataframe\">\n",
              "  <thead>\n",
              "    <tr style=\"text-align: right;\">\n",
              "      <th></th>\n",
              "      <th>0</th>\n",
              "    </tr>\n",
              "  </thead>\n",
              "  <tbody>\n",
              "    <tr>\n",
              "      <th>0</th>\n",
              "      <td>1.124509</td>\n",
              "    </tr>\n",
              "    <tr>\n",
              "      <th>1</th>\n",
              "      <td>0.178642</td>\n",
              "    </tr>\n",
              "    <tr>\n",
              "      <th>2</th>\n",
              "      <td>0.561542</td>\n",
              "    </tr>\n",
              "    <tr>\n",
              "      <th>3</th>\n",
              "      <td>1.290700</td>\n",
              "    </tr>\n",
              "    <tr>\n",
              "      <th>4</th>\n",
              "      <td>1.170407</td>\n",
              "    </tr>\n",
              "  </tbody>\n",
              "</table>\n",
              "</div>"
            ],
            "text/plain": [
              "          0\n",
              "0  1.124509\n",
              "1  0.178642\n",
              "2  0.561542\n",
              "3  1.290700\n",
              "4  1.170407"
            ]
          },
          "metadata": {
            "tags": []
          },
          "execution_count": 86
        }
      ]
    },
    {
      "cell_type": "code",
      "metadata": {
        "id": "-b8l_c4sZ02I",
        "colab_type": "code",
        "outputId": "301ef798-3be2-4409-ec21-f81e9e072f54",
        "colab": {
          "base_uri": "https://localhost:8080/",
          "height": 265
        }
      },
      "source": [
        "plt.plot(df)\n",
        "plt.show()"
      ],
      "execution_count": 87,
      "outputs": [
        {
          "output_type": "display_data",
          "data": {
            "image/png": "[encoded data removed]",
            "text/plain": [
              "<Figure size 432x288 with 1 Axes>"
            ]
          },
          "metadata": {
            "tags": []
          }
        }
      ]
    },
    {
      "cell_type": "code",
      "metadata": {
        "id": "OETjs_L1Z2zx",
        "colab_type": "code",
        "colab": {}
      },
      "source": [
        "values=df.values\n",
        "train,test = values[0:Tp,:], values[Tp:N,:]\n",
        "\n",
        "# add step elements into train and test\n",
        "test = np.append(test,np.repeat(test[-1,],step))\n",
        "train = np.append(train,np.repeat(train[-1,],step))\n",
        " \n",
        "trainX,trainY =convertToMatrix(train,step)\n",
        "testX,testY = convertToMatrix(test,step)\n",
        "\n",
        "trainX = np.reshape(trainX, (trainX.shape[0], 1, trainX.shape[1]))\n",
        "testX = np.reshape(testX, (testX.shape[0], 1, testX.shape[1]))"
      ],
      "execution_count": 0,
      "outputs": []
    },
    {
      "cell_type": "markdown",
      "metadata": {
        "id": "jfoacprhjwmW",
        "colab_type": "text"
      },
      "source": [
        "## Model Design\n",
        "\n",
        "RNNs are designed as a sequence with $ o = h = tanh(WX + Uh + b) $\n",
        "\n",
        "The parameters are computed from the unrolling of the RNN-states. There are 32-variables for the W. And since, there the total paramters will be $ units\\times(units+states+bias) = 32\\times(32+4+1) = 1184 $\n",
        "\n",
        "Output of RNN will 32 paramater array which will be pushed into a Dense layer of 8 units. Leading to $32\\times8 + (biases=8) = 264$ parameters.\n",
        "\n",
        "Dense 8 to 1 will have 9 parameters.\n",
        "\n",
        "$ReLu$ seems to produce better convergence than $tanh$ and one argument can be better gradient flow in case of $ReLu$ activation. \n"
      ]
    },
    {
      "cell_type": "code",
      "metadata": {
        "id": "AcKtwCCHZ4Ww",
        "colab_type": "code",
        "outputId": "6f3f317e-efa7-49ee-87a2-426aeee7aa43",
        "colab": {
          "base_uri": "https://localhost:8080/",
          "height": 263
        }
      },
      "source": [
        "model = Sequential()\n",
        "model.add(SimpleRNN(units=32, input_shape=(1,step), activation=\"relu\"))\n",
        "model.add(Dense(8, activation=\"relu\")) \n",
        "model.add(Dense(1))\n",
        "model.compile(loss='mean_squared_error', optimizer='rmsprop')\n",
        "model.summary()"
      ],
      "execution_count": 108,
      "outputs": [
        {
          "output_type": "stream",
          "text": [
            "Model: \"sequential_14\"\n",
            "_________________________________________________________________\n",
            "Layer (type)                 Output Shape              Param #   \n",
            "=================================================================\n",
            "simple_rnn_14 (SimpleRNN)    (None, 32)                1184      \n",
            "_________________________________________________________________\n",
            "dense_27 (Dense)             (None, 8)                 264       \n",
            "_________________________________________________________________\n",
            "dense_28 (Dense)             (None, 1)                 9         \n",
            "=================================================================\n",
            "Total params: 1,457\n",
            "Trainable params: 1,457\n",
            "Non-trainable params: 0\n",
            "_________________________________________________________________\n"
          ],
          "name": "stdout"
        }
      ]
    },
    {
      "cell_type": "markdown",
      "metadata": {
        "id": "deKwdcUzmrH9",
        "colab_type": "text"
      },
      "source": [
        "## Training\n",
        "\n",
        "Batch sizes are kept as 16 which is essentially ensuring at a times 16 sets of sequences are picked up for training in a batch. "
      ]
    },
    {
      "cell_type": "code",
      "metadata": {
        "id": "tsF5r8eQZ6kr",
        "colab_type": "code",
        "outputId": "9b382972-1b25-42ff-f3e7-d525861c07aa",
        "colab": {
          "base_uri": "https://localhost:8080/",
          "height": 1000
        }
      },
      "source": [
        "model.fit(trainX,trainY, epochs=100, batch_size=16, verbose=2)\n",
        "trainPredict = model.predict(trainX)\n",
        "testPredict= model.predict(testX)\n",
        "predicted=np.concatenate((trainPredict,testPredict),axis=0)\n",
        "\n",
        "trainScore = model.evaluate(trainX, trainY, verbose=0)\n",
        "print(trainScore)"
      ],
      "execution_count": 109,
      "outputs": [
        {
          "output_type": "stream",
          "text": [
            "Epoch 1/100\n",
            " - 1s - loss: 0.5272\n",
            "Epoch 2/100\n",
            " - 0s - loss: 0.4050\n",
            "Epoch 3/100\n",
            " - 0s - loss: 0.3971\n",
            "Epoch 4/100\n",
            " - 0s - loss: 0.3935\n",
            "Epoch 5/100\n",
            " - 0s - loss: 0.3930\n",
            "Epoch 6/100\n",
            " - 0s - loss: 0.3874\n",
            "Epoch 7/100\n",
            " - 0s - loss: 0.3866\n",
            "Epoch 8/100\n",
            " - 0s - loss: 0.3865\n",
            "Epoch 9/100\n",
            " - 0s - loss: 0.3860\n",
            "Epoch 10/100\n",
            " - 0s - loss: 0.3823\n",
            "Epoch 11/100\n",
            " - 0s - loss: 0.3834\n",
            "Epoch 12/100\n",
            " - 0s - loss: 0.3808\n",
            "Epoch 13/100\n",
            " - 0s - loss: 0.3810\n",
            "Epoch 14/100\n",
            " - 0s - loss: 0.3817\n",
            "Epoch 15/100\n",
            " - 0s - loss: 0.3803\n",
            "Epoch 16/100\n",
            " - 0s - loss: 0.3792\n",
            "Epoch 17/100\n",
            " - 0s - loss: 0.3794\n",
            "Epoch 18/100\n",
            " - 0s - loss: 0.3790\n",
            "Epoch 19/100\n",
            " - 0s - loss: 0.3794\n",
            "Epoch 20/100\n",
            " - 0s - loss: 0.3801\n",
            "Epoch 21/100\n",
            " - 0s - loss: 0.3776\n",
            "Epoch 22/100\n",
            " - 0s - loss: 0.3760\n",
            "Epoch 23/100\n",
            " - 0s - loss: 0.3768\n",
            "Epoch 24/100\n",
            " - 0s - loss: 0.3746\n",
            "Epoch 25/100\n",
            " - 0s - loss: 0.3754\n",
            "Epoch 26/100\n",
            " - 0s - loss: 0.3730\n",
            "Epoch 27/100\n",
            " - 0s - loss: 0.3736\n",
            "Epoch 28/100\n",
            " - 0s - loss: 0.3725\n",
            "Epoch 29/100\n",
            " - 0s - loss: 0.3725\n",
            "Epoch 30/100\n",
            " - 0s - loss: 0.3696\n",
            "Epoch 31/100\n",
            " - 0s - loss: 0.3719\n",
            "Epoch 32/100\n",
            " - 0s - loss: 0.3687\n",
            "Epoch 33/100\n",
            " - 0s - loss: 0.3718\n",
            "Epoch 34/100\n",
            " - 0s - loss: 0.3721\n",
            "Epoch 35/100\n",
            " - 0s - loss: 0.3668\n",
            "Epoch 36/100\n",
            " - 0s - loss: 0.3693\n",
            "Epoch 37/100\n",
            " - 0s - loss: 0.3703\n",
            "Epoch 38/100\n",
            " - 0s - loss: 0.3677\n",
            "Epoch 39/100\n",
            " - 0s - loss: 0.3678\n",
            "Epoch 40/100\n",
            " - 0s - loss: 0.3679\n",
            "Epoch 41/100\n",
            " - 0s - loss: 0.3692\n",
            "Epoch 42/100\n",
            " - 0s - loss: 0.3666\n",
            "Epoch 43/100\n",
            " - 0s - loss: 0.3649\n",
            "Epoch 44/100\n",
            " - 0s - loss: 0.3646\n",
            "Epoch 45/100\n",
            " - 0s - loss: 0.3659\n",
            "Epoch 46/100\n",
            " - 0s - loss: 0.3673\n",
            "Epoch 47/100\n",
            " - 0s - loss: 0.3641\n",
            "Epoch 48/100\n",
            " - 0s - loss: 0.3631\n",
            "Epoch 49/100\n",
            " - 0s - loss: 0.3654\n",
            "Epoch 50/100\n",
            " - 0s - loss: 0.3640\n",
            "Epoch 51/100\n",
            " - 0s - loss: 0.3635\n",
            "Epoch 52/100\n",
            " - 0s - loss: 0.3631\n",
            "Epoch 53/100\n",
            " - 0s - loss: 0.3638\n",
            "Epoch 54/100\n",
            " - 0s - loss: 0.3621\n",
            "Epoch 55/100\n",
            " - 0s - loss: 0.3632\n",
            "Epoch 56/100\n",
            " - 0s - loss: 0.3618\n",
            "Epoch 57/100\n",
            " - 0s - loss: 0.3612\n",
            "Epoch 58/100\n",
            " - 0s - loss: 0.3617\n",
            "Epoch 59/100\n",
            " - 0s - loss: 0.3620\n",
            "Epoch 60/100\n",
            " - 0s - loss: 0.3593\n",
            "Epoch 61/100\n",
            " - 0s - loss: 0.3606\n",
            "Epoch 62/100\n",
            " - 0s - loss: 0.3599\n",
            "Epoch 63/100\n",
            " - 0s - loss: 0.3584\n",
            "Epoch 64/100\n",
            " - 0s - loss: 0.3590\n",
            "Epoch 65/100\n",
            " - 0s - loss: 0.3597\n",
            "Epoch 66/100\n",
            " - 0s - loss: 0.3586\n",
            "Epoch 67/100\n",
            " - 0s - loss: 0.3587\n",
            "Epoch 68/100\n",
            " - 0s - loss: 0.3572\n",
            "Epoch 69/100\n",
            " - 0s - loss: 0.3557\n",
            "Epoch 70/100\n",
            " - 0s - loss: 0.3552\n",
            "Epoch 71/100\n",
            " - 0s - loss: 0.3589\n",
            "Epoch 72/100\n",
            " - 0s - loss: 0.3564\n",
            "Epoch 73/100\n",
            " - 0s - loss: 0.3580\n",
            "Epoch 74/100\n",
            " - 0s - loss: 0.3557\n",
            "Epoch 75/100\n",
            " - 0s - loss: 0.3555\n",
            "Epoch 76/100\n",
            " - 0s - loss: 0.3553\n",
            "Epoch 77/100\n",
            " - 0s - loss: 0.3558\n",
            "Epoch 78/100\n",
            " - 0s - loss: 0.3552\n",
            "Epoch 79/100\n",
            " - 0s - loss: 0.3560\n",
            "Epoch 80/100\n",
            " - 0s - loss: 0.3529\n",
            "Epoch 81/100\n",
            " - 0s - loss: 0.3543\n",
            "Epoch 82/100\n",
            " - 0s - loss: 0.3514\n",
            "Epoch 83/100\n",
            " - 0s - loss: 0.3540\n",
            "Epoch 84/100\n",
            " - 0s - loss: 0.3514\n",
            "Epoch 85/100\n",
            " - 0s - loss: 0.3517\n",
            "Epoch 86/100\n",
            " - 0s - loss: 0.3533\n",
            "Epoch 87/100\n",
            " - 0s - loss: 0.3524\n",
            "Epoch 88/100\n",
            " - 0s - loss: 0.3529\n",
            "Epoch 89/100\n",
            " - 0s - loss: 0.3512\n",
            "Epoch 90/100\n",
            " - 0s - loss: 0.3485\n",
            "Epoch 91/100\n",
            " - 0s - loss: 0.3549\n",
            "Epoch 92/100\n",
            " - 0s - loss: 0.3512\n",
            "Epoch 93/100\n",
            " - 0s - loss: 0.3511\n",
            "Epoch 94/100\n",
            " - 0s - loss: 0.3491\n",
            "Epoch 95/100\n",
            " - 0s - loss: 0.3493\n",
            "Epoch 96/100\n",
            " - 0s - loss: 0.3522\n",
            "Epoch 97/100\n",
            " - 0s - loss: 0.3492\n",
            "Epoch 98/100\n",
            " - 0s - loss: 0.3505\n",
            "Epoch 99/100\n",
            " - 0s - loss: 0.3503\n",
            "Epoch 100/100\n",
            " - 0s - loss: 0.3523\n",
            "0.34123720169067384\n"
          ],
          "name": "stdout"
        }
      ]
    },
    {
      "cell_type": "code",
      "metadata": {
        "id": "GlxseXMaZ8B0",
        "colab_type": "code",
        "outputId": "1d4043d0-d654-4832-e983-1bdd7b7cd452",
        "colab": {
          "base_uri": "https://localhost:8080/",
          "height": 265
        }
      },
      "source": [
        "index = df.index.values\n",
        "plt.plot(index,df)\n",
        "plt.plot(index,predicted)\n",
        "plt.axvline(df.index[Tp], c=\"r\")\n",
        "plt.show()"
      ],
      "execution_count": 110,
      "outputs": [
        {
          "output_type": "display_data",
          "data": {
            "image/png": "[encoded data removed]",
            "text/plain": [
              "<Figure size 432x288 with 1 Axes>"
            ]
          },
          "metadata": {
            "tags": []
          }
        }
      ]
    },
    {
      "cell_type": "code",
      "metadata": {
        "id": "dHxiMsG2awa0",
        "colab_type": "code",
        "colab": {}
      },
      "source": [
        ""
      ],
      "execution_count": 0,
      "outputs": []
    }
  ]
}