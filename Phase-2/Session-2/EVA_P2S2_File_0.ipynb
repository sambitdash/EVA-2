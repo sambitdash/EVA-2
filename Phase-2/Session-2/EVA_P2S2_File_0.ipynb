{
  "nbformat": 4,
  "nbformat_minor": 0,
  "metadata": {
    "colab": {
      "name": "EVA P2S2 File 0.ipynb",
      "provenance": [],
      "collapsed_sections": [],
      "include_colab_link": true
    },
    "kernelspec": {
      "name": "python3",
      "display_name": "Python 3"
    },
    "accelerator": "GPU"
  },
  "cells": [
    {
      "cell_type": "markdown",
      "metadata": {
        "id": "view-in-github",
        "colab_type": "text"
      },
      "source": [
        "<a href=\"https://colab.research.google.com/github/sambitdash/EVA-2/blob/master/Phase-2/Session-2/EVA_P2S2_File_0.ipynb\" target=\"_parent\"><img src=\"https://colab.research.google.com/assets/colab-badge.svg\" alt=\"Open In Colab\"/></a>"
      ]
    },
    {
      "cell_type": "code",
      "metadata": {
        "id": "PsRXqXtrZg8j",
        "colab_type": "code",
        "outputId": "8a2ff5e9-3f80-4255-96a0-834a6835c3e4",
        "colab": {
          "base_uri": "https://localhost:8080/",
          "height": 34
        }
      },
      "source": [
        "%matplotlib inline\n",
        "import pandas as pd\n",
        "import numpy as np\n",
        "import matplotlib.pyplot as plt\n",
        "%tensorflow_version 1.x\n",
        "from keras.models import Sequential\n",
        "from keras.layers import Dense, SimpleRNN"
      ],
      "execution_count": 1,
      "outputs": [
        {
          "output_type": "stream",
          "text": [
            "Using TensorFlow backend.\n"
          ],
          "name": "stderr"
        }
      ]
    },
    {
      "cell_type": "code",
      "metadata": {
        "id": "xexFmDLOZuZg",
        "colab_type": "code",
        "colab": {}
      },
      "source": [
        "# convert into dataset matrix\n",
        "def convertToMatrix(data, step):\n",
        " X, Y =[], []\n",
        " for i in range(len(data)-step):\n",
        "  d=i+step  \n",
        "  X.append(data[i:d,])\n",
        "  Y.append(data[d,])\n",
        " return np.array(X), np.array(Y)"
      ],
      "execution_count": 0,
      "outputs": []
    },
    {
      "cell_type": "code",
      "metadata": {
        "id": "buL6VQ8QZzeL",
        "colab_type": "code",
        "outputId": "bae7ef71-06ab-4ccf-9ff0-89b470b9f70e",
        "colab": {
          "base_uri": "https://localhost:8080/",
          "height": 195
        }
      },
      "source": [
        "step = 4\n",
        "N = 1000    \n",
        "Tp = 800    \n",
        "\n",
        "t=np.arange(0,N)\n",
        "x=np.sin(0.02*t)+2*np.random.rand(N)\n",
        "df = pd.DataFrame(x)\n",
        "df.head()"
      ],
      "execution_count": 3,
      "outputs": [
        {
          "output_type": "execute_result",
          "data": {
            "text/html": [
              "<div>\n",
              "<style scoped>\n",
              "    .dataframe tbody tr th:only-of-type {\n",
              "        vertical-align: middle;\n",
              "    }\n",
              "\n",
              "    .dataframe tbody tr th {\n",
              "        vertical-align: top;\n",
              "    }\n",
              "\n",
              "    .dataframe thead th {\n",
              "        text-align: right;\n",
              "    }\n",
              "</style>\n",
              "<table border=\"1\" class=\"dataframe\">\n",
              "  <thead>\n",
              "    <tr style=\"text-align: right;\">\n",
              "      <th></th>\n",
              "      <th>0</th>\n",
              "    </tr>\n",
              "  </thead>\n",
              "  <tbody>\n",
              "    <tr>\n",
              "      <th>0</th>\n",
              "      <td>1.915494</td>\n",
              "    </tr>\n",
              "    <tr>\n",
              "      <th>1</th>\n",
              "      <td>0.149318</td>\n",
              "    </tr>\n",
              "    <tr>\n",
              "      <th>2</th>\n",
              "      <td>1.856220</td>\n",
              "    </tr>\n",
              "    <tr>\n",
              "      <th>3</th>\n",
              "      <td>1.737805</td>\n",
              "    </tr>\n",
              "    <tr>\n",
              "      <th>4</th>\n",
              "      <td>0.170867</td>\n",
              "    </tr>\n",
              "  </tbody>\n",
              "</table>\n",
              "</div>"
            ],
            "text/plain": [
              "          0\n",
              "0  1.915494\n",
              "1  0.149318\n",
              "2  1.856220\n",
              "3  1.737805\n",
              "4  0.170867"
            ]
          },
          "metadata": {
            "tags": []
          },
          "execution_count": 3
        }
      ]
    },
    {
      "cell_type": "code",
      "metadata": {
        "id": "-b8l_c4sZ02I",
        "colab_type": "code",
        "outputId": "b80cd9ee-71bd-482d-fde7-d3f8e3f5de82",
        "colab": {
          "base_uri": "https://localhost:8080/",
          "height": 265
        }
      },
      "source": [
        "plt.plot(df)\n",
        "plt.show()"
      ],
      "execution_count": 4,
      "outputs": [
        {
          "output_type": "display_data",
          "data": {
            "image/png": "[encoded data removed]",
            "text/plain": [
              "<Figure size 432x288 with 1 Axes>"
            ]
          },
          "metadata": {
            "tags": []
          }
        }
      ]
    },
    {
      "cell_type": "code",
      "metadata": {
        "id": "OETjs_L1Z2zx",
        "colab_type": "code",
        "colab": {}
      },
      "source": [
        "values=df.values\n",
        "train,test = values[0:Tp,:], values[Tp:N,:]\n",
        "\n",
        "# add step elements into train and test\n",
        "test = np.append(test,np.repeat(test[-1,],step))\n",
        "train = np.append(train,np.repeat(train[-1,],step))\n",
        " \n",
        "trainX,trainY =convertToMatrix(train,step)\n",
        "testX,testY =convertToMatrix(test,step)\n",
        "trainX = np.reshape(trainX, (trainX.shape[0], 1, trainX.shape[1]))\n",
        "testX = np.reshape(testX, (testX.shape[0], 1, testX.shape[1]))"
      ],
      "execution_count": 0,
      "outputs": []
    },
    {
      "cell_type": "code",
      "metadata": {
        "id": "AcKtwCCHZ4Ww",
        "colab_type": "code",
        "outputId": "82bc5e71-4cae-4bea-90a9-12ad4f81baa4",
        "colab": {
          "base_uri": "https://localhost:8080/",
          "height": 424
        }
      },
      "source": [
        "model = Sequential()\n",
        "model.add(SimpleRNN(units=32, input_shape=(1,step), activation=\"relu\"))\n",
        "model.add(Dense(8, activation=\"relu\")) \n",
        "model.add(Dense(1))\n",
        "model.compile(loss='mean_squared_error', optimizer='rmsprop')\n",
        "model.summary()"
      ],
      "execution_count": 7,
      "outputs": [
        {
          "output_type": "stream",
          "text": [
            "WARNING:tensorflow:From /usr/local/lib/python3.6/dist-packages/keras/backend/tensorflow_backend.py:66: The name tf.get_default_graph is deprecated. Please use tf.compat.v1.get_default_graph instead.\n",
            "\n",
            "WARNING:tensorflow:From /usr/local/lib/python3.6/dist-packages/keras/backend/tensorflow_backend.py:541: The name tf.placeholder is deprecated. Please use tf.compat.v1.placeholder instead.\n",
            "\n",
            "WARNING:tensorflow:From /usr/local/lib/python3.6/dist-packages/keras/backend/tensorflow_backend.py:4432: The name tf.random_uniform is deprecated. Please use tf.random.uniform instead.\n",
            "\n",
            "WARNING:tensorflow:From /usr/local/lib/python3.6/dist-packages/keras/optimizers.py:793: The name tf.train.Optimizer is deprecated. Please use tf.compat.v1.train.Optimizer instead.\n",
            "\n",
            "Model: \"sequential_1\"\n",
            "_________________________________________________________________\n",
            "Layer (type)                 Output Shape              Param #   \n",
            "=================================================================\n",
            "simple_rnn_1 (SimpleRNN)     (None, 32)                1184      \n",
            "_________________________________________________________________\n",
            "dense_1 (Dense)              (None, 8)                 264       \n",
            "_________________________________________________________________\n",
            "dense_2 (Dense)              (None, 1)                 9         \n",
            "=================================================================\n",
            "Total params: 1,457\n",
            "Trainable params: 1,457\n",
            "Non-trainable params: 0\n",
            "_________________________________________________________________\n"
          ],
          "name": "stdout"
        }
      ]
    },
    {
      "cell_type": "code",
      "metadata": {
        "id": "tsF5r8eQZ6kr",
        "colab_type": "code",
        "outputId": "805dc900-2d57-4ae3-8369-aa1651dc8169",
        "colab": {
          "base_uri": "https://localhost:8080/",
          "height": 1000
        }
      },
      "source": [
        "model.fit(trainX,trainY, epochs=100, batch_size=16, verbose=2)\n",
        "trainPredict = model.predict(trainX)\n",
        "testPredict= model.predict(testX)\n",
        "predicted=np.concatenate((trainPredict,testPredict),axis=0)\n",
        "\n",
        "trainScore = model.evaluate(trainX, trainY, verbose=0)\n",
        "print(trainScore)"
      ],
      "execution_count": 8,
      "outputs": [
        {
          "output_type": "stream",
          "text": [
            "WARNING:tensorflow:From /usr/local/lib/python3.6/dist-packages/keras/backend/tensorflow_backend.py:1033: The name tf.assign_add is deprecated. Please use tf.compat.v1.assign_add instead.\n",
            "\n",
            "WARNING:tensorflow:From /usr/local/lib/python3.6/dist-packages/keras/backend/tensorflow_backend.py:1020: The name tf.assign is deprecated. Please use tf.compat.v1.assign instead.\n",
            "\n",
            "WARNING:tensorflow:From /usr/local/lib/python3.6/dist-packages/keras/backend/tensorflow_backend.py:3005: The name tf.Session is deprecated. Please use tf.compat.v1.Session instead.\n",
            "\n",
            "Epoch 1/100\n",
            "WARNING:tensorflow:From /usr/local/lib/python3.6/dist-packages/keras/backend/tensorflow_backend.py:190: The name tf.get_default_session is deprecated. Please use tf.compat.v1.get_default_session instead.\n",
            "\n",
            "WARNING:tensorflow:From /usr/local/lib/python3.6/dist-packages/keras/backend/tensorflow_backend.py:197: The name tf.ConfigProto is deprecated. Please use tf.compat.v1.ConfigProto instead.\n",
            "\n",
            "WARNING:tensorflow:From /usr/local/lib/python3.6/dist-packages/keras/backend/tensorflow_backend.py:207: The name tf.global_variables is deprecated. Please use tf.compat.v1.global_variables instead.\n",
            "\n",
            "WARNING:tensorflow:From /usr/local/lib/python3.6/dist-packages/keras/backend/tensorflow_backend.py:216: The name tf.is_variable_initialized is deprecated. Please use tf.compat.v1.is_variable_initialized instead.\n",
            "\n",
            "WARNING:tensorflow:From /usr/local/lib/python3.6/dist-packages/keras/backend/tensorflow_backend.py:223: The name tf.variables_initializer is deprecated. Please use tf.compat.v1.variables_initializer instead.\n",
            "\n",
            " - 10s - loss: 0.7613\n",
            "Epoch 2/100\n",
            " - 0s - loss: 0.4496\n",
            "Epoch 3/100\n",
            " - 0s - loss: 0.4148\n",
            "Epoch 4/100\n",
            " - 0s - loss: 0.4012\n",
            "Epoch 5/100\n",
            " - 0s - loss: 0.3944\n",
            "Epoch 6/100\n",
            " - 0s - loss: 0.3918\n",
            "Epoch 7/100\n",
            " - 0s - loss: 0.3879\n",
            "Epoch 8/100\n",
            " - 0s - loss: 0.3887\n",
            "Epoch 9/100\n",
            " - 0s - loss: 0.3873\n",
            "Epoch 10/100\n",
            " - 0s - loss: 0.3854\n",
            "Epoch 11/100\n",
            " - 0s - loss: 0.3832\n",
            "Epoch 12/100\n",
            " - 0s - loss: 0.3869\n",
            "Epoch 13/100\n",
            " - 0s - loss: 0.3839\n",
            "Epoch 14/100\n",
            " - 0s - loss: 0.3832\n",
            "Epoch 15/100\n",
            " - 0s - loss: 0.3819\n",
            "Epoch 16/100\n",
            " - 0s - loss: 0.3805\n",
            "Epoch 17/100\n",
            " - 0s - loss: 0.3794\n",
            "Epoch 18/100\n",
            " - 0s - loss: 0.3806\n",
            "Epoch 19/100\n",
            " - 0s - loss: 0.3775\n",
            "Epoch 20/100\n",
            " - 0s - loss: 0.3765\n",
            "Epoch 21/100\n",
            " - 0s - loss: 0.3771\n",
            "Epoch 22/100\n",
            " - 0s - loss: 0.3775\n",
            "Epoch 23/100\n",
            " - 0s - loss: 0.3762\n",
            "Epoch 24/100\n",
            " - 0s - loss: 0.3777\n",
            "Epoch 25/100\n",
            " - 0s - loss: 0.3766\n",
            "Epoch 26/100\n",
            " - 0s - loss: 0.3760\n",
            "Epoch 27/100\n",
            " - 0s - loss: 0.3739\n",
            "Epoch 28/100\n",
            " - 0s - loss: 0.3719\n",
            "Epoch 29/100\n",
            " - 0s - loss: 0.3745\n",
            "Epoch 30/100\n",
            " - 0s - loss: 0.3725\n",
            "Epoch 31/100\n",
            " - 0s - loss: 0.3701\n",
            "Epoch 32/100\n",
            " - 0s - loss: 0.3733\n",
            "Epoch 33/100\n",
            " - 0s - loss: 0.3738\n",
            "Epoch 34/100\n",
            " - 0s - loss: 0.3718\n",
            "Epoch 35/100\n",
            " - 0s - loss: 0.3700\n",
            "Epoch 36/100\n",
            " - 0s - loss: 0.3703\n",
            "Epoch 37/100\n",
            " - 0s - loss: 0.3695\n",
            "Epoch 38/100\n",
            " - 0s - loss: 0.3693\n",
            "Epoch 39/100\n",
            " - 0s - loss: 0.3680\n",
            "Epoch 40/100\n",
            " - 0s - loss: 0.3691\n",
            "Epoch 41/100\n",
            " - 0s - loss: 0.3693\n",
            "Epoch 42/100\n",
            " - 0s - loss: 0.3655\n",
            "Epoch 43/100\n",
            " - 0s - loss: 0.3662\n",
            "Epoch 44/100\n",
            " - 0s - loss: 0.3655\n",
            "Epoch 45/100\n",
            " - 0s - loss: 0.3678\n",
            "Epoch 46/100\n",
            " - 0s - loss: 0.3653\n",
            "Epoch 47/100\n",
            " - 0s - loss: 0.3644\n",
            "Epoch 48/100\n",
            " - 0s - loss: 0.3615\n",
            "Epoch 49/100\n",
            " - 0s - loss: 0.3642\n",
            "Epoch 50/100\n",
            " - 0s - loss: 0.3622\n",
            "Epoch 51/100\n",
            " - 0s - loss: 0.3620\n",
            "Epoch 52/100\n",
            " - 0s - loss: 0.3631\n",
            "Epoch 53/100\n",
            " - 0s - loss: 0.3614\n",
            "Epoch 54/100\n",
            " - 0s - loss: 0.3619\n",
            "Epoch 55/100\n",
            " - 0s - loss: 0.3608\n",
            "Epoch 56/100\n",
            " - 0s - loss: 0.3626\n",
            "Epoch 57/100\n",
            " - 0s - loss: 0.3600\n",
            "Epoch 58/100\n",
            " - 0s - loss: 0.3604\n",
            "Epoch 59/100\n",
            " - 0s - loss: 0.3584\n",
            "Epoch 60/100\n",
            " - 0s - loss: 0.3594\n",
            "Epoch 61/100\n",
            " - 0s - loss: 0.3588\n",
            "Epoch 62/100\n",
            " - 0s - loss: 0.3575\n",
            "Epoch 63/100\n",
            " - 0s - loss: 0.3581\n",
            "Epoch 64/100\n",
            " - 0s - loss: 0.3537\n",
            "Epoch 65/100\n",
            " - 0s - loss: 0.3584\n",
            "Epoch 66/100\n",
            " - 0s - loss: 0.3563\n",
            "Epoch 67/100\n",
            " - 0s - loss: 0.3551\n",
            "Epoch 68/100\n",
            " - 0s - loss: 0.3581\n",
            "Epoch 69/100\n",
            " - 0s - loss: 0.3563\n",
            "Epoch 70/100\n",
            " - 0s - loss: 0.3564\n",
            "Epoch 71/100\n",
            " - 0s - loss: 0.3537\n",
            "Epoch 72/100\n",
            " - 0s - loss: 0.3549\n",
            "Epoch 73/100\n",
            " - 0s - loss: 0.3532\n",
            "Epoch 74/100\n",
            " - 0s - loss: 0.3532\n",
            "Epoch 75/100\n",
            " - 0s - loss: 0.3548\n",
            "Epoch 76/100\n",
            " - 0s - loss: 0.3522\n",
            "Epoch 77/100\n",
            " - 0s - loss: 0.3541\n",
            "Epoch 78/100\n",
            " - 0s - loss: 0.3536\n",
            "Epoch 79/100\n",
            " - 0s - loss: 0.3540\n",
            "Epoch 80/100\n",
            " - 0s - loss: 0.3489\n",
            "Epoch 81/100\n",
            " - 0s - loss: 0.3524\n",
            "Epoch 82/100\n",
            " - 0s - loss: 0.3512\n",
            "Epoch 83/100\n",
            " - 0s - loss: 0.3499\n",
            "Epoch 84/100\n",
            " - 0s - loss: 0.3500\n",
            "Epoch 85/100\n",
            " - 0s - loss: 0.3505\n",
            "Epoch 86/100\n",
            " - 0s - loss: 0.3500\n",
            "Epoch 87/100\n",
            " - 0s - loss: 0.3509\n",
            "Epoch 88/100\n",
            " - 0s - loss: 0.3503\n",
            "Epoch 89/100\n",
            " - 0s - loss: 0.3468\n",
            "Epoch 90/100\n",
            " - 0s - loss: 0.3492\n",
            "Epoch 91/100\n",
            " - 0s - loss: 0.3471\n",
            "Epoch 92/100\n",
            " - 0s - loss: 0.3463\n",
            "Epoch 93/100\n",
            " - 0s - loss: 0.3467\n",
            "Epoch 94/100\n",
            " - 0s - loss: 0.3466\n",
            "Epoch 95/100\n",
            " - 0s - loss: 0.3475\n",
            "Epoch 96/100\n",
            " - 0s - loss: 0.3458\n",
            "Epoch 97/100\n",
            " - 0s - loss: 0.3465\n",
            "Epoch 98/100\n",
            " - 0s - loss: 0.3455\n",
            "Epoch 99/100\n",
            " - 0s - loss: 0.3478\n",
            "Epoch 100/100\n",
            " - 0s - loss: 0.3447\n",
            "0.3417523640394211\n"
          ],
          "name": "stdout"
        }
      ]
    },
    {
      "cell_type": "code",
      "metadata": {
        "id": "GlxseXMaZ8B0",
        "colab_type": "code",
        "outputId": "ce205196-9aba-4751-8d36-3a49a7b0e7f5",
        "colab": {
          "base_uri": "https://localhost:8080/",
          "height": 265
        }
      },
      "source": [
        "index = df.index.values\n",
        "plt.plot(index,df)\n",
        "plt.plot(index,predicted)\n",
        "plt.axvline(df.index[Tp], c=\"r\")\n",
        "plt.show()"
      ],
      "execution_count": 9,
      "outputs": [
        {
          "output_type": "display_data",
          "data": {
            "image/png": "[encoded data removed]",
            "text/plain": [
              "<Figure size 432x288 with 1 Axes>"
            ]
          },
          "metadata": {
            "tags": []
          }
        }
      ]
    },
    {
      "cell_type": "code",
      "metadata": {
        "id": "dHxiMsG2awa0",
        "colab_type": "code",
        "colab": {}
      },
      "source": [
        ""
      ],
      "execution_count": 0,
      "outputs": []
    }
  ]
}