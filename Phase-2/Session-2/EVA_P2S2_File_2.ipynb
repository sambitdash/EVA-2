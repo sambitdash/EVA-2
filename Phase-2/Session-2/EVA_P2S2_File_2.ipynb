{
 "cells": [
  {
   "cell_type": "markdown",
   "metadata": {
    "colab_type": "text",
    "id": "view-in-github"
   },
   "source": [
    "<a href=\"https://colab.research.google.com/github/sambitdash/EVA-2/blob/master/Phase-2/Session-2/EVA_P2S2_File_2.ipynb\" target=\"_parent\"><img src=\"https://colab.research.google.com/assets/colab-badge.svg\" alt=\"Open In Colab\"/></a>"
   ]
  },
  {
   "cell_type": "markdown",
   "metadata": {
    "colab_type": "text",
    "id": "Ufhu6oQERRKu"
   },
   "source": [
    "# Phase 2 Session 2 File 2\n",
    "\n",
    "## Import the Libraries\n"
   ]
  },
  {
   "cell_type": "code",
   "execution_count": 1,
   "metadata": {
    "colab": {
     "base_uri": "https://localhost:8080/",
     "height": 34
    },
    "colab_type": "code",
    "id": "UJKcKjnWecLZ",
    "outputId": "953464c7-9aad-4719-bb26-7de31b1e4d17"
   },
   "outputs": [
    {
     "name": "stdout",
     "output_type": "stream",
     "text": [
      "Loading data...\n"
     ]
    }
   ],
   "source": [
    "from tensorflow.keras.layers import SimpleRNN\n",
    "from tensorflow.keras.models import Sequential\n",
    "from tensorflow.keras.layers import Embedding, SimpleRNN\n",
    "from tensorflow.keras.datasets import imdb\n",
    "from tensorflow.keras.preprocessing import sequence\n",
    "max_features = 10000\n",
    "maxlen = 500\n",
    "batch_size = 32\n",
    "print('Loading data...')"
   ]
  },
  {
   "cell_type": "markdown",
   "metadata": {
    "colab_type": "text",
    "id": "arewthHARd8k"
   },
   "source": [
    "## Load the IMDB data\n",
    "\n",
    "Ensure the loading is upto maximum words of 10000 only. "
   ]
  },
  {
   "cell_type": "code",
   "execution_count": 2,
   "metadata": {
    "colab": {},
    "colab_type": "code",
    "id": "AGrQV123eeQr"
   },
   "outputs": [
    {
     "name": "stdout",
     "output_type": "stream",
     "text": [
      "Downloading data from https://storage.googleapis.com/tensorflow/tf-keras-datasets/imdb.npz\n",
      "17465344/17464789 [==============================] - 169s 10us/step\n"
     ]
    }
   ],
   "source": [
    "(input_train, y_train), (input_test, y_test) = imdb.load_data(num_words=max_features)"
   ]
  },
  {
   "cell_type": "code",
   "execution_count": 3,
   "metadata": {
    "colab": {
     "base_uri": "https://localhost:8080/",
     "height": 52
    },
    "colab_type": "code",
    "id": "Q6muyFfRegiP",
    "outputId": "1bceb00a-8b84-41c6-e7e5-f91ed143ceeb"
   },
   "outputs": [
    {
     "name": "stdout",
     "output_type": "stream",
     "text": [
      "25000 train sequences\n",
      "25000 test sequences\n"
     ]
    }
   ],
   "source": [
    "print(input_train.shape[0], 'train sequences')\n",
    "print(input_test.shape[0], 'test sequences')"
   ]
  },
  {
   "cell_type": "markdown",
   "metadata": {
    "colab_type": "text",
    "id": "G-9nX4TEZB0T"
   },
   "source": [
    "## Pad Sequences\n",
    "\n",
    "Pad sequences to maxlen size."
   ]
  },
  {
   "cell_type": "code",
   "execution_count": 4,
   "metadata": {
    "colab": {
     "base_uri": "https://localhost:8080/",
     "height": 52
    },
    "colab_type": "code",
    "id": "WJycVWRXegpF",
    "outputId": "96ea4239-3c4b-4365-f7df-0f2a5dec7b5e"
   },
   "outputs": [
    {
     "name": "stdout",
     "output_type": "stream",
     "text": [
      "Pad sequences (samples x time)\n",
      "input_train shape: (25000, 500)\n"
     ]
    }
   ],
   "source": [
    "\n",
    "print('Pad sequences (samples x time)')\n",
    "input_train = sequence.pad_sequences(input_train, maxlen=maxlen)\n",
    "input_test = sequence.pad_sequences(input_test, maxlen=maxlen)\n",
    "print('input_train shape:', input_train.shape)"
   ]
  },
  {
   "cell_type": "markdown",
   "metadata": {
    "colab_type": "text",
    "id": "oyc4MiQwbRWu"
   },
   "source": [
    "## Model Design\n",
    "\n",
    "Embedding layer is introduced to reduce the maximum states to a manageable 32 numbers. Leaving out non-embedded sequences would have increased the parameters sizes drastically as part of the states. Unlike preloaded embeddings the embedding layers are computed as a mapping of 10000 chars mapping to 32 output values. \n",
    "\n",
    "Since, the embeddings are fairly non-convex, convexity is introduced with L2 normalization. Similar can be carried out for the SimpleRNN as well. A dropout is introduced in the SimpleRNN as well. "
   ]
  },
  {
   "cell_type": "code",
   "execution_count": 6,
   "metadata": {
    "colab": {
     "base_uri": "https://localhost:8080/",
     "height": 263
    },
    "colab_type": "code",
    "id": "W-_e5FzpeiFI",
    "outputId": "f5e3088a-b165-4aac-b886-357bb9eed742"
   },
   "outputs": [
    {
     "name": "stdout",
     "output_type": "stream",
     "text": [
      "Model: \"sequential\"\n",
      "_________________________________________________________________\n",
      "Layer (type)                 Output Shape              Param #   \n",
      "=================================================================\n",
      "embedding (Embedding)        (None, None, 32)          320000    \n",
      "_________________________________________________________________\n",
      "simple_rnn (SimpleRNN)       (None, 32)                2080      \n",
      "_________________________________________________________________\n",
      "dense (Dense)                (None, 1)                 33        \n",
      "=================================================================\n",
      "Total params: 322,113\n",
      "Trainable params: 322,113\n",
      "Non-trainable params: 0\n",
      "_________________________________________________________________\n"
     ]
    }
   ],
   "source": [
    "from tensorflow.keras.layers import Dense\n",
    "from tensorflow.keras.regularizers import l2\n",
    "\n",
    "model = Sequential()\n",
    "model.add(Embedding(max_features, 32, embeddings_regularizer=l2(0.001)))\n",
    "model.add(SimpleRNN(32, recurrent_regularizer=l2(0.001), dropout=0.25))\n",
    "model.add(Dense(1, activation='sigmoid'))\n",
    "\n",
    "model.compile(optimizer='rmsprop', loss='binary_crossentropy', metrics=['acc'])\n",
    "model.summary()"
   ]
  },
  {
   "cell_type": "markdown",
   "metadata": {
    "colab_type": "text",
    "id": "BEeMRfJ-cl0y"
   },
   "source": [
    "## Model Training\n",
    "\n",
    "Overfitting is controlled and max accuracy achieved in 10 iterations are around 86.9%. Results plotted below. "
   ]
  },
  {
   "cell_type": "code",
   "execution_count": 7,
   "metadata": {
    "colab": {
     "base_uri": "https://localhost:8080/",
     "height": 386
    },
    "colab_type": "code",
    "id": "OS9Vlh_1KzLV",
    "outputId": "2c1c80a0-c46d-4ad4-981e-f1fe88e71386"
   },
   "outputs": [
    {
     "name": "stdout",
     "output_type": "stream",
     "text": [
      "Train on 20000 samples, validate on 5000 samples\n",
      "Epoch 1/10\n"
     ]
    },
    {
     "name": "stderr",
     "output_type": "stream",
     "text": [
      "/home/sambit/anaconda3/envs/tf2/lib/python3.7/site-packages/tensorflow_core/python/framework/indexed_slices.py:433: UserWarning: Converting sparse IndexedSlices to a dense Tensor of unknown shape. This may consume a large amount of memory.\n",
      "  \"Converting sparse IndexedSlices to a dense Tensor of unknown shape. \"\n"
     ]
    },
    {
     "name": "stdout",
     "output_type": "stream",
     "text": [
      "20000/20000 [==============================] - 32s 2ms/sample - loss: 0.7420 - acc: 0.6089 - val_loss: 0.5591 - val_acc: 0.7720\n",
      "Epoch 2/10\n",
      "20000/20000 [==============================] - 31s 2ms/sample - loss: 0.5140 - acc: 0.8015 - val_loss: 0.4479 - val_acc: 0.8444\n",
      "Epoch 3/10\n",
      "20000/20000 [==============================] - 31s 2ms/sample - loss: 0.4278 - acc: 0.8510 - val_loss: 0.5051 - val_acc: 0.8048\n",
      "Epoch 4/10\n",
      "20000/20000 [==============================] - 31s 2ms/sample - loss: 0.4135 - acc: 0.8583 - val_loss: 0.4562 - val_acc: 0.8512\n",
      "Epoch 5/10\n",
      "20000/20000 [==============================] - 31s 2ms/sample - loss: 0.4013 - acc: 0.8661 - val_loss: 0.4263 - val_acc: 0.8556\n",
      "Epoch 6/10\n",
      "20000/20000 [==============================] - 31s 2ms/sample - loss: 0.3867 - acc: 0.8698 - val_loss: 0.4762 - val_acc: 0.8164\n",
      "Epoch 7/10\n",
      "20000/20000 [==============================] - 31s 2ms/sample - loss: 0.3743 - acc: 0.8779 - val_loss: 0.5107 - val_acc: 0.8402\n",
      "Epoch 8/10\n",
      "20000/20000 [==============================] - 31s 2ms/sample - loss: 0.3567 - acc: 0.8856 - val_loss: 0.8263 - val_acc: 0.7534\n",
      "Epoch 9/10\n",
      "20000/20000 [==============================] - 31s 2ms/sample - loss: 0.3533 - acc: 0.8877 - val_loss: 0.5173 - val_acc: 0.8118\n",
      "Epoch 10/10\n",
      "20000/20000 [==============================] - 32s 2ms/sample - loss: 0.3458 - acc: 0.8916 - val_loss: 0.5331 - val_acc: 0.8326\n"
     ]
    }
   ],
   "source": [
    "history = model.fit(input_train, y_train,\n",
    "                    epochs=10,\n",
    "                    batch_size=128,\n",
    "                    validation_split=0.2)"
   ]
  },
  {
   "cell_type": "code",
   "execution_count": 8,
   "metadata": {
    "colab": {
     "base_uri": "https://localhost:8080/",
     "height": 545
    },
    "colab_type": "code",
    "id": "vsGK_JY-ejXv",
    "outputId": "62055523-d30f-4ed1-f6e1-bb388e7f2f9d"
   },
   "outputs": [
    {
     "data": {
      "image/png": "[encoded data removed]",
      "text/plain": [
       "<Figure size 432x288 with 1 Axes>"
      ]
     },
     "metadata": {
      "needs_background": "light"
     },
     "output_type": "display_data"
    },
    {
     "data": {
      "image/png": "[encoded data removed]",
      "text/plain": [
       "<Figure size 432x288 with 1 Axes>"
      ]
     },
     "metadata": {
      "needs_background": "light"
     },
     "output_type": "display_data"
    }
   ],
   "source": [
    "%matplotlib inline\n",
    "\n",
    "import matplotlib.pyplot as plt\n",
    "acc = history.history['acc']\n",
    "val_acc = history.history['val_acc']\n",
    "loss = history.history['loss']\n",
    "val_loss = history.history['val_loss']\n",
    "epochs = range(1, len(acc) + 1)\n",
    "plt.plot(epochs, acc, label='Training ACC')\n",
    "plt.plot(epochs, val_acc, label='Validation ACC')\n",
    "plt.title('Training and Validation Accuracy')\n",
    "plt.legend()\n",
    "plt.figure()\n",
    "plt.plot(epochs, loss, label='Training Loss')\n",
    "plt.plot(epochs, val_loss, label='Validation Loss')\n",
    "plt.title('Training and Validation Loss')\n",
    "plt.legend()\n",
    "plt.show()"
   ]
  },
  {
   "cell_type": "code",
   "execution_count": 0,
   "metadata": {
    "colab": {},
    "colab_type": "code",
    "id": "Xdi5DZf8elBw"
   },
   "outputs": [],
   "source": []
  }
 ],
 "metadata": {
  "accelerator": "GPU",
  "colab": {
   "collapsed_sections": [],
   "include_colab_link": true,
   "name": "EVA P2S2 File 2.ipynb",
   "provenance": []
  },
  "kernelspec": {
   "display_name": "Python 3",
   "language": "python",
   "name": "python3"
  },
  "language_info": {
   "codemirror_mode": {
    "name": "ipython",
    "version": 3
   },
   "file_extension": ".py",
   "mimetype": "text/x-python",
   "name": "python",
   "nbconvert_exporter": "python",
   "pygments_lexer": "ipython3",
   "version": "3.7.5"
  }
 },
 "nbformat": 4,
 "nbformat_minor": 1
}
