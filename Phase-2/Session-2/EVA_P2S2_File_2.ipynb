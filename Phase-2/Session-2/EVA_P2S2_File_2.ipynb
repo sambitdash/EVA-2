{
  "nbformat": 4,
  "nbformat_minor": 0,
  "metadata": {
    "colab": {
      "name": "EVA P2S2 File 2.ipynb",
      "provenance": [],
      "collapsed_sections": [],
      "include_colab_link": true
    },
    "kernelspec": {
      "name": "python3",
      "display_name": "Python 3"
    },
    "accelerator": "GPU"
  },
  "cells": [
    {
      "cell_type": "markdown",
      "metadata": {
        "id": "view-in-github",
        "colab_type": "text"
      },
      "source": [
        "<a href=\"https://colab.research.google.com/github/sambitdash/EVA-2/blob/master/Phase-2/Session-2/EVA_P2S2_File_2.ipynb\" target=\"_parent\"><img src=\"https://colab.research.google.com/assets/colab-badge.svg\" alt=\"Open In Colab\"/></a>"
      ]
    },
    {
      "cell_type": "markdown",
      "metadata": {
        "id": "Ufhu6oQERRKu",
        "colab_type": "text"
      },
      "source": [
        "# Phase 2 Session 2 File 2\n",
        "\n",
        "## Import the Libraries\n"
      ]
    },
    {
      "cell_type": "code",
      "metadata": {
        "id": "UJKcKjnWecLZ",
        "colab_type": "code",
        "outputId": "953464c7-9aad-4719-bb26-7de31b1e4d17",
        "colab": {
          "base_uri": "https://localhost:8080/",
          "height": 34
        }
      },
      "source": [
        "%tensorflow_version 1.x\n",
        "from keras.layers import SimpleRNN\n",
        "from keras.models import Sequential\n",
        "from keras.layers import Embedding, SimpleRNN\n",
        "from keras.datasets import imdb\n",
        "from keras.preprocessing import sequence\n",
        "max_features = 10000\n",
        "maxlen = 500\n",
        "batch_size = 32\n",
        "print('Loading data...')"
      ],
      "execution_count": 21,
      "outputs": [
        {
          "output_type": "stream",
          "text": [
            "Loading data...\n"
          ],
          "name": "stdout"
        }
      ]
    },
    {
      "cell_type": "markdown",
      "metadata": {
        "id": "arewthHARd8k",
        "colab_type": "text"
      },
      "source": [
        "## Load the IMDB data\n",
        "\n",
        "Ensure the loading is upto maximum words of 10000 only. "
      ]
    },
    {
      "cell_type": "code",
      "metadata": {
        "id": "AGrQV123eeQr",
        "colab_type": "code",
        "colab": {}
      },
      "source": [
        "(input_train, y_train), (input_test, y_test) = imdb.load_data(num_words=max_features)"
      ],
      "execution_count": 0,
      "outputs": []
    },
    {
      "cell_type": "code",
      "metadata": {
        "id": "Q6muyFfRegiP",
        "colab_type": "code",
        "outputId": "1bceb00a-8b84-41c6-e7e5-f91ed143ceeb",
        "colab": {
          "base_uri": "https://localhost:8080/",
          "height": 52
        }
      },
      "source": [
        "print(input_train.shape[0], 'train sequences')\n",
        "print(input_test.shape[0], 'test sequences')"
      ],
      "execution_count": 29,
      "outputs": [
        {
          "output_type": "stream",
          "text": [
            "25000 train sequences\n",
            "25000 test sequences\n"
          ],
          "name": "stdout"
        }
      ]
    },
    {
      "cell_type": "markdown",
      "metadata": {
        "id": "G-9nX4TEZB0T",
        "colab_type": "text"
      },
      "source": [
        "## Pad Sequences\n",
        "\n",
        "Pad sequences to maxlen size."
      ]
    },
    {
      "cell_type": "code",
      "metadata": {
        "id": "WJycVWRXegpF",
        "colab_type": "code",
        "outputId": "96ea4239-3c4b-4365-f7df-0f2a5dec7b5e",
        "colab": {
          "base_uri": "https://localhost:8080/",
          "height": 52
        }
      },
      "source": [
        "\n",
        "print('Pad sequences (samples x time)')\n",
        "input_train = sequence.pad_sequences(input_train, maxlen=maxlen)\n",
        "input_test = sequence.pad_sequences(input_test, maxlen=maxlen)\n",
        "print('input_train shape:', input_train.shape)"
      ],
      "execution_count": 30,
      "outputs": [
        {
          "output_type": "stream",
          "text": [
            "Pad sequences (samples x time)\n",
            "input_train shape: (25000, 500)\n"
          ],
          "name": "stdout"
        }
      ]
    },
    {
      "cell_type": "markdown",
      "metadata": {
        "id": "oyc4MiQwbRWu",
        "colab_type": "text"
      },
      "source": [
        "## Model Design\n",
        "\n",
        "Embedding layer is introduced to reduce the maximum states to a manageable 32 numbers. Leaving out non-embedded sequences would have increased the parameters sizes drastically as part of the states. Unlike preloaded embeddings the embedding layers are computed as a mapping of 10000 chars mapping to 32 output values. \n",
        "\n",
        "Since, the embeddings are fairly non-convex, convexity is introduced with L2 normalization. Similar can be carried out for the SimpleRNN as well. A dropout is introduced in the SimpleRNN as well. "
      ]
    },
    {
      "cell_type": "code",
      "metadata": {
        "id": "W-_e5FzpeiFI",
        "colab_type": "code",
        "outputId": "f5e3088a-b165-4aac-b886-357bb9eed742",
        "colab": {
          "base_uri": "https://localhost:8080/",
          "height": 263
        }
      },
      "source": [
        "from keras.layers import Dense\n",
        "from keras.regularizers import l2\n",
        "\n",
        "model = Sequential()\n",
        "model.add(Embedding(max_features, 32, embeddings_regularizer=l2(0.001)))\n",
        "model.add(SimpleRNN(32, recurrent_regularizer=l2(0.001), dropout=0.25))\n",
        "model.add(Dense(1, activation='sigmoid'))\n",
        "\n",
        "model.compile(optimizer='rmsprop', loss='binary_crossentropy', metrics=['acc'])\n",
        "model.summary()"
      ],
      "execution_count": 31,
      "outputs": [
        {
          "output_type": "stream",
          "text": [
            "Model: \"sequential_6\"\n",
            "_________________________________________________________________\n",
            "Layer (type)                 Output Shape              Param #   \n",
            "=================================================================\n",
            "embedding_6 (Embedding)      (None, None, 32)          320000    \n",
            "_________________________________________________________________\n",
            "simple_rnn_6 (SimpleRNN)     (None, 32)                2080      \n",
            "_________________________________________________________________\n",
            "dense_6 (Dense)              (None, 1)                 33        \n",
            "=================================================================\n",
            "Total params: 322,113\n",
            "Trainable params: 322,113\n",
            "Non-trainable params: 0\n",
            "_________________________________________________________________\n"
          ],
          "name": "stdout"
        }
      ]
    },
    {
      "cell_type": "markdown",
      "metadata": {
        "id": "BEeMRfJ-cl0y",
        "colab_type": "text"
      },
      "source": [
        "## Model Training\n",
        "\n",
        "Overfitting is controlled and max accuracy achieved in 10 iterations are around 86.9%. Results plotted below. "
      ]
    },
    {
      "cell_type": "code",
      "metadata": {
        "id": "OS9Vlh_1KzLV",
        "colab_type": "code",
        "colab": {
          "base_uri": "https://localhost:8080/",
          "height": 386
        },
        "outputId": "2c1c80a0-c46d-4ad4-981e-f1fe88e71386"
      },
      "source": [
        "history = model.fit(input_train, y_train,\n",
        "                    epochs=10,\n",
        "                    batch_size=128,\n",
        "                    validation_split=0.2)"
      ],
      "execution_count": 32,
      "outputs": [
        {
          "output_type": "stream",
          "text": [
            "Train on 20000 samples, validate on 5000 samples\n",
            "Epoch 1/10\n",
            "20000/20000 [==============================] - 31s 2ms/step - loss: 0.6710 - acc: 0.6936 - val_loss: 0.4948 - val_acc: 0.8286\n",
            "Epoch 2/10\n",
            "20000/20000 [==============================] - 31s 2ms/step - loss: 0.4883 - acc: 0.8178 - val_loss: 0.4601 - val_acc: 0.8302\n",
            "Epoch 3/10\n",
            "20000/20000 [==============================] - 31s 2ms/step - loss: 0.4319 - acc: 0.8463 - val_loss: 1.3411 - val_acc: 0.5720\n",
            "Epoch 4/10\n",
            "20000/20000 [==============================] - 31s 2ms/step - loss: 0.4302 - acc: 0.8505 - val_loss: 0.5446 - val_acc: 0.8150\n",
            "Epoch 5/10\n",
            "20000/20000 [==============================] - 31s 2ms/step - loss: 0.4118 - acc: 0.8619 - val_loss: 0.5299 - val_acc: 0.8144\n",
            "Epoch 6/10\n",
            "20000/20000 [==============================] - 31s 2ms/step - loss: 0.3827 - acc: 0.8714 - val_loss: 0.6884 - val_acc: 0.7246\n",
            "Epoch 7/10\n",
            "20000/20000 [==============================] - 31s 2ms/step - loss: 0.3862 - acc: 0.8731 - val_loss: 0.4070 - val_acc: 0.8690\n",
            "Epoch 8/10\n",
            "20000/20000 [==============================] - 31s 2ms/step - loss: 0.3637 - acc: 0.8804 - val_loss: 0.4501 - val_acc: 0.8348\n",
            "Epoch 9/10\n",
            "20000/20000 [==============================] - 31s 2ms/step - loss: 0.3485 - acc: 0.8918 - val_loss: 0.6643 - val_acc: 0.8114\n",
            "Epoch 10/10\n",
            "20000/20000 [==============================] - 31s 2ms/step - loss: 0.3482 - acc: 0.8901 - val_loss: 0.4525 - val_acc: 0.8416\n"
          ],
          "name": "stdout"
        }
      ]
    },
    {
      "cell_type": "code",
      "metadata": {
        "id": "vsGK_JY-ejXv",
        "colab_type": "code",
        "outputId": "62055523-d30f-4ed1-f6e1-bb388e7f2f9d",
        "colab": {
          "base_uri": "https://localhost:8080/",
          "height": 545
        }
      },
      "source": [
        "%matplotlib inline\n",
        "\n",
        "import matplotlib.pyplot as plt\n",
        "acc = history.history['acc']\n",
        "val_acc = history.history['val_acc']\n",
        "loss = history.history['loss']\n",
        "val_loss = history.history['val_loss']\n",
        "epochs = range(1, len(acc) + 1)\n",
        "plt.plot(epochs, acc, label='Training ACC')\n",
        "plt.plot(epochs, val_acc, label='Validation ACC')\n",
        "plt.title('Training and Validation Accuracy')\n",
        "plt.legend()\n",
        "plt.figure()\n",
        "plt.plot(epochs, loss, label='Training Loss')\n",
        "plt.plot(epochs, val_loss, label='Validation Loss')\n",
        "plt.title('Training and Validation Loss')\n",
        "plt.legend()\n",
        "plt.show()"
      ],
      "execution_count": 33,
      "outputs": [
        {
          "output_type": "display_data",
          "data": {
            "image/png": "[encoded data removed]",
            "text/plain": [
              "<Figure size 432x288 with 1 Axes>"
            ]
          },
          "metadata": {
            "tags": []
          }
        },
        {
          "output_type": "display_data",
          "data": {
            "image/png": "[encoded data removed]",
            "text/plain": [
              "<Figure size 432x288 with 1 Axes>"
            ]
          },
          "metadata": {
            "tags": []
          }
        }
      ]
    },
    {
      "cell_type": "code",
      "metadata": {
        "id": "Xdi5DZf8elBw",
        "colab_type": "code",
        "colab": {}
      },
      "source": [
        ""
      ],
      "execution_count": 0,
      "outputs": []
    }
  ]
}