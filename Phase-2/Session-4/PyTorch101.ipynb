{
  "nbformat": 4,
  "nbformat_minor": 0,
  "metadata": {
    "colab": {
      "name": "PyTorch101.ipynb",
      "provenance": [],
      "include_colab_link": true
    },
    "kernelspec": {
      "name": "python3",
      "display_name": "Python 3"
    },
    "accelerator": "GPU"
  },
  "cells": [
    {
      "cell_type": "markdown",
      "metadata": {
        "id": "view-in-github",
        "colab_type": "text"
      },
      "source": [
        "<a href=\"https://colab.research.google.com/github/sambitdash/EVA-2/blob/master/Phase-2/Session-4/PyTorch101.ipynb\" target=\"_parent\"><img src=\"https://colab.research.google.com/assets/colab-badge.svg\" alt=\"Open In Colab\"/></a>"
      ]
    },
    {
      "cell_type": "markdown",
      "metadata": {
        "id": "_kYM3ylzYo1Q",
        "colab_type": "text"
      },
      "source": [
        "![PyTorch](https://devblogs.nvidia.com/wp-content/uploads/2017/04/pytorch-logo-dark.png)\n",
        "\n",
        "An open source machine learning framework that accelerates the path from research prototyping to production deployment.\n",
        "\n"
      ]
    },
    {
      "cell_type": "markdown",
      "metadata": {
        "id": "WcVqSTrWY6oz",
        "colab_type": "text"
      },
      "source": [
        "# Tensor - Pytorch's core data structure\n",
        "\n",
        "In Python we can create lists, lists of lists, lists of lists and so on. In NumPy there is a `numpy.ndarray` which represents `n`- dimensional array. In math there is a special name for the generalization of vectors and matrices to a higher dimensional space - a tensor\n",
        "\n",
        "Tensor is an entity with a defined number of dimensions called an order (rank). \n",
        "\n",
        "**Scalar** can be considered as a rank-0-tensor. \n",
        "\n",
        "**Vector** can be introduced as a rank-1-tensor. \n",
        "\n",
        "**Matrices** can be considered as a rank-2-tensor.\n",
        "\n",
        "# Tensor Basics\n",
        "\n",
        "Let's import the torch module first."
      ]
    },
    {
      "cell_type": "code",
      "metadata": {
        "id": "e-oFVL2tYYqp",
        "colab_type": "code",
        "colab": {}
      },
      "source": [
        "import numpy as np\n",
        "import torch"
      ],
      "execution_count": 0,
      "outputs": []
    },
    {
      "cell_type": "markdown",
      "metadata": {
        "id": "uGxuR5IEaFJa",
        "colab_type": "text"
      },
      "source": [
        "## Tensor Creation\n",
        "Let's view examples of matrices and tensors generation\n",
        "\n",
        "2-dimensional (rank-2) tensor of zeros:"
      ]
    },
    {
      "cell_type": "code",
      "metadata": {
        "id": "897JQc25aD3E",
        "colab_type": "code",
        "outputId": "6d7dfbff-13c8-436a-b692-ee6c7c84fa67",
        "colab": {
          "base_uri": "https://localhost:8080/",
          "height": 70
        }
      },
      "source": [
        "torch.zeros(3, 4)"
      ],
      "execution_count": 2,
      "outputs": [
        {
          "output_type": "execute_result",
          "data": {
            "text/plain": [
              "tensor([[0., 0., 0., 0.],\n",
              "        [0., 0., 0., 0.],\n",
              "        [0., 0., 0., 0.]])"
            ]
          },
          "metadata": {
            "tags": []
          },
          "execution_count": 2
        }
      ]
    },
    {
      "cell_type": "markdown",
      "metadata": {
        "id": "pujmpEBhaPRA",
        "colab_type": "text"
      },
      "source": [
        "Random rank-3 tensor:\n",
        "_read the print below and convince yourself how this is a rank-3-tensor and learn what those 2, 3, 4 values are there for_"
      ]
    },
    {
      "cell_type": "code",
      "metadata": {
        "id": "mBrznTNhaOL7",
        "colab_type": "code",
        "outputId": "5f9af99d-a913-41ca-e2a0-2d905e6184d9",
        "colab": {
          "base_uri": "https://localhost:8080/",
          "height": 140
        }
      },
      "source": [
        "torch.rand(2, 3, 4)"
      ],
      "execution_count": 3,
      "outputs": [
        {
          "output_type": "execute_result",
          "data": {
            "text/plain": [
              "tensor([[[0.5350, 0.4126, 0.3269, 0.3159],\n",
              "         [0.1714, 0.7640, 0.9911, 0.0439],\n",
              "         [0.6640, 0.4962, 0.0098, 0.1678]],\n",
              "\n",
              "        [[0.4762, 0.6758, 0.6289, 0.8902],\n",
              "         [0.3928, 0.4783, 0.7805, 0.0678],\n",
              "         [0.7011, 0.5981, 0.1123, 0.9137]]])"
            ]
          },
          "metadata": {
            "tags": []
          },
          "execution_count": 3
        }
      ]
    },
    {
      "cell_type": "markdown",
      "metadata": {
        "id": "kO4fIr15asdi",
        "colab_type": "text"
      },
      "source": [
        "I am hoping you have noticed 4-elements in a row, 3 rows making one block and there are 2 blocks. \n",
        "\n",
        "Random rank-4-tensor:"
      ]
    },
    {
      "cell_type": "code",
      "metadata": {
        "id": "KiCLvMGCaVZ3",
        "colab_type": "code",
        "outputId": "ef271aab-1529-459d-b713-60235b166126",
        "colab": {
          "base_uri": "https://localhost:8080/",
          "height": 228
        }
      },
      "source": [
        "torch.rand(2, 2, 2, 3)"
      ],
      "execution_count": 4,
      "outputs": [
        {
          "output_type": "execute_result",
          "data": {
            "text/plain": [
              "tensor([[[[0.7758, 0.3638, 0.3915],\n",
              "          [0.8603, 0.0708, 0.7990]],\n",
              "\n",
              "         [[0.5810, 0.5181, 0.5594],\n",
              "          [0.6407, 0.9462, 0.2282]]],\n",
              "\n",
              "\n",
              "        [[[0.3697, 0.3432, 0.1571],\n",
              "          [0.4273, 0.9722, 0.4466]],\n",
              "\n",
              "         [[0.6087, 0.5201, 0.1452],\n",
              "          [0.4923, 0.4091, 0.9059]]]])"
            ]
          },
          "metadata": {
            "tags": []
          },
          "execution_count": 4
        }
      ]
    },
    {
      "cell_type": "markdown",
      "metadata": {
        "id": "lF6VL68s3AMV",
        "colab_type": "text"
      },
      "source": [
        "## Question 1:\n",
        "\n",
        "How many dimensions are there in a tensor defined as below?"
      ]
    },
    {
      "cell_type": "code",
      "metadata": {
        "id": "8IbXcI3x3Ibt",
        "colab_type": "code",
        "colab": {}
      },
      "source": [
        "t = torch.rand(1, 1, 1, 1)"
      ],
      "execution_count": 0,
      "outputs": []
    },
    {
      "cell_type": "code",
      "metadata": {
        "id": "HJA4Dk5lkv2y",
        "colab_type": "code",
        "colab": {
          "base_uri": "https://localhost:8080/",
          "height": 34
        },
        "outputId": "41cfa8ef-fe79-4868-f1cb-a7ddb846943d"
      },
      "source": [
        "len(t.shape)"
      ],
      "execution_count": 6,
      "outputs": [
        {
          "output_type": "execute_result",
          "data": {
            "text/plain": [
              "4"
            ]
          },
          "metadata": {
            "tags": []
          },
          "execution_count": 6
        }
      ]
    },
    {
      "cell_type": "markdown",
      "metadata": {
        "id": "qmgpqssRa9jF",
        "colab_type": "text"
      },
      "source": [
        ".\n",
        "\n",
        "---\n",
        "\n",
        "\n",
        "There are many more ways to create tensor using some restrictions on values it should contatn - for the full reference, please follow the [official docs](https://pytorch.org/docs/stable/torch.html#creation-ops). \n",
        "\n",
        "\n",
        ".\n",
        "---\n",
        "\n",
        "\n",
        "# Python / NumPy / Pytorch interoperability\n",
        "\n",
        "You can create tensors from python as well as numpy arrays. You can also convert torch tensors to numpy arrays. So, the interoperability between torch and numpy is pretty good. "
      ]
    },
    {
      "cell_type": "code",
      "metadata": {
        "id": "ipgpeWPfa6gE",
        "colab_type": "code",
        "outputId": "a918bed8-ff46-4afb-9efc-5338ebac3eb5",
        "colab": {
          "base_uri": "https://localhost:8080/",
          "height": 122
        }
      },
      "source": [
        "# Simple Python List\n",
        "python_list = [1, 2]\n",
        "\n",
        "# Create a numpy array from python list\n",
        "numpy_array = np.array(python_list)\n",
        "\n",
        "# Create a torch Tensor from python list\n",
        "tensor_from_list = torch.tensor(python_list)\n",
        "\n",
        "# Create a torch Tensor from Numpy array\n",
        "tensor_from_array = torch.tensor(numpy_array)\n",
        "\n",
        "# Another way to create a torch Tensor from Numpy array (share same storage)\n",
        "tensor_from_array_v2 = torch.from_numpy(numpy_array)\n",
        "\n",
        "# Convert torch tensor to numpy array\n",
        "array_from_tensor = tensor_from_array.numpy()\n",
        "\n",
        "print('List:   ', python_list)\n",
        "print('Array:  ', numpy_array)\n",
        "print('Tensor: ', tensor_from_list)\n",
        "print('Tensor: ', tensor_from_array)\n",
        "print('Tensor: ', tensor_from_array_v2)\n",
        "print('Array:  ', array_from_tensor)"
      ],
      "execution_count": 7,
      "outputs": [
        {
          "output_type": "stream",
          "text": [
            "List:    [1, 2]\n",
            "Array:   [1 2]\n",
            "Tensor:  tensor([1, 2])\n",
            "Tensor:  tensor([1, 2])\n",
            "Tensor:  tensor([1, 2])\n",
            "Array:   [1 2]\n"
          ],
          "name": "stdout"
        }
      ]
    },
    {
      "cell_type": "markdown",
      "metadata": {
        "id": "X_x-86B8gqik",
        "colab_type": "text"
      },
      "source": [
        "**Difference between** `torch.Tensor` **and** `torch.from_numpy`\n",
        "\n",
        "Pytorch aims to be an effective library for computations. What does it mean? It means that pytorch avoids memory copying if it can. "
      ]
    },
    {
      "cell_type": "code",
      "metadata": {
        "id": "eHCKDGpygn_d",
        "colab_type": "code",
        "outputId": "8ce03a84-fa8a-4b12-ac38-76f140060c6a",
        "colab": {
          "base_uri": "https://localhost:8080/",
          "height": 70
        }
      },
      "source": [
        "numpy_array[0] = 10\n",
        "\n",
        "print('Array:  ', numpy_array)\n",
        "print('Tensor: ', tensor_from_array)\n",
        "print('Tensor: ', tensor_from_array_v2)"
      ],
      "execution_count": 8,
      "outputs": [
        {
          "output_type": "stream",
          "text": [
            "Array:   [10  2]\n",
            "Tensor:  tensor([1, 2])\n",
            "Tensor:  tensor([10,  2])\n"
          ],
          "name": "stdout"
        }
      ]
    },
    {
      "cell_type": "markdown",
      "metadata": {
        "id": "-CKtdNRM3SMp",
        "colab_type": "text"
      },
      "source": [
        "## Question 2:\n",
        "\n",
        "Assume that we moved our complete (cats vs dogs) image dataset to numpy arrays. Then we use torch.from_numpy to convert these images to tensor. Then we apply a specific data augmentation strategy called \"CutOut\" which blocks a portion of the image directly on these tensors. What will happen to the accuracy of a model trained on this strategy compared to the one without this strategy? CutOut strategy is shown below: \n",
        "\n",
        "![CutOut](https://encrypted-tbn0.gstatic.com/images?q=tbn%3AANd9GcSnSyN835AmtQPKQbPjDHX-FmshNilbtexX95cRGQPwl56QCGDn)\n",
        "\n",
        "## Question 3:\n",
        "Why do you think we are observing this behavior?\n",
        "\n",
        "\n",
        "\n",
        "---\n",
        "\n",
        "\n"
      ]
    },
    {
      "cell_type": "markdown",
      "metadata": {
        "id": "sFVcniWx5lo2",
        "colab_type": "text"
      },
      "source": [
        "## Answer 2\n",
        "\n",
        "The accuracy will be seriously affected as this data augmentation strategy will damage the original image. On next iteration the data will be damaged to start with and learning accuracy will be badly affected.\n",
        "\n",
        "## Answer 3\n",
        "\n",
        "This bahavior is observed as the memory is shared with `from_numpy` method and that will make the original numpy array being modified subsequently. "
      ]
    },
    {
      "cell_type": "markdown",
      "metadata": {
        "id": "dZq7O-aihSOA",
        "colab_type": "text"
      },
      "source": [
        "We have two different ways to create tensor from its NumPy counterpart - one copies memory and another one shares the same underlying storage. It works in the opposite way:"
      ]
    },
    {
      "cell_type": "code",
      "metadata": {
        "id": "TNFOwV8EhPwQ",
        "colab_type": "code",
        "outputId": "2cf06252-bdb0-4b97-fe73-f47593a8f4d0",
        "colab": {
          "base_uri": "https://localhost:8080/",
          "height": 87
        }
      },
      "source": [
        "array_from_tensor = tensor_from_array.numpy()\n",
        "print('Tensor: ', tensor_from_array)\n",
        "print('Array: ', array_from_tensor)\n",
        "\n",
        "tensor_from_array[0] = 11\n",
        "print('Tensor: ', tensor_from_array)\n",
        "print('Array: ', array_from_tensor)"
      ],
      "execution_count": 9,
      "outputs": [
        {
          "output_type": "stream",
          "text": [
            "Tensor:  tensor([1, 2])\n",
            "Array:  [1 2]\n",
            "Tensor:  tensor([11,  2])\n",
            "Array:  [11  2]\n"
          ],
          "name": "stdout"
        }
      ]
    },
    {
      "cell_type": "markdown",
      "metadata": {
        "id": "UM9ytbvKhtCw",
        "colab_type": "text"
      },
      "source": [
        "## Data types\n",
        "\n",
        "The basic data type of all Deep Learning-related operations is float, but sometimes you may need something else. Pytorch support different number types for its tensors the same way NumPy does it - by specifying the data type on tensor creation or via casting. Ths full list of supported data types can be found [here](https://pytorch.org/docs/stable/tensors.html). "
      ]
    },
    {
      "cell_type": "code",
      "metadata": {
        "id": "Bd6WkzJ4hpYi",
        "colab_type": "code",
        "outputId": "cfc8b43b-a629-437c-e92e-9d1797d2da76",
        "colab": {
          "base_uri": "https://localhost:8080/",
          "height": 158
        }
      },
      "source": [
        "tensor = torch.zeros(2, 2)\n",
        "print('Tensor with default type: ', tensor)\n",
        "tensor = torch.zeros(2, 2, dtype=torch.float16)\n",
        "print('Tensor with 16-bit float: ', tensor)\n",
        "tensor = torch.zeros(2, 2, dtype=torch.int16)\n",
        "print('Tensor with integers: ', tensor)\n",
        "tensor = torch.zeros(2, 2, dtype=torch.bool)\n",
        "print('Tensor with boolean data: ', tensor)"
      ],
      "execution_count": 10,
      "outputs": [
        {
          "output_type": "stream",
          "text": [
            "Tensor with default type:  tensor([[0., 0.],\n",
            "        [0., 0.]])\n",
            "Tensor with 16-bit float:  tensor([[0., 0.],\n",
            "        [0., 0.]], dtype=torch.float16)\n",
            "Tensor with integers:  tensor([[0, 0],\n",
            "        [0, 0]], dtype=torch.int16)\n",
            "Tensor with boolean data:  tensor([[False, False],\n",
            "        [False, False]])\n"
          ],
          "name": "stdout"
        }
      ]
    },
    {
      "cell_type": "markdown",
      "metadata": {
        "id": "a9F4Dkdr40TE",
        "colab_type": "text"
      },
      "source": [
        "\n",
        "\n",
        "---\n",
        "\n",
        "\n",
        "## Question 4:\n",
        "We saw above that some times numpy and tensors share same storage and changing one changes the other. \n",
        "If we define a rank-2-tensor with ones (dtype of f16), and then convert it into a numpy data type using tensor.numpy() and store it in a variable called \"num\", and then we perform this operation `num = num * 0.5`, will the original tensor have 1.0s or 0.5s as its element values? \n"
      ]
    },
    {
      "cell_type": "code",
      "metadata": {
        "id": "NiOkdx6A7UBH",
        "colab_type": "code",
        "colab": {
          "base_uri": "https://localhost:8080/",
          "height": 122
        },
        "outputId": "aaeb9bf5-86b8-4e48-9232-e1592b651759"
      },
      "source": [
        "tensor = torch.ones(2, 2, dtype=torch.float16)\n",
        "print(tensor)\n",
        "num = tensor.numpy()\n",
        "num = num * 0.5\n",
        "print(tensor)\n",
        "print(num)"
      ],
      "execution_count": 13,
      "outputs": [
        {
          "output_type": "stream",
          "text": [
            "tensor([[1., 1.],\n",
            "        [1., 1.]], dtype=torch.float16)\n",
            "tensor([[1., 1.],\n",
            "        [1., 1.]], dtype=torch.float16)\n",
            "[[0.5 0.5]\n",
            " [0.5 0.5]]\n"
          ],
          "name": "stdout"
        }
      ]
    },
    {
      "cell_type": "markdown",
      "metadata": {
        "id": "OiQt8Mmm51OE",
        "colab_type": "text"
      },
      "source": [
        "\n",
        "\n",
        "---\n",
        "\n",
        "## Question 5: \n",
        "If the operation `num = num*5` is changed to `num[:] = num*5` will the original tensor have 1.0s or 0.5s as its element values? \n",
        "\n",
        "\n",
        "\n",
        "---\n",
        "\n"
      ]
    },
    {
      "cell_type": "code",
      "metadata": {
        "id": "WK1NLcQT7-dH",
        "colab_type": "code",
        "colab": {
          "base_uri": "https://localhost:8080/",
          "height": 122
        },
        "outputId": "4a99848a-c0b7-461e-deb9-0c08bab26b05"
      },
      "source": [
        "tensor = torch.ones(2, 2, dtype=torch.float16)\n",
        "print(tensor)\n",
        "num = tensor.numpy()\n",
        "num[:] = num * 0.5\n",
        "print(tensor)\n",
        "print(num)"
      ],
      "execution_count": 14,
      "outputs": [
        {
          "output_type": "stream",
          "text": [
            "tensor([[1., 1.],\n",
            "        [1., 1.]], dtype=torch.float16)\n",
            "tensor([[0.5000, 0.5000],\n",
            "        [0.5000, 0.5000]], dtype=torch.float16)\n",
            "[[0.5 0.5]\n",
            " [0.5 0.5]]\n"
          ],
          "name": "stdout"
        }
      ]
    },
    {
      "cell_type": "markdown",
      "metadata": {
        "id": "vzh8UB8KiVmb",
        "colab_type": "text"
      },
      "source": [
        "## Indexing\n",
        "\n",
        "Tensor provides access to its elements via the same `[]` operation as a regular python list or NumPy array. However, as you may recall from NumPy usage, the full power of math libraries is accessible only via vectorized operations, i.e. operations without explicit looping over all vector elements in python and using implicit optimized loops in C/C++/CUDA/Fortran/etc. available via special function calls. Pytorch employs the same paradigm and provides a wide range of vectorized operations. Let's take a look at some examples. \n",
        "\n",
        "Joining a list of tensors together with `torch.cat`"
      ]
    },
    {
      "cell_type": "code",
      "metadata": {
        "id": "GMaCDKPhiUAb",
        "colab_type": "code",
        "outputId": "d28274bd-dd5b-4b6e-b57f-5aaaf6dede08",
        "colab": {
          "base_uri": "https://localhost:8080/",
          "height": 122
        }
      },
      "source": [
        "a = torch.zeros(3, 2)\n",
        "b = torch.ones(3, 2)\n",
        "print(torch.cat((a, b), dim=0))"
      ],
      "execution_count": 15,
      "outputs": [
        {
          "output_type": "stream",
          "text": [
            "tensor([[0., 0.],\n",
            "        [0., 0.],\n",
            "        [0., 0.],\n",
            "        [1., 1.],\n",
            "        [1., 1.],\n",
            "        [1., 1.]])\n"
          ],
          "name": "stdout"
        }
      ]
    },
    {
      "cell_type": "markdown",
      "metadata": {
        "id": "5bj4aeE86zdH",
        "colab_type": "text"
      },
      "source": [
        "\n",
        "\n",
        "---\n",
        "\n",
        "## Question 6: \n",
        "Is the transpose of concatenated a & b tensor on dimension 1, same as the contatenated tensor of a & b on dimension 0? \n",
        "\n",
        "\n",
        "\n",
        "---\n",
        "\n"
      ]
    },
    {
      "cell_type": "code",
      "metadata": {
        "id": "4Y_IdFtI8T2H",
        "colab_type": "code",
        "colab": {
          "base_uri": "https://localhost:8080/",
          "height": 87
        },
        "outputId": "ddfbd43c-d10c-42aa-d6ef-45e441606ee6"
      },
      "source": [
        "a = torch.zeros(3, 2)\n",
        "b = torch.ones(3, 2)\n",
        "a = a.transpose(0, 1)\n",
        "b = b.transpose(0, 1)\n",
        "print(torch.cat((a, b), dim=0))"
      ],
      "execution_count": 18,
      "outputs": [
        {
          "output_type": "stream",
          "text": [
            "tensor([[0., 0., 0.],\n",
            "        [0., 0., 0.],\n",
            "        [1., 1., 1.],\n",
            "        [1., 1., 1.]])\n"
          ],
          "name": "stdout"
        }
      ]
    },
    {
      "cell_type": "markdown",
      "metadata": {
        "id": "0TXNne69j7LP",
        "colab_type": "text"
      },
      "source": [
        "Indexing with another tenxor/array:"
      ]
    },
    {
      "cell_type": "code",
      "metadata": {
        "id": "KiE-Fsi4jVd6",
        "colab_type": "code",
        "outputId": "c5db202d-3aad-450f-c4b1-bc57c1cd9b9e",
        "colab": {
          "base_uri": "https://localhost:8080/",
          "height": 105
        }
      },
      "source": [
        "a = torch.arange(start=0, end=10)\n",
        "indices = np.arange(0, 10) > 5\n",
        "print(a)\n",
        "print(indices)\n",
        "print(a[indices])\n",
        "\n",
        "indices = torch.arange(start=0, end=10) %5\n",
        "print(indices)\n",
        "print(a[indices])"
      ],
      "execution_count": 21,
      "outputs": [
        {
          "output_type": "stream",
          "text": [
            "tensor([0, 1, 2, 3, 4, 5, 6, 7, 8, 9])\n",
            "[False False False False False False  True  True  True  True]\n",
            "tensor([6, 7, 8, 9])\n",
            "tensor([0, 1, 2, 3, 4, 0, 1, 2, 3, 4])\n",
            "tensor([0, 1, 2, 3, 4, 0, 1, 2, 3, 4])\n"
          ],
          "name": "stdout"
        }
      ]
    },
    {
      "cell_type": "markdown",
      "metadata": {
        "id": "LS4dnlu47WQu",
        "colab_type": "text"
      },
      "source": [
        "\n",
        "\n",
        "---\n",
        "\n",
        "## Question 7:\n",
        "\n",
        "`a` is defined as `torch.arange(start=0, end=10)`. We will create `b` using the two operations as below. In both cases do we get the same value?\n",
        "\n",
        "\n",
        "1.   indices variable created by the modulo operation on arange between 0 and 10. Then a new varialble `b` is created from `a` using the last 5 elements of indices. \n",
        "2.   indices variable created by the modulo operation on arange betwenn 1 and 11. Then a new varialble `b` is created from `a` using the last 5 elements of indices. \n",
        "\n",
        "\n",
        "\n",
        "---\n",
        "\n",
        "\n"
      ]
    },
    {
      "cell_type": "code",
      "metadata": {
        "id": "Q0_uKnxN9mnZ",
        "colab_type": "code",
        "colab": {
          "base_uri": "https://localhost:8080/",
          "height": 87
        },
        "outputId": "370de1af-5fc6-4cf1-f852-f4d909ef28b6"
      },
      "source": [
        "a = torch.arange(start=0, end=10)\n",
        "b = a % 5\n",
        "print(b)\n",
        "b = b[5:]\n",
        "print(b)\n",
        "\n",
        "a = torch.arange(start=1, end=11)\n",
        "b = a % 5\n",
        "print(b)\n",
        "b = b[5:]\n",
        "print(b)\n",
        "\n"
      ],
      "execution_count": 29,
      "outputs": [
        {
          "output_type": "stream",
          "text": [
            "tensor([0, 1, 2, 3, 4, 0, 1, 2, 3, 4])\n",
            "tensor([0, 1, 2, 3, 4])\n",
            "tensor([1, 2, 3, 4, 0, 1, 2, 3, 4, 0])\n",
            "tensor([1, 2, 3, 4, 0])\n"
          ],
          "name": "stdout"
        }
      ]
    },
    {
      "cell_type": "markdown",
      "metadata": {
        "id": "eQ4ZCVsTk-KH",
        "colab_type": "text"
      },
      "source": [
        "What should we do if we have, say, rank-2-tensor and want to select only some rows?"
      ]
    },
    {
      "cell_type": "code",
      "metadata": {
        "id": "_GtRpotjkt1q",
        "colab_type": "code",
        "outputId": "00d4728c-5268-41da-b2fe-9a4591651d0c",
        "colab": {
          "base_uri": "https://localhost:8080/",
          "height": 140
        }
      },
      "source": [
        "tensor = torch.rand((5, 3))\n",
        "rows = torch.tensor([0, 2])\n",
        "print(tensor)\n",
        "tensor[rows]"
      ],
      "execution_count": 23,
      "outputs": [
        {
          "output_type": "stream",
          "text": [
            "tensor([[0.5600, 0.0694, 0.7358],\n",
            "        [0.2167, 0.9088, 0.4216],\n",
            "        [0.9790, 0.8097, 0.8023],\n",
            "        [0.5351, 0.3691, 0.0814],\n",
            "        [0.5065, 0.2394, 0.0645]])\n"
          ],
          "name": "stdout"
        },
        {
          "output_type": "execute_result",
          "data": {
            "text/plain": [
              "tensor([[0.5600, 0.0694, 0.7358],\n",
              "        [0.9790, 0.8097, 0.8023]])"
            ]
          },
          "metadata": {
            "tags": []
          },
          "execution_count": 23
        }
      ]
    },
    {
      "cell_type": "markdown",
      "metadata": {
        "id": "zIJnr_N2_Qaf",
        "colab_type": "text"
      },
      "source": [
        "\n",
        "\n",
        "---\n",
        "\n",
        "## Question 8: \n",
        "\n",
        "Consider a tensor defined as `torch.rand((6, 5))`. Is the shape of the new tensor created by taking the 0th, 2nd and 4th row of the old tensor same as the shape of the a newer tensor created by taking the 0th, 2nd and 4th row of the old tensor after transposing it by operation `torch.transpose(tensor, 0, 1)` ?\n",
        "\n",
        "\n",
        "\n",
        "---\n",
        "\n",
        "\n"
      ]
    },
    {
      "cell_type": "code",
      "metadata": {
        "id": "2mdMBLdc-1M_",
        "colab_type": "code",
        "colab": {
          "base_uri": "https://localhost:8080/",
          "height": 122
        },
        "outputId": "a43d5485-cefc-4784-8e96-1adaadc5e636"
      },
      "source": [
        "t = torch.rand((6, 5))\n",
        "tt = torch.transpose(t, 0, 1)\n",
        "\n",
        "t1 = t[torch.tensor([0, 2, 4])]\n",
        "t2 = tt[torch.tensor([0, 2, 4])]\n",
        "\n",
        "print(t1)\n",
        "print(t2)"
      ],
      "execution_count": 35,
      "outputs": [
        {
          "output_type": "stream",
          "text": [
            "tensor([[0.9208, 0.2269, 0.4405, 0.1653, 0.5713],\n",
            "        [0.9881, 0.7991, 0.7693, 0.9645, 0.0325],\n",
            "        [0.4923, 0.3683, 0.4404, 0.7825, 0.9515]])\n",
            "tensor([[0.9208, 0.4590, 0.9881, 0.7067, 0.4923, 0.2495],\n",
            "        [0.4405, 0.5552, 0.7693, 0.0167, 0.4404, 0.6272],\n",
            "        [0.5713, 0.8351, 0.0325, 0.7707, 0.9515, 0.9545]])\n"
          ],
          "name": "stdout"
        }
      ]
    },
    {
      "cell_type": "markdown",
      "metadata": {
        "id": "naDzFMkslU0b",
        "colab_type": "text"
      },
      "source": [
        "## Tensor Shapes\n",
        "\n",
        "Reshaping a tensor is a frequently used operation. We can change the shape of a tensor without the memory copying overhead. There are two methods for that: `reshape` and `view`. \n",
        "\n",
        "The difference is the following: \n",
        "\n",
        "\n",
        "*   view tries to return a tensor, and it shares the same memory with the original tensor. In case, if it cannot reuse the same memory due to [some reason](https://pytorch.org/docs/stable/tensors.html?highlight=view#torch.Tensor.view), it just fails. \n",
        "*   reshape always returns the tensor with the desired shape and tries to reuse the memory. If it cannot, it creates a copy\n",
        "\n",
        "Let's see with the help of an example:"
      ]
    },
    {
      "cell_type": "code",
      "metadata": {
        "id": "HClDkqLLlMJh",
        "colab_type": "code",
        "outputId": "d385f0cb-b4f9-4f28-cc80-eebd4f80d0b5",
        "colab": {
          "base_uri": "https://localhost:8080/",
          "height": 175
        }
      },
      "source": [
        "tensor = torch.rand(2, 3, 4)\n",
        "print('Pointer to data: ', tensor.data_ptr())\n",
        "print('Shape: ', tensor.shape)\n",
        "\n",
        "reshaped = tensor.reshape(24)\n",
        "\n",
        "view = tensor.view(3, 2, 4)\n",
        "print('Reshaped tensor - pointer to data', reshaped.data_ptr())\n",
        "print('Reshaped tensor shape ', reshaped.shape)\n",
        "\n",
        "print('Viewed tensor - pointer to data', view.data_ptr())\n",
        "print('Viewed tensor shape ', view.shape)\n",
        "\n",
        "assert tensor.data_ptr() == view.data_ptr()\n",
        "\n",
        "assert np.all(np.equal(tensor.numpy().flat, reshaped.numpy().flat))\n",
        "\n",
        "print('Original stride: ', tensor.stride())\n",
        "print('Reshaped stride: ', reshaped.stride())\n",
        "print('Viewed stride: ', view.stride())"
      ],
      "execution_count": 36,
      "outputs": [
        {
          "output_type": "stream",
          "text": [
            "Pointer to data:  73265920\n",
            "Shape:  torch.Size([2, 3, 4])\n",
            "Reshaped tensor - pointer to data 73265920\n",
            "Reshaped tensor shape  torch.Size([24])\n",
            "Viewed tensor - pointer to data 73265920\n",
            "Viewed tensor shape  torch.Size([3, 2, 4])\n",
            "Original stride:  (12, 4, 1)\n",
            "Reshaped stride:  (1,)\n",
            "Viewed stride:  (8, 4, 1)\n"
          ],
          "name": "stdout"
        }
      ]
    },
    {
      "cell_type": "markdown",
      "metadata": {
        "id": "jIN5jSppm4yC",
        "colab_type": "text"
      },
      "source": [
        "The basic rule about reshaping the tensor is definitely that you cannot change the total number of elements in it, so the product of all tensor's dimensions should always be the same. It gives us the ability to avoid specifying one dimension when reshaping the tensor - Pytorch can calculate it for us:"
      ]
    },
    {
      "cell_type": "code",
      "metadata": {
        "id": "e3D19ERFmzOl",
        "colab_type": "code",
        "outputId": "9cc66344-1e4b-4be9-bad4-e3ab77b0ead1",
        "colab": {
          "base_uri": "https://localhost:8080/",
          "height": 70
        }
      },
      "source": [
        "print(tensor.reshape(3, 2, 4).shape)\n",
        "print(tensor.reshape(3, 2, -1).shape)\n",
        "print(tensor.reshape(3, -1, 4).shape)"
      ],
      "execution_count": 37,
      "outputs": [
        {
          "output_type": "stream",
          "text": [
            "torch.Size([3, 2, 4])\n",
            "torch.Size([3, 2, 4])\n",
            "torch.Size([3, 2, 4])\n"
          ],
          "name": "stdout"
        }
      ]
    },
    {
      "cell_type": "markdown",
      "metadata": {
        "id": "ObgCQKUiETak",
        "colab_type": "text"
      },
      "source": [
        "\n",
        "\n",
        "---\n",
        "\n",
        "\n",
        "## Question 9:\n",
        "\n",
        "Consider a tensor `a` created with [1, 2, 3] and [1, 2, 3] of size (2, 3) is reshaped with operation `.reshape(-1, 2)`. Also consider a tensor `b` created with [[2, 1]] and of size (1, 2), later operated with `view(2, -1)` operation. \n",
        "\n",
        "If we do a dot product of a and b (using `torch.mm`) and perform the sum of all the elements (using `torch.sum`) what do we get? (enter int value without any decimal point in the quiz)\n",
        "\n",
        "\n",
        "\n",
        "---\n",
        "\n"
      ]
    },
    {
      "cell_type": "code",
      "metadata": {
        "id": "x3iJRVhMBQrd",
        "colab_type": "code",
        "colab": {
          "base_uri": "https://localhost:8080/",
          "height": 193
        },
        "outputId": "f403c952-cd3b-4bc3-bebb-5350a0b9c8a0"
      },
      "source": [
        "a = torch.tensor([[1, 2, 3],[1, 2, 3]])\n",
        "print(a.shape)\n",
        "a = a.reshape(-1, 2)\n",
        "print(a)\n",
        "\n",
        "b = torch.tensor([[2, 1]])\n",
        "print(b.shape)\n",
        "b = b.view(2, -1)\n",
        "print(b)\n",
        "\n",
        "torch.mm(a, b)"
      ],
      "execution_count": 48,
      "outputs": [
        {
          "output_type": "stream",
          "text": [
            "torch.Size([2, 3])\n",
            "tensor([[1, 2],\n",
            "        [3, 1],\n",
            "        [2, 3]])\n",
            "torch.Size([1, 2])\n",
            "tensor([[2],\n",
            "        [1]])\n"
          ],
          "name": "stdout"
        },
        {
          "output_type": "execute_result",
          "data": {
            "text/plain": [
              "tensor([[4],\n",
              "        [7],\n",
              "        [7]])"
            ]
          },
          "metadata": {
            "tags": []
          },
          "execution_count": 48
        }
      ]
    },
    {
      "cell_type": "markdown",
      "metadata": {
        "id": "mza7QPg3ndeV",
        "colab_type": "text"
      },
      "source": [
        "**Alternative ways to view tensors** - `expand` or `expand_as`.\n",
        "\n",
        "\n",
        "\n",
        "*   `expand` - requires the desired shape as an input\n",
        "*   `expand_as` - uses the shape of another tensor\n",
        "\n",
        "These operations \"repeat\" tensor's values along the specified axes without actually copying the data. \n",
        "\n",
        "As the documentation says, expand:\n",
        "\n",
        "\n",
        "> returns a new view of the self tensor with singleton dimensions expanded to a larger size. Tensor can be also expanded to a larger number of dimensions, and the new ones will be appended at the front. For the new dimensions, the size cannot be set to -1. \n",
        "\n",
        "**Use case:**\n",
        "\n",
        "\n",
        "\n",
        "*   index multi-channel tensor with single-channel mask - imagine a color image with 3 channels (RGB) and binary mask for the area of interest on that image. We cannot index the image with this kind of mask directly since the dimensions are different, but we can use `expand_as` operation to create a view of the mask that has the same dimensions as the image we want to apply it to, but has not copied the data. "
      ]
    },
    {
      "cell_type": "code",
      "metadata": {
        "id": "iz33E-V7nPQT",
        "colab_type": "code",
        "outputId": "8bcfc71f-b0bb-4c37-e5e0-5c4ffa38aacb",
        "colab": {
          "base_uri": "https://localhost:8080/",
          "height": 596
        }
      },
      "source": [
        "%matplotlib inline\n",
        "from matplotlib import pyplot as plt\n",
        "\n",
        "# Create a black image\n",
        "image = torch.zeros(size=(3, 256, 256), dtype=torch.int)\n",
        "\n",
        "# Leave the borders and make the rest of the image Green\n",
        "image[1, 18:256 - 18, 18:256 - 18] = 255\n",
        "\n",
        "# Create a mask of the same size\n",
        "mask = torch.zeros(size=(256, 256), dtype=torch.bool)\n",
        "\n",
        "# Assuming the green region in the original image is the Region of interest, change the mask to white for that area\n",
        "mask[18:256 - 18, 18:256 - 18] = 1\n",
        "\n",
        "# Create a view of the mask with the same dimensions as the original image\n",
        "mask_expanded = mask.expand_as(image)\n",
        "print(mask_expanded.shape)\n",
        "\n",
        "mask_np = mask_expanded.numpy().transpose(1, 2, 0) * 255\n",
        "image_np = image.numpy().transpose(1, 2, 0)\n",
        "\n",
        "fig, ax = plt.subplots(1, 2)\n",
        "ax[0].imshow(image_np)\n",
        "ax[1].imshow(mask_np)\n",
        "plt.show()\n",
        "\n",
        "image[0, mask] += 128\n",
        "fig, ax = plt.subplots(1, 2)\n",
        "ax[0].imshow(image_np)\n",
        "ax[1].imshow(mask_np)\n",
        "plt.show()\n",
        "\n",
        "image[mask_expanded] += 128\n",
        "image.clamp_(0, 255)\n",
        "fig, ax = plt.subplots(1, 2)\n",
        "ax[0].imshow(image_np)\n",
        "ax[1].imshow(mask_np)\n",
        "plt.show()"
      ],
      "execution_count": 0,
      "outputs": [
        {
          "output_type": "stream",
          "text": [
            "torch.Size([3, 256, 256])\n"
          ],
          "name": "stdout"
        },
        {
          "output_type": "display_data",
          "data": {
            "image/png": "[encoded data removed]",
            "text/plain": [
              "<Figure size 432x288 with 2 Axes>"
            ]
          },
          "metadata": {
            "tags": []
          }
        },
        {
          "output_type": "display_data",
          "data": {
            "image/png": "[encoded data removed]",
            "text/plain": [
              "<Figure size 432x288 with 2 Axes>"
            ]
          },
          "metadata": {
            "tags": []
          }
        },
        {
          "output_type": "display_data",
          "data": {
            "image/png": "[encoded data removed]",
            "text/plain": [
              "<Figure size 432x288 with 2 Axes>"
            ]
          },
          "metadata": {
            "tags": []
          }
        }
      ]
    },
    {
      "cell_type": "markdown",
      "metadata": {
        "id": "jiXBx0k3ptOI",
        "colab_type": "text"
      },
      "source": [
        "In the example above, one can also find a couple of useful tricks:\n",
        "\n",
        "\n",
        "*   `clamp` method and function is a Pytorch's analogue of NumPy's `clip` function\n",
        "*   many operations on tensors have in-place form, that does not return modified data, but change values in the tensor. The in-place version of the operation has trailing underscore according to Pytorch's naming convension - in the exmaple above it is `clamp_`\n",
        "*   tensors have the same indexing as Numpy's arrays - one can use `:` seperated range, negative indexes and so on.\n",
        "\n",
        "\n",
        ".\n",
        "\n",
        "\n",
        "---\n",
        "\n",
        "# Images and their representations\n",
        "\n",
        "Now, let's discuss images, their representations and how different Python librarties work with them. \n",
        "\n",
        "Probably, the most well-known library for image loading and simple processing is [Pillow](https://pillow.readthedocs.io/en/stable/). \n",
        "\n",
        "However, many people in deep learning area stick with OpenCV for image loading and processing with some usage of another libraries when it is justified by performance/functionality. This is because OpenCV is in general much faster than the other libraries. Here you can find a couple of benchmarks: \n",
        "\n",
        "*   https://www.kaggle.com/zfturbo/benchmark-2019-speed-of-image-reading\n",
        "*   https://github.com/albumentations-team/albumentations#benchmarking-results\n",
        "\n",
        "To sum up the benchmarks above, there are two most common image formats, PNG and JPEGs. If your data is in PNG format - use OpenCV to read it. If it is in JPEG - use libturbojpeg. For image processing, use OpenCV if possible. _We will be using PIL a lot along with these._\n",
        "\n",
        "As you will read the code from others, you may find out that some of them use Pillow/something else to read data. You should know, that color image representations in OpenCV and other libraries are different - OpenCV uses \"BGR\" channel order, while others use \"RGB\" one. \n",
        "\n",
        "To change \"BRG\" <-> \"RGB\" the only thing we need to do it to change channel order."
      ]
    },
    {
      "cell_type": "code",
      "metadata": {
        "id": "ZYv4sZMmpndu",
        "colab_type": "code",
        "outputId": "f456a30b-7f48-449e-9beb-5d33a881e067",
        "colab": {
          "base_uri": "https://localhost:8080/",
          "height": 346
        }
      },
      "source": [
        "%matplotlib inline\n",
        "from matplotlib import pyplot as plt\n",
        "import cv2\n",
        "\n",
        "\n",
        "!wget -O mars.jpg  https://encrypted-tbn0.gstatic.com/images?q=tbn%3AANd9GcRCA40ftnscVzfV8ft8e7vIzQXfXeZdtco8nknJrfCUW6INI40U\n",
        "\n",
        "bgr_image = cv2.imread('mars.jpg') \n",
        "# remember to add your own image in case you run this block, if you want to use the same image, \n",
        "# download it from: https://encrypted-tbn0.gstatic.com/images?q=tbn%3AANd9GcRCA40ftnscVzfV8ft8e7vIzQXfXeZdtco8nknJrfCUW6INI40U\n",
        "rgb_image = bgr_image[..., ::-1]\n",
        "fig, ax = plt.subplots(1, 2)\n",
        "ax[0].imshow(bgr_image)\n",
        "ax[1].imshow(rgb_image)\n",
        "plt.show()"
      ],
      "execution_count": 50,
      "outputs": [
        {
          "output_type": "stream",
          "text": [
            "--2020-02-06 10:29:21--  https://encrypted-tbn0.gstatic.com/images?q=tbn%3AANd9GcRCA40ftnscVzfV8ft8e7vIzQXfXeZdtco8nknJrfCUW6INI40U\n",
            "Resolving encrypted-tbn0.gstatic.com (encrypted-tbn0.gstatic.com)... 172.217.214.100, 172.217.214.113, 172.217.214.102, ...\n",
            "Connecting to encrypted-tbn0.gstatic.com (encrypted-tbn0.gstatic.com)|172.217.214.100|:443... connected.\n",
            "HTTP request sent, awaiting response... 200 OK\n",
            "Length: 18915 (18K) [image/jpeg]\n",
            "Saving to: ‘mars.jpg’\n",
            "\n",
            "\rmars.jpg              0%[                    ]       0  --.-KB/s               \rmars.jpg            100%[===================>]  18.47K  --.-KB/s    in 0s      \n",
            "\n",
            "2020-02-06 10:29:21 (166 MB/s) - ‘mars.jpg’ saved [18915/18915]\n",
            "\n"
          ],
          "name": "stdout"
        },
        {
          "output_type": "display_data",
          "data": {
            "image/png": "[encoded data removed]",
            "text/plain": [
              "<Figure size 432x288 with 2 Axes>"
            ]
          },
          "metadata": {
            "tags": []
          }
        }
      ]
    },
    {
      "cell_type": "markdown",
      "metadata": {
        "id": "yoi4TeNBGHle",
        "colab_type": "text"
      },
      "source": [
        "\n",
        "\n",
        "---\n",
        "\n",
        "## Question 10:\n",
        "\n",
        "Looking at the results above it can be said that the pixel values in the blue channels would be very small compared to red channel. True/False?\n",
        "\n",
        "\n",
        "---\n",
        "\n",
        "\n"
      ]
    },
    {
      "cell_type": "markdown",
      "metadata": {
        "id": "5-alh_HdDPqF",
        "colab_type": "text"
      },
      "source": [
        "True"
      ]
    },
    {
      "cell_type": "markdown",
      "metadata": {
        "id": "b3ugFd57zNwa",
        "colab_type": "text"
      },
      "source": [
        "# Autograd\n",
        "\n",
        "Pytorch supports automatic differentiation. The module which implements this is called **AutoGrad**. It calculates the gradients and keeps track in forward and backward passes. For primitive tensors, you need to enable or disable it using the `required_grad` flag. But, for advanced tensors, it is enabled by default"
      ]
    },
    {
      "cell_type": "code",
      "metadata": {
        "id": "VMOp4aiou6JR",
        "colab_type": "code",
        "outputId": "787b097d-023a-4815-c0de-f77963875274",
        "colab": {
          "base_uri": "https://localhost:8080/",
          "height": 193
        }
      },
      "source": [
        "a = torch.rand((3, 5), requires_grad = True)\n",
        "print(a)\n",
        "result = a * 5\n",
        "print(result)\n",
        "\n",
        "# grad can be implicitly created only for scalar outputs\n",
        "# so let's calculate the sum here so that the output becomes a scalar and we can apply a backward pass\n",
        "mean_result = result.sum()\n",
        "print(mean_result)\n",
        "# calculate gradient\n",
        "mean_result.backward()\n",
        "# print gradient of a\n",
        "print(a.grad)"
      ],
      "execution_count": 51,
      "outputs": [
        {
          "output_type": "stream",
          "text": [
            "tensor([[0.1105, 0.0736, 0.6418, 0.3578, 0.5904],\n",
            "        [0.9763, 0.5914, 0.5178, 0.8022, 0.3171],\n",
            "        [0.7335, 0.8140, 0.2582, 0.2686, 0.8510]], requires_grad=True)\n",
            "tensor([[0.5527, 0.3680, 3.2092, 1.7890, 2.9522],\n",
            "        [4.8815, 2.9568, 2.5890, 4.0110, 1.5853],\n",
            "        [3.6675, 4.0699, 1.2912, 1.3431, 4.2552]], grad_fn=<MulBackward0>)\n",
            "tensor(39.5215, grad_fn=<SumBackward0>)\n",
            "tensor([[5., 5., 5., 5., 5.],\n",
            "        [5., 5., 5., 5., 5.],\n",
            "        [5., 5., 5., 5., 5.]])\n"
          ],
          "name": "stdout"
        }
      ]
    },
    {
      "cell_type": "markdown",
      "metadata": {
        "id": "ym0Amk2IGfLx",
        "colab_type": "text"
      },
      "source": [
        "\n",
        "\n",
        "---\n",
        "\n",
        "## Question 11: \n",
        "\n",
        "Why the gradient of a is all 5s above?\n",
        "\n",
        "\n",
        "\n",
        "---\n",
        "\n"
      ]
    },
    {
      "cell_type": "markdown",
      "metadata": {
        "id": "7PDgGq2R0k7I",
        "colab_type": "text"
      },
      "source": [
        "As we see, Pytorch automagically calculated the gradient value for us. It looks to be the correct value - we multiplied an input by 5, so the gradient of this operation equals to 5.\n",
        "\n",
        "# Disabling Autograd for tensors\n",
        "\n",
        "We don't need to compute gradients for all the variables that are involved in the pipeline. The Pytorch API provides 2 ways to disable autograd.\n",
        "\n",
        "`detach` - returns a copy of the tensor with autograd disabled. This \n",
        "\n",
        "1.   copy is built on the same memory as the original tensor, so in-place size / stride / storage changes (such as resize_ / resizeas / set / transpose) modifications are not allowed.\n",
        "2.   torch.no_grad() - It is a context manager that allows you to guard a series of operations from autograd without creating new tensors."
      ]
    },
    {
      "cell_type": "code",
      "metadata": {
        "id": "yqVG9fQb0cLW",
        "colab_type": "code",
        "outputId": "de9f0fc1-c875-4f68-8928-1950f354ba45",
        "colab": {
          "base_uri": "https://localhost:8080/",
          "height": 70
        }
      },
      "source": [
        "a = torch.rand((3, 5), requires_grad=True)\n",
        "detached_a = a.detach()\n",
        "detached_result = detached_a * 5\n",
        "result = a * 10\n",
        "# we cannot do backward pass that is required for autograd using multideminsional output,\n",
        "# so let's calculate the sum here\n",
        "mean_result = result.sum()\n",
        "mean_result.backward()\n",
        "a.grad"
      ],
      "execution_count": 52,
      "outputs": [
        {
          "output_type": "execute_result",
          "data": {
            "text/plain": [
              "tensor([[10., 10., 10., 10., 10.],\n",
              "        [10., 10., 10., 10., 10.],\n",
              "        [10., 10., 10., 10., 10.]])"
            ]
          },
          "metadata": {
            "tags": []
          },
          "execution_count": 52
        }
      ]
    },
    {
      "cell_type": "code",
      "metadata": {
        "id": "uqpch2Be02J7",
        "colab_type": "code",
        "outputId": "abc6f9c9-d861-44bd-caee-f54f48231fbb",
        "colab": {
          "base_uri": "https://localhost:8080/",
          "height": 70
        }
      },
      "source": [
        "a = torch.rand((3, 5), requires_grad=True)\n",
        "with torch.no_grad():\n",
        "    detached_result = a * 5\n",
        "result = a * 10\n",
        "# we cannot do backward pass that is required for autograd using multideminsional output,\n",
        "# so let's calculate the sum here\n",
        "mean_result = result.sum()\n",
        "mean_result.backward()\n",
        "a.grad"
      ],
      "execution_count": 53,
      "outputs": [
        {
          "output_type": "execute_result",
          "data": {
            "text/plain": [
              "tensor([[10., 10., 10., 10., 10.],\n",
              "        [10., 10., 10., 10., 10.],\n",
              "        [10., 10., 10., 10., 10.]])"
            ]
          },
          "metadata": {
            "tags": []
          },
          "execution_count": 53
        }
      ]
    },
    {
      "cell_type": "markdown",
      "metadata": {
        "id": "vjh2rYOPJUAZ",
        "colab_type": "text"
      },
      "source": [
        "# Custom Network\n",
        "\n",
        "A fully-connected ReLU network with one hidden layer and no biases, trained to predict y from x by minimizing squared Euclidean distance.\n",
        "\n",
        "This implementation uses PyTorch tensors to manually compute the forward pass, loss, and backward pass.\n",
        "\n",
        "A PyTorch Tensor is basically the same as a numpy array: it does not know anything about deep learning or computational graphs or gradients, and is just a generic n-dimensional array to be used for arbitrary numeric computation.\n",
        "\n",
        "The biggest difference between a numpy array and a PyTorch Tensor is that a PyTorch Tensor can run on either CPU or GPU. To run operations on the GPU, just cast the Tensor to a cuda datatype."
      ]
    },
    {
      "cell_type": "code",
      "metadata": {
        "id": "0nf5RaB104Vp",
        "colab_type": "code",
        "outputId": "78a5e199-907e-4153-e697-14608cd97699",
        "colab": {
          "base_uri": "https://localhost:8080/",
          "height": 1000
        }
      },
      "source": [
        "dtype = torch.float\n",
        "device = torch.device(\"cpu\")\n",
        "# device = torch.device(\"cuda:0\") # Uncomment this to run on GPU\n",
        "\n",
        "# N is batch size; D_in is input dimension;\n",
        "# H is hidden dimension; D_out is output dimension.\n",
        "N, D_in, H, D_out = 64, 1000, 100, 10\n",
        "\n",
        "# Create random input and output data\n",
        "x = torch.randn(N, D_in, device=device, dtype=dtype)\n",
        "y = torch.randn(N, D_out, device=device, dtype=dtype)\n",
        "\n",
        "# Randomly initialize weights\n",
        "w1 = torch.randn(D_in, H, device=device, dtype=dtype)\n",
        "w2 = torch.randn(H, D_out, device=device, dtype=dtype)\n",
        "\n",
        "learning_rate = 1e-6\n",
        "for t in range(500):\n",
        "    # Forward pass: compute predicted y\n",
        "    h = x.mm(w1)\n",
        "    h_relu = h.clamp(min=0)\n",
        "    y_pred = h_relu.mm(w2)\n",
        "\n",
        "    # Compute and print loss\n",
        "    loss = (y_pred - y).pow(2).sum().item()\n",
        "    print(t, loss)\n",
        "\n",
        "    # Backprop to compute gradients of w1 and w2 with respect to loss\n",
        "    grad_y_pred = 2*(y_pred - y)\n",
        "    grad_w2 = h_relu.t().mm(grad_y_pred)\n",
        "    grad_h_relu = grad_y_pred.mm(w2.t())\n",
        "    grad_h = grad_h_relu.clone()\n",
        "    grad_h[h < 0] = 0\n",
        "    grad_w1 = x.t().mm(grad_h)\n",
        "\n",
        "    # Update weights using gradient descent\n",
        "    w1 -= learning_rate * grad_w1\n",
        "    w2 -= learning_rate * grad_w2"
      ],
      "execution_count": 57,
      "outputs": [
        {
          "output_type": "stream",
          "text": [
            "0 35556472.0\n",
            "1 38000640.0\n",
            "2 47837308.0\n",
            "3 54164060.0\n",
            "4 44564384.0\n",
            "5 23812608.0\n",
            "6 8986448.0\n",
            "7 3512390.25\n",
            "8 1939632.75\n",
            "9 1406229.875\n",
            "10 1138608.125\n",
            "11 956962.9375\n",
            "12 816264.75\n",
            "13 702227.375\n",
            "14 608098.375\n",
            "15 529495.9375\n",
            "16 463370.34375\n",
            "17 407265.09375\n",
            "18 359405.4375\n",
            "19 318399.1875\n",
            "20 283065.71875\n",
            "21 252443.671875\n",
            "22 225738.4375\n",
            "23 202314.34375\n",
            "24 181724.1875\n",
            "25 163560.390625\n",
            "26 147520.90625\n",
            "27 133315.21875\n",
            "28 120699.234375\n",
            "29 109472.5703125\n",
            "30 99435.3359375\n",
            "31 90459.953125\n",
            "32 82408.3515625\n",
            "33 75169.328125\n",
            "34 68645.46875\n",
            "35 62758.19921875\n",
            "36 57433.984375\n",
            "37 52612.078125\n",
            "38 48241.515625\n",
            "39 44273.40234375\n",
            "40 40676.40234375\n",
            "41 37400.5625\n",
            "42 34414.5390625\n",
            "43 31691.4453125\n",
            "44 29202.078125\n",
            "45 26926.955078125\n",
            "46 24845.28515625\n",
            "47 22938.54296875\n",
            "48 21191.40234375\n",
            "49 19588.244140625\n",
            "50 18115.99609375\n",
            "51 16763.376953125\n",
            "52 15520.2548828125\n",
            "53 14376.205078125\n",
            "54 13322.96484375\n",
            "55 12352.19921875\n",
            "56 11457.427734375\n",
            "57 10631.87890625\n",
            "58 9870.4755859375\n",
            "59 9168.1142578125\n",
            "60 8519.6279296875\n",
            "61 7919.5546875\n",
            "62 7364.62109375\n",
            "63 6851.01953125\n",
            "64 6375.666015625\n",
            "65 5935.5732421875\n",
            "66 5527.62890625\n",
            "67 5149.373046875\n",
            "68 4798.58935546875\n",
            "69 4473.12939453125\n",
            "70 4171.10693359375\n",
            "71 3890.5029296875\n",
            "72 3629.829833984375\n",
            "73 3387.594482421875\n",
            "74 3162.46240234375\n",
            "75 2953.081298828125\n",
            "76 2758.257568359375\n",
            "77 2576.93798828125\n",
            "78 2408.161376953125\n",
            "79 2251.151611328125\n",
            "80 2104.507568359375\n",
            "81 1967.84716796875\n",
            "82 1840.5504150390625\n",
            "83 1721.909423828125\n",
            "84 1611.3424072265625\n",
            "85 1508.18310546875\n",
            "86 1411.906005859375\n",
            "87 1322.0731201171875\n",
            "88 1238.2554931640625\n",
            "89 1159.9931640625\n",
            "90 1086.841064453125\n",
            "91 1018.5087890625\n",
            "92 954.6966552734375\n",
            "93 895.1060180664062\n",
            "94 839.391357421875\n",
            "95 787.2705688476562\n",
            "96 738.535888671875\n",
            "97 692.943115234375\n",
            "98 650.2933349609375\n",
            "99 610.3740234375\n",
            "100 572.9718017578125\n",
            "101 537.964111328125\n",
            "102 505.2225036621094\n",
            "103 474.54071044921875\n",
            "104 445.7962341308594\n",
            "105 418.83868408203125\n",
            "106 393.5826721191406\n",
            "107 369.8929748535156\n",
            "108 347.68927001953125\n",
            "109 326.86761474609375\n",
            "110 307.33416748046875\n",
            "111 288.9919738769531\n",
            "112 271.7835998535156\n",
            "113 255.64491271972656\n",
            "114 240.49249267578125\n",
            "115 226.2571563720703\n",
            "116 212.89419555664062\n",
            "117 200.34410095214844\n",
            "118 188.56240844726562\n",
            "119 177.49154663085938\n",
            "120 167.0878143310547\n",
            "121 157.31117248535156\n",
            "122 148.124755859375\n",
            "123 139.491943359375\n",
            "124 131.38021850585938\n",
            "125 123.74716186523438\n",
            "126 116.56855010986328\n",
            "127 109.81683349609375\n",
            "128 103.46858215332031\n",
            "129 97.49788665771484\n",
            "130 91.87752532958984\n",
            "131 86.59134674072266\n",
            "132 81.61689758300781\n",
            "133 76.93692016601562\n",
            "134 72.52851867675781\n",
            "135 68.38018035888672\n",
            "136 64.47490692138672\n",
            "137 60.7982292175293\n",
            "138 57.33648681640625\n",
            "139 54.076236724853516\n",
            "140 51.00273895263672\n",
            "141 48.11079406738281\n",
            "142 45.38639831542969\n",
            "143 42.81760787963867\n",
            "144 40.398990631103516\n",
            "145 38.12064743041992\n",
            "146 35.972286224365234\n",
            "147 33.948062896728516\n",
            "148 32.03942108154297\n",
            "149 30.240751266479492\n",
            "150 28.544897079467773\n",
            "151 26.94495391845703\n",
            "152 25.43794822692871\n",
            "153 24.017513275146484\n",
            "154 22.675785064697266\n",
            "155 21.411060333251953\n",
            "156 20.21792221069336\n",
            "157 19.093576431274414\n",
            "158 18.032222747802734\n",
            "159 17.030672073364258\n",
            "160 16.086009979248047\n",
            "161 15.195186614990234\n",
            "162 14.353331565856934\n",
            "163 13.559614181518555\n",
            "164 12.810079574584961\n",
            "165 12.10297966003418\n",
            "166 11.435445785522461\n",
            "167 10.805575370788574\n",
            "168 10.210461616516113\n",
            "169 9.648965835571289\n",
            "170 9.11850643157959\n",
            "171 8.617745399475098\n",
            "172 8.145092010498047\n",
            "173 7.699069976806641\n",
            "174 7.2775115966796875\n",
            "175 6.879674434661865\n",
            "176 6.5034098625183105\n",
            "177 6.148365497589111\n",
            "178 5.812402248382568\n",
            "179 5.495593547821045\n",
            "180 5.196052551269531\n",
            "181 4.913253307342529\n",
            "182 4.645516872406006\n",
            "183 4.393113613128662\n",
            "184 4.154330730438232\n",
            "185 3.929110050201416\n",
            "186 3.7156906127929688\n",
            "187 3.5142083168029785\n",
            "188 3.3236711025238037\n",
            "189 3.144122838973999\n",
            "190 2.973783016204834\n",
            "191 2.8129043579101562\n",
            "192 2.6611709594726562\n",
            "193 2.517404079437256\n",
            "194 2.3814053535461426\n",
            "195 2.2531931400299072\n",
            "196 2.131767988204956\n",
            "197 2.016986131668091\n",
            "198 1.908484935760498\n",
            "199 1.8058063983917236\n",
            "200 1.7085235118865967\n",
            "201 1.6167876720428467\n",
            "202 1.5299617052078247\n",
            "203 1.4477554559707642\n",
            "204 1.3703019618988037\n",
            "205 1.2967896461486816\n",
            "206 1.2272874116897583\n",
            "207 1.1616103649139404\n",
            "208 1.0993719100952148\n",
            "209 1.0406357049942017\n",
            "210 0.9849414825439453\n",
            "211 0.9322425127029419\n",
            "212 0.8824979066848755\n",
            "213 0.8354738354682922\n",
            "214 0.7909317016601562\n",
            "215 0.7487068176269531\n",
            "216 0.7088122367858887\n",
            "217 0.6711008548736572\n",
            "218 0.6353498697280884\n",
            "219 0.6014976501464844\n",
            "220 0.5694945454597473\n",
            "221 0.5391727089881897\n",
            "222 0.5105924606323242\n",
            "223 0.4834328889846802\n",
            "224 0.45779088139533997\n",
            "225 0.43353068828582764\n",
            "226 0.41051536798477173\n",
            "227 0.3886798918247223\n",
            "228 0.36808574199676514\n",
            "229 0.3485614061355591\n",
            "230 0.33017101883888245\n",
            "231 0.31273359060287476\n",
            "232 0.29616206884384155\n",
            "233 0.2804765999317169\n",
            "234 0.2656841278076172\n",
            "235 0.251628041267395\n",
            "236 0.23833881318569183\n",
            "237 0.2257375568151474\n",
            "238 0.2137961983680725\n",
            "239 0.2025306224822998\n",
            "240 0.19188839197158813\n",
            "241 0.18175199627876282\n",
            "242 0.17213895916938782\n",
            "243 0.16308961808681488\n",
            "244 0.15447525680065155\n",
            "245 0.14637452363967896\n",
            "246 0.13865064084529877\n",
            "247 0.13136455416679382\n",
            "248 0.12443357706069946\n",
            "249 0.11786847561597824\n",
            "250 0.11170028150081635\n",
            "251 0.1058630421757698\n",
            "252 0.1002940684556961\n",
            "253 0.09502889215946198\n",
            "254 0.09003368765115738\n",
            "255 0.08532673120498657\n",
            "256 0.08083557337522507\n",
            "257 0.07660127431154251\n",
            "258 0.07258611917495728\n",
            "259 0.06879755854606628\n",
            "260 0.06519798189401627\n",
            "261 0.06177239865064621\n",
            "262 0.05854257568717003\n",
            "263 0.05546768382191658\n",
            "264 0.052582576870918274\n",
            "265 0.0498301237821579\n",
            "266 0.047215014696121216\n",
            "267 0.04475599527359009\n",
            "268 0.042424846440553665\n",
            "269 0.040195949375629425\n",
            "270 0.03811683878302574\n",
            "271 0.0361216738820076\n",
            "272 0.03424539789557457\n",
            "273 0.03244156390428543\n",
            "274 0.03076973930001259\n",
            "275 0.029173333197832108\n",
            "276 0.02765951305627823\n",
            "277 0.026217537000775337\n",
            "278 0.02485674060881138\n",
            "279 0.023571155965328217\n",
            "280 0.022339599207043648\n",
            "281 0.021190747618675232\n",
            "282 0.0200857762247324\n",
            "283 0.019043907523155212\n",
            "284 0.018065236508846283\n",
            "285 0.017132993787527084\n",
            "286 0.016248425468802452\n",
            "287 0.015409529209136963\n",
            "288 0.014610769227147102\n",
            "289 0.01385172363370657\n",
            "290 0.013143476098775864\n",
            "291 0.012483473867177963\n",
            "292 0.011841378174722195\n",
            "293 0.011231353506445885\n",
            "294 0.010662242770195007\n",
            "295 0.010120309889316559\n",
            "296 0.009602009318768978\n",
            "297 0.00912141427397728\n",
            "298 0.008659904822707176\n",
            "299 0.008218281902372837\n",
            "300 0.007805010303854942\n",
            "301 0.007412310689687729\n",
            "302 0.00703458534553647\n",
            "303 0.006681936793029308\n",
            "304 0.006354949902743101\n",
            "305 0.006036513950675726\n",
            "306 0.005734683014452457\n",
            "307 0.0054575856775045395\n",
            "308 0.005188409239053726\n",
            "309 0.004929330665618181\n",
            "310 0.004690090194344521\n",
            "311 0.0044596390798687935\n",
            "312 0.004241741728037596\n",
            "313 0.004039090126752853\n",
            "314 0.0038468646816909313\n",
            "315 0.0036632241681218147\n",
            "316 0.0034890982788056135\n",
            "317 0.0033243331126868725\n",
            "318 0.003165815258398652\n",
            "319 0.0030145091004669666\n",
            "320 0.002873627468943596\n",
            "321 0.0027437855023890734\n",
            "322 0.002618495374917984\n",
            "323 0.0024980553425848484\n",
            "324 0.0023822130169719458\n",
            "325 0.0022743986919522285\n",
            "326 0.002172299660742283\n",
            "327 0.0020748749375343323\n",
            "328 0.0019837873987853527\n",
            "329 0.0018986185314133763\n",
            "330 0.001816424774006009\n",
            "331 0.001736291917040944\n",
            "332 0.0016621194081380963\n",
            "333 0.00159172504208982\n",
            "334 0.001526267034932971\n",
            "335 0.0014628235949203372\n",
            "336 0.001402338850311935\n",
            "337 0.0013442650670185685\n",
            "338 0.0012903359020128846\n",
            "339 0.001239529112353921\n",
            "340 0.0011881513055413961\n",
            "341 0.0011421919334679842\n",
            "342 0.0010965601541101933\n",
            "343 0.0010541689116507769\n",
            "344 0.0010138882789760828\n",
            "345 0.0009737117798067629\n",
            "346 0.0009355592192150652\n",
            "347 0.0008993857773020864\n",
            "348 0.000865635578520596\n",
            "349 0.0008334120502695441\n",
            "350 0.0008023267146199942\n",
            "351 0.0007743699243292212\n",
            "352 0.0007455170853063464\n",
            "353 0.0007179778185673058\n",
            "354 0.0006931757088750601\n",
            "355 0.0006676862249150872\n",
            "356 0.0006448199274018407\n",
            "357 0.0006220153882168233\n",
            "358 0.0006010740762576461\n",
            "359 0.00058025645557791\n",
            "360 0.0005612449022009969\n",
            "361 0.0005422988906502724\n",
            "362 0.0005242042243480682\n",
            "363 0.0005061112460680306\n",
            "364 0.0004907494876533747\n",
            "365 0.00047404831275343895\n",
            "366 0.00045925824088044465\n",
            "367 0.00044407034874893725\n",
            "368 0.0004316806443966925\n",
            "369 0.0004180899995844811\n",
            "370 0.00040509935934096575\n",
            "371 0.0003925059281755239\n",
            "372 0.00038094748742878437\n",
            "373 0.0003690008888952434\n",
            "374 0.00035750024835579097\n",
            "375 0.00034695418435148895\n",
            "376 0.0003362138813827187\n",
            "377 0.0003270282468292862\n",
            "378 0.0003179929917678237\n",
            "379 0.0003089800011366606\n",
            "380 0.0002997705596499145\n",
            "381 0.00029098716913722456\n",
            "382 0.0002832281170412898\n",
            "383 0.00027544566546566784\n",
            "384 0.0002674356510397047\n",
            "385 0.00026006941334344447\n",
            "386 0.0002533777733333409\n",
            "387 0.00024619788746349514\n",
            "388 0.0002401834644842893\n",
            "389 0.00023370700364466757\n",
            "390 0.00022793684911448509\n",
            "391 0.00022230757167562842\n",
            "392 0.00021680910140275955\n",
            "393 0.00021117590949870646\n",
            "394 0.00020550496992655098\n",
            "395 0.00020040327217429876\n",
            "396 0.00019559581414796412\n",
            "397 0.00019112331210635602\n",
            "398 0.00018594195717014372\n",
            "399 0.0001815518771763891\n",
            "400 0.00017720206233207136\n",
            "401 0.0001730987278278917\n",
            "402 0.00016924968804232776\n",
            "403 0.00016544944082852453\n",
            "404 0.0001612300839042291\n",
            "405 0.00015767508011776954\n",
            "406 0.0001541381498100236\n",
            "407 0.000150591746205464\n",
            "408 0.00014716721489094198\n",
            "409 0.00014412240125238895\n",
            "410 0.00014084606664255261\n",
            "411 0.00013752109953202307\n",
            "412 0.00013413121632765979\n",
            "413 0.00013127419515512884\n",
            "414 0.00012857589172199368\n",
            "415 0.00012593006249517202\n",
            "416 0.00012350881297606975\n",
            "417 0.00012062281894031912\n",
            "418 0.00011833997996291146\n",
            "419 0.00011622460442595184\n",
            "420 0.00011355554306646809\n",
            "421 0.00011100606207037345\n",
            "422 0.00010877849126700312\n",
            "423 0.00010665693844202906\n",
            "424 0.0001048442063620314\n",
            "425 0.00010267619654769078\n",
            "426 0.00010041159839602187\n",
            "427 9.859822603175417e-05\n",
            "428 9.652877633925527e-05\n",
            "429 9.485631017014384e-05\n",
            "430 9.293818584410474e-05\n",
            "431 9.133766434388235e-05\n",
            "432 8.980631537269801e-05\n",
            "433 8.80676816450432e-05\n",
            "434 8.654013799969107e-05\n",
            "435 8.48874042276293e-05\n",
            "436 8.349885320058092e-05\n",
            "437 8.177450217772275e-05\n",
            "438 8.014545892365277e-05\n",
            "439 7.880599150666967e-05\n",
            "440 7.728266064077616e-05\n",
            "441 7.601649122079834e-05\n",
            "442 7.467229443136603e-05\n",
            "443 7.357427239185199e-05\n",
            "444 7.214480865513906e-05\n",
            "445 7.083130913088098e-05\n",
            "446 6.957408913876861e-05\n",
            "447 6.852947262814268e-05\n",
            "448 6.76498020766303e-05\n",
            "449 6.68076827423647e-05\n",
            "450 6.583081267308444e-05\n",
            "451 6.473856774391606e-05\n",
            "452 6.37514895061031e-05\n",
            "453 6.253635365283117e-05\n",
            "454 6.160450720926747e-05\n",
            "455 6.083752305130474e-05\n",
            "456 5.975458770990372e-05\n",
            "457 5.895941285416484e-05\n",
            "458 5.8136025472776964e-05\n",
            "459 5.6861805205699056e-05\n",
            "460 5.6089724239427596e-05\n",
            "461 5.536942626349628e-05\n",
            "462 5.4746669775340706e-05\n",
            "463 5.401068847277202e-05\n",
            "464 5.2865718316752464e-05\n",
            "465 5.215862620389089e-05\n",
            "466 5.154712198418565e-05\n",
            "467 5.0645830924622715e-05\n",
            "468 4.9942274927161634e-05\n",
            "469 4.9148075049743056e-05\n",
            "470 4.849656397709623e-05\n",
            "471 4.774314948008396e-05\n",
            "472 4.7091332817217335e-05\n",
            "473 4.6494289563270286e-05\n",
            "474 4.5774795580655336e-05\n",
            "475 4.533035826170817e-05\n",
            "476 4.461907155928202e-05\n",
            "477 4.405257641337812e-05\n",
            "478 4.353244003141299e-05\n",
            "479 4.292020821594633e-05\n",
            "480 4.256732790963724e-05\n",
            "481 4.216003799228929e-05\n",
            "482 4.1429906559642404e-05\n",
            "483 4.0921488107414916e-05\n",
            "484 4.0491053368896246e-05\n",
            "485 4.013288707938045e-05\n",
            "486 3.952952101826668e-05\n",
            "487 3.91250396205578e-05\n",
            "488 3.84657432732638e-05\n",
            "489 3.791450581047684e-05\n",
            "490 3.7693713238695636e-05\n",
            "491 3.7153076846152544e-05\n",
            "492 3.671587910503149e-05\n",
            "493 3.632654988905415e-05\n",
            "494 3.592918437789194e-05\n",
            "495 3.563085192581639e-05\n",
            "496 3.50132177118212e-05\n",
            "497 3.4602115192683414e-05\n",
            "498 3.42946223099716e-05\n",
            "499 3.3841126423794776e-05\n"
          ],
          "name": "stdout"
        }
      ]
    },
    {
      "cell_type": "markdown",
      "metadata": {
        "id": "ycwxAPHZLNST",
        "colab_type": "text"
      },
      "source": [
        "\n",
        "\n",
        "---\n",
        "## Question 12\n",
        "\n",
        "In the code above, why do we have 2 in '2.0*(y_pred - y)`?\n",
        "\n",
        "## Ans 12\n",
        "\n",
        "To accomodate for derivative of the squared error. \n",
        "\n",
        "## Question 13\n",
        "In the code above, what does `grad_h[h < 0] = 0` signify?\n",
        "\n",
        "## Ans 13\n",
        "\n",
        "Derivative of ReLu with negative values to be set to 0. \n",
        "\n",
        "## Question 14\n",
        "In the code above, how many \"epochs\" have we trained the model for? \n",
        "\n",
        "## Ans 14\n",
        "\n",
        "500 but batch size is same as epoch as the population is recreated with random data every batch. \n",
        "\n",
        "## Question 15\n",
        "In the code above, if we take the trained model, and run it on fresh  inputs, the trained model will be able to predict fresh output with high accuracy. \n",
        "\n",
        "## Ans 15\n",
        "\n",
        "Yes. \n",
        "\n",
        "## Question 16\n",
        "In the code above, if we dont use clone in `grad_h = grad_h_relu.clone()` the model will still train without any issues.\n",
        "\n",
        "## Ans 16\n",
        "\n",
        "No. grad_h is updated to compute the dw. That will be affected without cloning."
      ]
    },
    {
      "cell_type": "code",
      "metadata": {
        "id": "PnJ49I07JJI6",
        "colab_type": "code",
        "colab": {}
      },
      "source": [
        ""
      ],
      "execution_count": 0,
      "outputs": []
    }
  ]
}