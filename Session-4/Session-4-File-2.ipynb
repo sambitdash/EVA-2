{
 "cells": [
  {
   "cell_type": "markdown",
   "metadata": {
    "colab_type": "text",
    "id": "aNyZv-Ec52ot"
   },
   "source": [
    "# Session 4\n",
    "\n",
    "## Reducing Parameters to Below 15000\n",
    "\n",
    "We used [Session 3](https://github.com/sambitdash/EVA-2/blob/master/Session-3/Session-3.ipynb) results to improve upon with total parameters. Reduction of the parameters to almost 15000 parameters to achieve 99.4% accuracy. \n",
    "\n",
    "Following are the suggested changes in achieving this:\n",
    "\n",
    "1. Initial parameter estimate of session 3 was reduced to 4 x 3 x 3 \n",
    "2. Dropout of 0.2 was added to the model post every max pool 2D operation.\n",
    "\n",
    "Overall parameters utilized are 14950. Dropouts are added to ensure there is resilience built in the system. While without the dropouts the parameters can be reduced the resilience is important for the network to support inputs which is beyond the defined datasets.  \n",
    "\n",
    "## Import Libraries and modules"
   ]
  },
  {
   "cell_type": "code",
   "execution_count": 1,
   "metadata": {
    "colab": {
     "base_uri": "https://localhost:8080/",
     "height": 34
    },
    "colab_type": "code",
    "id": "Eso6UHE080D4",
    "outputId": "f409d621-4f2e-4e66-db81-ac039bd2161b"
   },
   "outputs": [
    {
     "name": "stderr",
     "output_type": "stream",
     "text": [
      "Using TensorFlow backend.\n"
     ]
    }
   ],
   "source": [
    "import numpy as np\n",
    "\n",
    "from keras.models import Sequential\n",
    "from keras.layers import Dense, Dropout, Activation, Flatten, Add\n",
    "from keras.layers import Conv2D, MaxPooling2D\n",
    "from keras.utils import np_utils\n",
    "from keras.datasets import mnist"
   ]
  },
  {
   "cell_type": "markdown",
   "metadata": {
    "colab_type": "text",
    "id": "zByEi95J86RD"
   },
   "source": [
    "## Load pre-shuffled MNIST data into train and test sets\n",
    "\n",
    "- Training set contains - 60000 images mapping to categories of 0-9 numbers\n",
    "- Test set contains - 10000 images"
   ]
  },
  {
   "cell_type": "code",
   "execution_count": 2,
   "metadata": {
    "colab": {
     "base_uri": "https://localhost:8080/",
     "height": 51
    },
    "colab_type": "code",
    "id": "7eRM0QWN83PV",
    "outputId": "11f2c2b0-15c2-4b17-b2c7-38a62d689031"
   },
   "outputs": [],
   "source": [
    "(X_train, y_train), (X_test, y_test) = mnist.load_data()"
   ]
  },
  {
   "cell_type": "markdown",
   "metadata": {},
   "source": [
    "## Plot Image\n",
    "\n",
    "Plot the first image in the series to understand the image data and get a feel for a sample. Handwritten number 5 is in the set. "
   ]
  },
  {
   "cell_type": "code",
   "execution_count": 3,
   "metadata": {
    "colab": {
     "base_uri": "https://localhost:8080/",
     "height": 299
    },
    "colab_type": "code",
    "id": "4a4Be72j8-ZC",
    "outputId": "628a97c2-a516-4470-d2c8-b9f2e21ff451"
   },
   "outputs": [
    {
     "name": "stdout",
     "output_type": "stream",
     "text": [
      "(60000, 28, 28)\n"
     ]
    },
    {
     "data": {
      "text/plain": [
       "<matplotlib.image.AxesImage at 0x7efd92f431d0>"
      ]
     },
     "execution_count": 3,
     "metadata": {},
     "output_type": "execute_result"
    },
    {
     "data": {
      "image/png": "[encoded data removed]",
      "text/plain": [
       "<Figure size 432x288 with 1 Axes>"
      ]
     },
     "metadata": {
      "needs_background": "light"
     },
     "output_type": "display_data"
    }
   ],
   "source": [
    "print (X_train.shape)\n",
    "from matplotlib import pyplot as plt\n",
    "%matplotlib inline\n",
    "plt.imshow(X_train[0])"
   ]
  },
  {
   "cell_type": "markdown",
   "metadata": {},
   "source": [
    "## Add Channel Information\n",
    "\n",
    "The dataset does not have a channels layer as it's a grey scale image. The channel layer is needed for image manipulation and understanding later. So a single channel is extended as a 4th dimension. "
   ]
  },
  {
   "cell_type": "code",
   "execution_count": 4,
   "metadata": {
    "colab": {},
    "colab_type": "code",
    "id": "dkmprriw9AnZ"
   },
   "outputs": [],
   "source": [
    "X_train = X_train.reshape(X_train.shape[0], 28, 28,1)\n",
    "X_test = X_test.reshape(X_test.shape[0], 28, 28,1)"
   ]
  },
  {
   "cell_type": "markdown",
   "metadata": {},
   "source": [
    "## Convert the Data to Float\n",
    "\n",
    "The data is to be converted to float format for better computational resolutions. This also can be GPU dependent. Some GPUs may perform faster on fixed point or integral data type. Since the accuracy requirements higher in this problem one may prefer floats to gain better data resolution. "
   ]
  },
  {
   "cell_type": "code",
   "execution_count": 5,
   "metadata": {
    "colab": {},
    "colab_type": "code",
    "id": "X2m4YS4E9CRh"
   },
   "outputs": [],
   "source": [
    "X_train = X_train.astype('float32')\n",
    "X_test = X_test.astype('float32')\n",
    "X_train /= 255\n",
    "X_test /= 255"
   ]
  },
  {
   "cell_type": "markdown",
   "metadata": {},
   "source": [
    "## List Multiclass Data of the Dependent Variable\n",
    "\n",
    "First 10 category outputs of the dependent variable in the training set. "
   ]
  },
  {
   "cell_type": "code",
   "execution_count": 6,
   "metadata": {
    "colab": {
     "base_uri": "https://localhost:8080/",
     "height": 34
    },
    "colab_type": "code",
    "id": "0Mn0vAYD9DvB",
    "outputId": "7449b5c2-b754-4de4-aca8-334c3e066f8e"
   },
   "outputs": [
    {
     "data": {
      "text/plain": [
       "array([5, 0, 4, 1, 9, 2, 1, 3, 1, 4], dtype=uint8)"
      ]
     },
     "execution_count": 6,
     "metadata": {},
     "output_type": "execute_result"
    }
   ],
   "source": [
    "y_train[:10]"
   ]
  },
  {
   "cell_type": "markdown",
   "metadata": {},
   "source": [
    "## Conversion to Categorical One Hot Vector Notation\n",
    "\n",
    "Neural networks are best represented as 0 and 1 post final activation. Particularly, when softmax is used as the activation function. This notation makes it easier for modeling. "
   ]
  },
  {
   "cell_type": "code",
   "execution_count": 7,
   "metadata": {
    "colab": {},
    "colab_type": "code",
    "id": "ZG8JiXR39FHC"
   },
   "outputs": [],
   "source": [
    "# Convert 1-dimensional class arrays to 10-dimensional class matrices\n",
    "Y_train = np_utils.to_categorical(y_train, 10)\n",
    "Y_test = np_utils.to_categorical(y_test, 10)"
   ]
  },
  {
   "cell_type": "markdown",
   "metadata": {},
   "source": [
    "## List One Hot Vector Notation of the Dependent Variable\n",
    "\n",
    "First 10 category outputs of dependent variable in training set."
   ]
  },
  {
   "cell_type": "code",
   "execution_count": 8,
   "metadata": {
    "colab": {
     "base_uri": "https://localhost:8080/",
     "height": 185
    },
    "colab_type": "code",
    "id": "fYlFRvKS9HMB",
    "outputId": "deedbf1d-34d3-46da-a810-917c84df506e"
   },
   "outputs": [
    {
     "data": {
      "text/plain": [
       "array([[0., 0., 0., 0., 0., 1., 0., 0., 0., 0.],\n",
       "       [1., 0., 0., 0., 0., 0., 0., 0., 0., 0.],\n",
       "       [0., 0., 0., 0., 1., 0., 0., 0., 0., 0.],\n",
       "       [0., 1., 0., 0., 0., 0., 0., 0., 0., 0.],\n",
       "       [0., 0., 0., 0., 0., 0., 0., 0., 0., 1.],\n",
       "       [0., 0., 1., 0., 0., 0., 0., 0., 0., 0.],\n",
       "       [0., 1., 0., 0., 0., 0., 0., 0., 0., 0.],\n",
       "       [0., 0., 0., 1., 0., 0., 0., 0., 0., 0.],\n",
       "       [0., 1., 0., 0., 0., 0., 0., 0., 0., 0.],\n",
       "       [0., 0., 0., 0., 1., 0., 0., 0., 0., 0.]], dtype=float32)"
      ]
     },
     "execution_count": 8,
     "metadata": {},
     "output_type": "execute_result"
    }
   ],
   "source": [
    "Y_train[:10]\n"
   ]
  },
  {
   "cell_type": "markdown",
   "metadata": {},
   "source": [
    "## Improved Model\n",
    "\n",
    "An improved model is proposed with a goal to show validation accuracy above 99.4%. A sequential Model is designed with:\n",
    "\n",
    "1. Two 16x3x3 Convolutiion with ReLu Activation\n",
    "2. MaxPool2D of 2x2 \n",
    "3. Five 10x3x3 Convolutiion with ReLu Activation\n",
    "4. Flatten the results \n",
    "5. One dense layer of 40 to 10 as the final outcome\n",
    "6. Softmax activation to match the outcome to One Hot Vector notation\n",
    "\n",
    "Overall 11,740 parameters"
   ]
  },
  {
   "cell_type": "code",
   "execution_count": 9,
   "metadata": {},
   "outputs": [
    {
     "name": "stderr",
     "output_type": "stream",
     "text": [
      "WARNING: Logging before flag parsing goes to stderr.\n",
      "W0822 01:23:28.905760 139629611411264 deprecation_wrapper.py:119] From /home/sambit/anaconda3/lib/python3.7/site-packages/keras/backend/tensorflow_backend.py:74: The name tf.get_default_graph is deprecated. Please use tf.compat.v1.get_default_graph instead.\n",
      "\n",
      "W0822 01:23:28.919547 139629611411264 deprecation_wrapper.py:119] From /home/sambit/anaconda3/lib/python3.7/site-packages/keras/backend/tensorflow_backend.py:517: The name tf.placeholder is deprecated. Please use tf.compat.v1.placeholder instead.\n",
      "\n",
      "W0822 01:23:28.921202 139629611411264 deprecation_wrapper.py:119] From /home/sambit/anaconda3/lib/python3.7/site-packages/keras/backend/tensorflow_backend.py:4138: The name tf.random_uniform is deprecated. Please use tf.random.uniform instead.\n",
      "\n",
      "W0822 01:23:28.936766 139629611411264 deprecation_wrapper.py:119] From /home/sambit/anaconda3/lib/python3.7/site-packages/keras/backend/tensorflow_backend.py:3976: The name tf.nn.max_pool is deprecated. Please use tf.nn.max_pool2d instead.\n",
      "\n",
      "W0822 01:23:28.938243 139629611411264 deprecation_wrapper.py:119] From /home/sambit/anaconda3/lib/python3.7/site-packages/keras/backend/tensorflow_backend.py:133: The name tf.placeholder_with_default is deprecated. Please use tf.compat.v1.placeholder_with_default instead.\n",
      "\n",
      "W0822 01:23:28.942350 139629611411264 deprecation.py:506] From /home/sambit/anaconda3/lib/python3.7/site-packages/keras/backend/tensorflow_backend.py:3445: calling dropout (from tensorflow.python.ops.nn_ops) with keep_prob is deprecated and will be removed in a future version.\n",
      "Instructions for updating:\n",
      "Please use `rate` instead of `keep_prob`. Rate should be set to `rate = 1 - keep_prob`.\n",
      "W0822 01:23:28.998536 139629611411264 deprecation_wrapper.py:119] From /home/sambit/anaconda3/lib/python3.7/site-packages/keras/optimizers.py:790: The name tf.train.Optimizer is deprecated. Please use tf.compat.v1.train.Optimizer instead.\n",
      "\n",
      "W0822 01:23:29.010179 139629611411264 deprecation_wrapper.py:119] From /home/sambit/anaconda3/lib/python3.7/site-packages/keras/backend/tensorflow_backend.py:1521: The name tf.log is deprecated. Please use tf.math.log instead.\n",
      "\n"
     ]
    },
    {
     "name": "stdout",
     "output_type": "stream",
     "text": [
      "_________________________________________________________________\n",
      "Layer (type)                 Output Shape              Param #   \n",
      "=================================================================\n",
      "c1 (Conv2D)                  (None, 26, 26, 4)         40        \n",
      "_________________________________________________________________\n",
      "c2 (Conv2D)                  (None, 24, 24, 4)         148       \n",
      "_________________________________________________________________\n",
      "max_pooling2d_1 (MaxPooling2 (None, 12, 12, 4)         0         \n",
      "_________________________________________________________________\n",
      "dropout_1 (Dropout)          (None, 12, 12, 4)         0         \n",
      "_________________________________________________________________\n",
      "c3 (Conv2D)                  (None, 10, 10, 16)        592       \n",
      "_________________________________________________________________\n",
      "c4 (Conv2D)                  (None, 8, 8, 16)          2320      \n",
      "_________________________________________________________________\n",
      "max_pooling2d_2 (MaxPooling2 (None, 4, 4, 16)          0         \n",
      "_________________________________________________________________\n",
      "dropout_2 (Dropout)          (None, 4, 4, 16)          0         \n",
      "_________________________________________________________________\n",
      "c5 (Conv2D)                  (None, 2, 2, 64)          9280      \n",
      "_________________________________________________________________\n",
      "c6 (Conv2D)                  (None, 1, 1, 10)          2570      \n",
      "_________________________________________________________________\n",
      "flatten_1 (Flatten)          (None, 10)                0         \n",
      "_________________________________________________________________\n",
      "activation_1 (Activation)    (None, 10)                0         \n",
      "=================================================================\n",
      "Total params: 14,950\n",
      "Trainable params: 14,950\n",
      "Non-trainable params: 0\n",
      "_________________________________________________________________\n"
     ]
    }
   ],
   "source": [
    "model = Sequential()\n",
    "model.add(Conv2D(4, (3, 3), activation='relu', input_shape=(28,28,1), name='c1'))\n",
    "model.add(Conv2D(4, (3, 3), activation='relu', name='c2'))\n",
    "model.add(MaxPooling2D(2, 2))\n",
    "model.add(Dropout(0.2))\n",
    "model.add(Conv2D(16, (3, 3), activation='relu', name='c3'))\n",
    "model.add(Conv2D(16, (3, 3), activation='relu', name='c4'))\n",
    "model.add(MaxPooling2D(2, 2))\n",
    "model.add(Dropout(0.2))\n",
    "model.add(Conv2D(64, (3, 3), activation='relu', name='c5'))\n",
    "model.add(Conv2D(10, (2, 2), name='c6'))\n",
    "model.add(Flatten())\n",
    "model.add(Activation('softmax'))\n",
    "model.summary()\n",
    "\n",
    "model.compile(loss='poisson', optimizer='adam', metrics=['categorical_accuracy'])"
   ]
  },
  {
   "cell_type": "markdown",
   "metadata": {},
   "source": [
    "## Training Process\n",
    "\n",
    "While most of the model part is fairly kept standard with CNN with a combination of convolutions and maxpooling the training approach is enhanced with an ensemble technique called stratfied K-fold. \n",
    "\n",
    "The training for a neural network can be improved when optimal statistical mixing can be carried out for the input for a homogenized mix of batches. This is achieved by stratified k-fold. Here the training data is broken into disjoint sets of 5 with almost equal sample occurence of any of the classes of 0-9 in each of the groups. 4 such groups are used as a training set and validated against one of the set as validation set. Thus the results are cross validated against each other. This ensures the batches are homogeneous and uniformly exposed to the each category of the inputs. Each such groups is run for 10 epochs but parameters being fed from the previous run. \n",
    "\n",
    "Moreover, in every epoch the validation rsults are computed with the original test dataset of 10000 data points.\n",
    "\n",
    "\n",
    "The technique has been a small modification of explanation given in the [article](https://machinelearningmastery.com/evaluate-performance-deep-learning-models-keras/)"
   ]
  },
  {
   "cell_type": "code",
   "execution_count": 10,
   "metadata": {},
   "outputs": [
    {
     "name": "stdout",
     "output_type": "stream",
     "text": [
      "Train on 47995 samples, validate on 10000 samples\n",
      "Epoch 1/15\n",
      "47995/47995 [==============================] - 4s 78us/step - loss: 0.1567 - categorical_accuracy: 0.8196 - val_loss: 0.1133 - val_categorical_accuracy: 0.9596\n",
      "Epoch 2/15\n",
      "47995/47995 [==============================] - 2s 41us/step - loss: 0.1177 - categorical_accuracy: 0.9451 - val_loss: 0.1084 - val_categorical_accuracy: 0.9732\n",
      "Epoch 3/15\n",
      "47995/47995 [==============================] - 2s 43us/step - loss: 0.1133 - categorical_accuracy: 0.9587 - val_loss: 0.1063 - val_categorical_accuracy: 0.9800\n",
      "Epoch 4/15\n",
      "47995/47995 [==============================] - 2s 44us/step - loss: 0.1108 - categorical_accuracy: 0.9652 - val_loss: 0.1046 - val_categorical_accuracy: 0.9834\n",
      "Epoch 5/15\n",
      "47995/47995 [==============================] - 2s 44us/step - loss: 0.1094 - categorical_accuracy: 0.9700 - val_loss: 0.1044 - val_categorical_accuracy: 0.9853\n",
      "Epoch 6/15\n",
      "47995/47995 [==============================] - 2s 44us/step - loss: 0.1084 - categorical_accuracy: 0.9735 - val_loss: 0.1047 - val_categorical_accuracy: 0.9860\n",
      "Epoch 7/15\n",
      "47995/47995 [==============================] - 2s 45us/step - loss: 0.1078 - categorical_accuracy: 0.9761 - val_loss: 0.1041 - val_categorical_accuracy: 0.9855\n",
      "Epoch 8/15\n",
      "47995/47995 [==============================] - 2s 43us/step - loss: 0.1071 - categorical_accuracy: 0.9772 - val_loss: 0.1040 - val_categorical_accuracy: 0.9858\n",
      "Epoch 9/15\n",
      "47995/47995 [==============================] - 2s 43us/step - loss: 0.1066 - categorical_accuracy: 0.9790 - val_loss: 0.1031 - val_categorical_accuracy: 0.9890\n",
      "Epoch 10/15\n",
      "47995/47995 [==============================] - 2s 42us/step - loss: 0.1065 - categorical_accuracy: 0.9798 - val_loss: 0.1035 - val_categorical_accuracy: 0.9877\n",
      "Epoch 11/15\n",
      "47995/47995 [==============================] - 2s 43us/step - loss: 0.1057 - categorical_accuracy: 0.9817 - val_loss: 0.1034 - val_categorical_accuracy: 0.9880\n",
      "Epoch 12/15\n",
      "47995/47995 [==============================] - 2s 43us/step - loss: 0.1054 - categorical_accuracy: 0.9827 - val_loss: 0.1032 - val_categorical_accuracy: 0.9892\n",
      "Epoch 13/15\n",
      "47995/47995 [==============================] - 2s 43us/step - loss: 0.1051 - categorical_accuracy: 0.9838 - val_loss: 0.1033 - val_categorical_accuracy: 0.9886\n",
      "Epoch 14/15\n",
      "47995/47995 [==============================] - 2s 42us/step - loss: 0.1052 - categorical_accuracy: 0.9834 - val_loss: 0.1030 - val_categorical_accuracy: 0.9896\n",
      "Epoch 15/15\n",
      "47995/47995 [==============================] - 2s 41us/step - loss: 0.1048 - categorical_accuracy: 0.9846 - val_loss: 0.1030 - val_categorical_accuracy: 0.9887\n",
      "categorical_accuracy: 98.89%\n",
      "Train on 47998 samples, validate on 10000 samples\n",
      "Epoch 16/30\n",
      "47998/47998 [==============================] - 2s 42us/step - loss: 0.1049 - categorical_accuracy: 0.9846 - val_loss: 0.1027 - val_categorical_accuracy: 0.9907\n",
      "Epoch 17/30\n",
      "47998/47998 [==============================] - 2s 41us/step - loss: 0.1046 - categorical_accuracy: 0.9852 - val_loss: 0.1026 - val_categorical_accuracy: 0.9910\n",
      "Epoch 18/30\n",
      "47998/47998 [==============================] - 2s 42us/step - loss: 0.1046 - categorical_accuracy: 0.9854 - val_loss: 0.1029 - val_categorical_accuracy: 0.9901\n",
      "Epoch 19/30\n",
      "47998/47998 [==============================] - 2s 42us/step - loss: 0.1042 - categorical_accuracy: 0.9869 - val_loss: 0.1028 - val_categorical_accuracy: 0.9899\n",
      "Epoch 20/30\n",
      "47998/47998 [==============================] - 2s 41us/step - loss: 0.1043 - categorical_accuracy: 0.9859 - val_loss: 0.1028 - val_categorical_accuracy: 0.9901\n",
      "Epoch 21/30\n",
      "47998/47998 [==============================] - 2s 42us/step - loss: 0.1039 - categorical_accuracy: 0.9878 - val_loss: 0.1027 - val_categorical_accuracy: 0.9903\n",
      "Epoch 22/30\n",
      "47998/47998 [==============================] - 2s 41us/step - loss: 0.1041 - categorical_accuracy: 0.9866 - val_loss: 0.1029 - val_categorical_accuracy: 0.9903\n",
      "Epoch 23/30\n",
      "47998/47998 [==============================] - 2s 42us/step - loss: 0.1039 - categorical_accuracy: 0.9870 - val_loss: 0.1025 - val_categorical_accuracy: 0.9915\n",
      "Epoch 24/30\n",
      "47998/47998 [==============================] - 2s 41us/step - loss: 0.1038 - categorical_accuracy: 0.9875 - val_loss: 0.1025 - val_categorical_accuracy: 0.9906\n",
      "Epoch 25/30\n",
      "47998/47998 [==============================] - 2s 42us/step - loss: 0.1036 - categorical_accuracy: 0.9879 - val_loss: 0.1026 - val_categorical_accuracy: 0.9913\n",
      "Epoch 26/30\n",
      "47998/47998 [==============================] - 2s 42us/step - loss: 0.1034 - categorical_accuracy: 0.9895 - val_loss: 0.1027 - val_categorical_accuracy: 0.9912\n",
      "Epoch 27/30\n",
      "47998/47998 [==============================] - 2s 41us/step - loss: 0.1036 - categorical_accuracy: 0.9885 - val_loss: 0.1026 - val_categorical_accuracy: 0.9915\n",
      "Epoch 28/30\n",
      "47998/47998 [==============================] - 2s 42us/step - loss: 0.1034 - categorical_accuracy: 0.9889 - val_loss: 0.1030 - val_categorical_accuracy: 0.9906\n",
      "Epoch 29/30\n",
      "47998/47998 [==============================] - 2s 42us/step - loss: 0.1033 - categorical_accuracy: 0.9891 - val_loss: 0.1024 - val_categorical_accuracy: 0.9927\n",
      "Epoch 30/30\n",
      "47998/47998 [==============================] - 2s 43us/step - loss: 0.1033 - categorical_accuracy: 0.9895 - val_loss: 0.1026 - val_categorical_accuracy: 0.9920\n",
      "categorical_accuracy: 99.16%\n",
      "Train on 48000 samples, validate on 10000 samples\n",
      "Epoch 31/45\n",
      "48000/48000 [==============================] - 2s 42us/step - loss: 0.1036 - categorical_accuracy: 0.9884 - val_loss: 0.1024 - val_categorical_accuracy: 0.9915\n",
      "Epoch 32/45\n",
      "48000/48000 [==============================] - 2s 42us/step - loss: 0.1034 - categorical_accuracy: 0.9894 - val_loss: 0.1024 - val_categorical_accuracy: 0.9914\n",
      "Epoch 33/45\n",
      "48000/48000 [==============================] - 2s 42us/step - loss: 0.1034 - categorical_accuracy: 0.9893 - val_loss: 0.1025 - val_categorical_accuracy: 0.9903\n",
      "Epoch 34/45\n",
      "48000/48000 [==============================] - 2s 42us/step - loss: 0.1034 - categorical_accuracy: 0.9892 - val_loss: 0.1025 - val_categorical_accuracy: 0.9918\n",
      "Epoch 35/45\n",
      "48000/48000 [==============================] - 2s 42us/step - loss: 0.1030 - categorical_accuracy: 0.9907 - val_loss: 0.1025 - val_categorical_accuracy: 0.9914\n",
      "Epoch 36/45\n",
      "48000/48000 [==============================] - 2s 42us/step - loss: 0.1028 - categorical_accuracy: 0.9907 - val_loss: 0.1024 - val_categorical_accuracy: 0.9925\n",
      "Epoch 37/45\n",
      "48000/48000 [==============================] - 2s 41us/step - loss: 0.1032 - categorical_accuracy: 0.9894 - val_loss: 0.1026 - val_categorical_accuracy: 0.9913\n",
      "Epoch 38/45\n",
      "48000/48000 [==============================] - 2s 41us/step - loss: 0.1031 - categorical_accuracy: 0.9905 - val_loss: 0.1022 - val_categorical_accuracy: 0.9932\n",
      "Epoch 39/45\n",
      "48000/48000 [==============================] - 2s 42us/step - loss: 0.1029 - categorical_accuracy: 0.9902 - val_loss: 0.1026 - val_categorical_accuracy: 0.9923\n",
      "Epoch 40/45\n",
      "48000/48000 [==============================] - 2s 43us/step - loss: 0.1029 - categorical_accuracy: 0.9910 - val_loss: 0.1027 - val_categorical_accuracy: 0.9911\n",
      "Epoch 41/45\n",
      "48000/48000 [==============================] - 2s 41us/step - loss: 0.1028 - categorical_accuracy: 0.9904 - val_loss: 0.1022 - val_categorical_accuracy: 0.9924\n",
      "Epoch 42/45\n",
      "48000/48000 [==============================] - 2s 41us/step - loss: 0.1026 - categorical_accuracy: 0.9916 - val_loss: 0.1023 - val_categorical_accuracy: 0.9928\n",
      "Epoch 43/45\n",
      "48000/48000 [==============================] - 2s 41us/step - loss: 0.1026 - categorical_accuracy: 0.9914 - val_loss: 0.1022 - val_categorical_accuracy: 0.9924\n",
      "Epoch 44/45\n",
      "48000/48000 [==============================] - 2s 41us/step - loss: 0.1028 - categorical_accuracy: 0.9907 - val_loss: 0.1028 - val_categorical_accuracy: 0.9910\n",
      "Epoch 45/45\n",
      "48000/48000 [==============================] - 2s 41us/step - loss: 0.1026 - categorical_accuracy: 0.9911 - val_loss: 0.1024 - val_categorical_accuracy: 0.9929\n",
      "categorical_accuracy: 99.43%\n",
      "Train on 48003 samples, validate on 10000 samples\n",
      "Epoch 46/60\n",
      "48003/48003 [==============================] - 2s 44us/step - loss: 0.1030 - categorical_accuracy: 0.9901 - val_loss: 0.1023 - val_categorical_accuracy: 0.9933\n",
      "Epoch 47/60\n"
     ]
    },
    {
     "name": "stdout",
     "output_type": "stream",
     "text": [
      "48003/48003 [==============================] - 2s 43us/step - loss: 0.1032 - categorical_accuracy: 0.9901 - val_loss: 0.1022 - val_categorical_accuracy: 0.9931\n",
      "Epoch 48/60\n",
      "48003/48003 [==============================] - 2s 43us/step - loss: 0.1026 - categorical_accuracy: 0.9917 - val_loss: 0.1022 - val_categorical_accuracy: 0.9927\n",
      "Epoch 49/60\n",
      "48003/48003 [==============================] - 2s 43us/step - loss: 0.1026 - categorical_accuracy: 0.9914 - val_loss: 0.1023 - val_categorical_accuracy: 0.9935\n",
      "Epoch 50/60\n",
      "48003/48003 [==============================] - 2s 43us/step - loss: 0.1024 - categorical_accuracy: 0.9916 - val_loss: 0.1025 - val_categorical_accuracy: 0.9930\n",
      "Epoch 51/60\n",
      "48003/48003 [==============================] - 2s 44us/step - loss: 0.1025 - categorical_accuracy: 0.9919 - val_loss: 0.1020 - val_categorical_accuracy: 0.9933\n",
      "Epoch 52/60\n",
      "48003/48003 [==============================] - 2s 43us/step - loss: 0.1023 - categorical_accuracy: 0.9924 - val_loss: 0.1020 - val_categorical_accuracy: 0.9941\n",
      "Epoch 53/60\n",
      "48003/48003 [==============================] - 2s 43us/step - loss: 0.1026 - categorical_accuracy: 0.9916 - val_loss: 0.1024 - val_categorical_accuracy: 0.9934\n",
      "Epoch 54/60\n",
      "48003/48003 [==============================] - 2s 43us/step - loss: 0.1023 - categorical_accuracy: 0.9926 - val_loss: 0.1022 - val_categorical_accuracy: 0.9933\n",
      "Epoch 55/60\n",
      "48003/48003 [==============================] - 2s 43us/step - loss: 0.1024 - categorical_accuracy: 0.9922 - val_loss: 0.1022 - val_categorical_accuracy: 0.9932\n",
      "Epoch 56/60\n",
      "48003/48003 [==============================] - 2s 43us/step - loss: 0.1024 - categorical_accuracy: 0.9923 - val_loss: 0.1021 - val_categorical_accuracy: 0.9930\n",
      "Epoch 57/60\n",
      "48003/48003 [==============================] - 2s 43us/step - loss: 0.1021 - categorical_accuracy: 0.9927 - val_loss: 0.1021 - val_categorical_accuracy: 0.9935\n",
      "Epoch 58/60\n",
      "48003/48003 [==============================] - 2s 42us/step - loss: 0.1023 - categorical_accuracy: 0.9916 - val_loss: 0.1023 - val_categorical_accuracy: 0.9924\n",
      "Epoch 59/60\n",
      "48003/48003 [==============================] - 2s 43us/step - loss: 0.1023 - categorical_accuracy: 0.9923 - val_loss: 0.1021 - val_categorical_accuracy: 0.9937\n",
      "Epoch 60/60\n",
      "48003/48003 [==============================] - 2s 44us/step - loss: 0.1022 - categorical_accuracy: 0.9923 - val_loss: 0.1022 - val_categorical_accuracy: 0.9926\n",
      "categorical_accuracy: 99.57%\n",
      "Train on 48004 samples, validate on 10000 samples\n",
      "Epoch 61/75\n",
      "48004/48004 [==============================] - 2s 43us/step - loss: 0.1026 - categorical_accuracy: 0.9919 - val_loss: 0.1024 - val_categorical_accuracy: 0.9923\n",
      "Epoch 62/75\n",
      "48004/48004 [==============================] - 2s 43us/step - loss: 0.1026 - categorical_accuracy: 0.9916 - val_loss: 0.1022 - val_categorical_accuracy: 0.9929\n",
      "Epoch 63/75\n",
      "48004/48004 [==============================] - 2s 43us/step - loss: 0.1024 - categorical_accuracy: 0.9918 - val_loss: 0.1023 - val_categorical_accuracy: 0.9932\n",
      "Epoch 64/75\n",
      "48004/48004 [==============================] - 2s 42us/step - loss: 0.1024 - categorical_accuracy: 0.9920 - val_loss: 0.1026 - val_categorical_accuracy: 0.9922\n",
      "Epoch 65/75\n",
      "48004/48004 [==============================] - 2s 43us/step - loss: 0.1028 - categorical_accuracy: 0.9909 - val_loss: 0.1024 - val_categorical_accuracy: 0.9925\n",
      "Epoch 66/75\n",
      "48004/48004 [==============================] - 2s 44us/step - loss: 0.1024 - categorical_accuracy: 0.9921 - val_loss: 0.1024 - val_categorical_accuracy: 0.9928\n",
      "Epoch 67/75\n",
      "48004/48004 [==============================] - 2s 43us/step - loss: 0.1022 - categorical_accuracy: 0.9930 - val_loss: 0.1024 - val_categorical_accuracy: 0.9926\n",
      "Epoch 68/75\n",
      "48004/48004 [==============================] - 2s 43us/step - loss: 0.1022 - categorical_accuracy: 0.9927 - val_loss: 0.1024 - val_categorical_accuracy: 0.9924\n",
      "Epoch 69/75\n",
      "48004/48004 [==============================] - 2s 43us/step - loss: 0.1024 - categorical_accuracy: 0.9921 - val_loss: 0.1025 - val_categorical_accuracy: 0.9925\n",
      "Epoch 70/75\n",
      "48004/48004 [==============================] - 2s 43us/step - loss: 0.1022 - categorical_accuracy: 0.9924 - val_loss: 0.1024 - val_categorical_accuracy: 0.9922\n",
      "Epoch 71/75\n",
      "48004/48004 [==============================] - 2s 43us/step - loss: 0.1022 - categorical_accuracy: 0.9927 - val_loss: 0.1025 - val_categorical_accuracy: 0.9920\n",
      "Epoch 72/75\n",
      "48004/48004 [==============================] - 2s 43us/step - loss: 0.1021 - categorical_accuracy: 0.9933 - val_loss: 0.1023 - val_categorical_accuracy: 0.9920\n",
      "Epoch 73/75\n",
      "48004/48004 [==============================] - 2s 43us/step - loss: 0.1021 - categorical_accuracy: 0.9932 - val_loss: 0.1023 - val_categorical_accuracy: 0.9929\n",
      "Epoch 74/75\n",
      "48004/48004 [==============================] - 2s 43us/step - loss: 0.1020 - categorical_accuracy: 0.9934 - val_loss: 0.1023 - val_categorical_accuracy: 0.9920\n",
      "Epoch 75/75\n",
      "48004/48004 [==============================] - 2s 44us/step - loss: 0.1021 - categorical_accuracy: 0.9930 - val_loss: 0.1023 - val_categorical_accuracy: 0.9926\n",
      "categorical_accuracy: 99.64%\n"
     ]
    }
   ],
   "source": [
    "from sklearn.model_selection import StratifiedKFold\n",
    "seed = 7\n",
    "np.random.seed(seed)\n",
    "# define 10-fold cross validation test harness\n",
    "kfold = StratifiedKFold(n_splits=5, shuffle=True, random_state=seed)\n",
    "cvscores = []\n",
    "(X, Y) = (X_train, y_train)\n",
    "(init_epoch, nepoch) = (0, 15)\n",
    "for train, test in kfold.split(X, Y):\n",
    "    # Fit the model\n",
    "    model.fit(X[train], Y_train[train], epochs=init_epoch+nepoch, initial_epoch=init_epoch, batch_size=128, verbose=1, validation_data=(X_test, Y_test))\n",
    "    init_epoch += nepoch\n",
    "    \n",
    "    # evaluate the model\n",
    "    scores = model.evaluate(X[test], Y_train[test], verbose=0)\n",
    "    print(\"%s: %.2f%%\" % (model.metrics_names[1], scores[1]*100))\n",
    "    cvscores.append(scores[1] * 100)"
   ]
  },
  {
   "cell_type": "markdown",
   "metadata": {},
   "source": [
    "# Results\n",
    "\n",
    "The final cross validation score is averaged over each of the iterations are stated. As expected, the cross validation being on the training data there is a continuous pattern of overfitting of the data. However, what is interesting to observe the validation score over the test data has also significantly improved at 99.41%. \n",
    "\n",
    "Now that the test data is not used for any of the training purposes, the result cannot be construed as overfitting. Although, the learning curve has not been plotted to confirm the same. The crossvalidation results are not significantly different from the test data validation confirming the training is fairly uniform for the overall population. \n",
    "\n",
    "The state of art is reported as: https://paperswithcode.com/sota/image-classification-on-mnist with https://paperswithcode.com/paper/rmdl-random-multimodel-deep-learning-for using a random combination of DNN, CNN, and RNN, a simple statistical mixing of training data can almost produce similar outcome with the MNIST dataset."
   ]
  },
  {
   "cell_type": "code",
   "execution_count": 11,
   "metadata": {},
   "outputs": [
    {
     "data": {
      "text/plain": [
       "[98.89212827988338,\n",
       " 99.15847358773537,\n",
       " 99.43333333333332,\n",
       " 99.56655830177176,\n",
       " 99.64154718239413]"
      ]
     },
     "execution_count": 11,
     "metadata": {},
     "output_type": "execute_result"
    }
   ],
   "source": [
    "cvscores"
   ]
  },
  {
   "cell_type": "code",
   "execution_count": 12,
   "metadata": {},
   "outputs": [],
   "source": [
    "score = model.evaluate(X_test, Y_test, verbose=0)"
   ]
  },
  {
   "cell_type": "code",
   "execution_count": 13,
   "metadata": {},
   "outputs": [
    {
     "name": "stdout",
     "output_type": "stream",
     "text": [
      "[0.10234182090759278, 0.9926]\n"
     ]
    }
   ],
   "source": [
    "print(score)"
   ]
  },
  {
   "cell_type": "code",
   "execution_count": 14,
   "metadata": {},
   "outputs": [
    {
     "name": "stdout",
     "output_type": "stream",
     "text": [
      "[[0. 0. 0. 0. 0. 0. 0. 1. 0. 0.]\n",
      " [0. 0. 1. 0. 0. 0. 0. 0. 0. 0.]\n",
      " [0. 1. 0. 0. 0. 0. 0. 0. 0. 0.]\n",
      " [1. 0. 0. 0. 0. 0. 0. 0. 0. 0.]\n",
      " [0. 0. 0. 0. 1. 0. 0. 0. 0. 0.]\n",
      " [0. 1. 0. 0. 0. 0. 0. 0. 0. 0.]\n",
      " [0. 0. 0. 0. 1. 0. 0. 0. 0. 0.]\n",
      " [0. 0. 0. 0. 0. 0. 0. 0. 0. 1.]\n",
      " [0. 0. 0. 0. 0. 1. 0. 0. 0. 0.]\n",
      " [0. 0. 0. 0. 0. 0. 0. 0. 0. 1.]]\n",
      "[7 2 1 0 4 1 4 9 5 9]\n"
     ]
    }
   ],
   "source": [
    "y_pred = model.predict(X_test)\n",
    "np.set_printoptions(precision=1, suppress=True)\n",
    "print(y_pred[:10])\n",
    "print(y_test[:10])"
   ]
  },
  {
   "cell_type": "code",
   "execution_count": 15,
   "metadata": {},
   "outputs": [],
   "source": [
    "layer_dict = dict([(layer.name, layer) for layer in model.layers])\n",
    "\n",
    "import numpy as np\n",
    "from matplotlib import pyplot as plt\n",
    "from keras import backend as K\n",
    "%matplotlib inline\n",
    "# util function to convert a tensor into a valid image\n",
    "def deprocess_image(x):\n",
    "    # normalize tensor: center on 0., ensure std is 0.1\n",
    "    x -= x.mean()\n",
    "    x /= (x.std() + 1e-5)\n",
    "    x *= 0.1\n",
    "\n",
    "    # clip to [0, 1]\n",
    "    x += 0.5\n",
    "    x = np.clip(x, 0, 1)\n",
    "\n",
    "    # convert to RGB array\n",
    "    x *= 255\n",
    "    #x = x.transpose((1, 2, 0))\n",
    "    x = np.clip(x, 0, 255).astype('uint8')\n",
    "    return x\n",
    "\n",
    "def vis_img_in_filter(img = np.array(X_train[2]).reshape((1, 28, 28, 1)).astype(np.float64), \n",
    "                      layer_name = 'c1'):\n",
    "    layer_output = layer_dict[layer_name].output\n",
    "    img_ascs = list()\n",
    "    for filter_index in range(layer_output.shape[3]):\n",
    "        # build a loss function that maximizes the activation\n",
    "        # of the nth filter of the layer considered\n",
    "        loss = K.mean(layer_output[:, :, :, filter_index])\n",
    "\n",
    "        # compute the gradient of the input picture wrt this loss\n",
    "        grads = K.gradients(loss, model.input)[0]\n",
    "\n",
    "        # normalization trick: we normalize the gradient\n",
    "        grads /= (K.sqrt(K.mean(K.square(grads))) + 1e-5)\n",
    "\n",
    "        # this function returns the loss and grads given the input picture\n",
    "        iterate = K.function([model.input], [loss, grads])\n",
    "\n",
    "        # step size for gradient ascent\n",
    "        step = 5.\n",
    "\n",
    "        img_asc = np.array(img)\n",
    "        # run gradient ascent for 20 steps\n",
    "        for i in range(20):\n",
    "            loss_value, grads_value = iterate([img_asc])\n",
    "            img_asc += grads_value * step\n",
    "\n",
    "        img_asc = img_asc[0]\n",
    "        img_ascs.append(deprocess_image(img_asc).reshape((28, 28)))\n",
    "        \n",
    "    nfig = int(layer_output.shape[3])\n",
    "\n",
    "    if nfig >= 35:\n",
    "        plot_x, plot_y = 7, 6\n",
    "    elif nfig >= 29:\n",
    "        plot_x, plot_y = 6, 6\n",
    "    elif nfig >= 23:\n",
    "        plot_x, plot_y = 5, 6\n",
    "    elif nfig >= 17:\n",
    "        plot_x, plot_y = 4, 6\n",
    "    elif nfig >= 11:\n",
    "        plot_x, plot_y = 3, 6\n",
    "    else:\n",
    "        plot_x, plot_y = 1, nfig+1\n",
    "    \n",
    "    fig, ax = plt.subplots(plot_x, plot_y, figsize = (12, 12))\n",
    "    if plot_x > 1:\n",
    "        ax[0, 0].imshow(img.reshape((28, 28)), cmap = 'gray')\n",
    "        ax[0, 0].set_title('Input image')\n",
    "    else:\n",
    "        ax[0].imshow(img.reshape((28, 28)), cmap = 'gray')\n",
    "        ax[0].set_title('Input image')    \n",
    "    for (x, y) in [(i, j) for i in range(plot_x) for j in range(plot_y)]:\n",
    "        if x == 0 and y == 0:\n",
    "            continue\n",
    "        if x * plot_y + y > nfig:\n",
    "            break\n",
    "        if plot_x > 1:\n",
    "            ax[x, y].imshow(img_ascs[x * plot_y + y - 1], cmap = 'gray')\n",
    "            ax[x, y].set_title('filter %d' % (x * plot_y + y - 1))\n",
    "        else:\n",
    "            ax[y].imshow(img_ascs[x * plot_y + y - 1], cmap = 'gray')\n",
    "            ax[y].set_title('filter %d' % (x * plot_y + y - 1))"
   ]
  },
  {
   "cell_type": "code",
   "execution_count": 16,
   "metadata": {},
   "outputs": [
    {
     "data": {
      "image/png": "[encoded data removed]",
      "text/plain": [
       "<Figure size 864x864 with 5 Axes>"
      ]
     },
     "metadata": {
      "needs_background": "light"
     },
     "output_type": "display_data"
    },
    {
     "data": {
      "image/png": "[encoded data removed]",
      "text/plain": [
       "<Figure size 864x864 with 5 Axes>"
      ]
     },
     "metadata": {
      "needs_background": "light"
     },
     "output_type": "display_data"
    },
    {
     "data": {
      "image/png": "[encoded data removed]",
      "text/plain": [
       "<Figure size 864x864 with 5 Axes>"
      ]
     },
     "metadata": {
      "needs_background": "light"
     },
     "output_type": "display_data"
    },
    {
     "data": {
      "image/png": "[encoded data removed]",
      "text/plain": [
       "<Figure size 864x864 with 5 Axes>"
      ]
     },
     "metadata": {
      "needs_background": "light"
     },
     "output_type": "display_data"
    },
    {
     "data": {
      "image/png": "[encoded data removed]",
      "text/plain": [
       "<Figure size 864x864 with 5 Axes>"
      ]
     },
     "metadata": {
      "needs_background": "light"
     },
     "output_type": "display_data"
    },
    {
     "data": {
      "image/png": "[encoded data removed]",
      "text/plain": [
       "<Figure size 864x864 with 5 Axes>"
      ]
     },
     "metadata": {
      "needs_background": "light"
     },
     "output_type": "display_data"
    },
    {
     "data": {
      "image/png": "[encoded data removed]",
      "text/plain": [
       "<Figure size 864x864 with 5 Axes>"
      ]
     },
     "metadata": {
      "needs_background": "light"
     },
     "output_type": "display_data"
    },
    {
     "data": {
      "image/png": "[encoded data removed]",
      "text/plain": [
       "<Figure size 864x864 with 5 Axes>"
      ]
     },
     "metadata": {
      "needs_background": "light"
     },
     "output_type": "display_data"
    },
    {
     "data": {
      "image/png": "[encoded data removed]",
      "text/plain": [
       "<Figure size 864x864 with 5 Axes>"
      ]
     },
     "metadata": {
      "needs_background": "light"
     },
     "output_type": "display_data"
    },
    {
     "data": {
      "image/png": "[encoded data removed]",
      "text/plain": [
       "<Figure size 864x864 with 5 Axes>"
      ]
     },
     "metadata": {
      "needs_background": "light"
     },
     "output_type": "display_data"
    }
   ],
   "source": [
    "ln = 'c1'\n",
    "vis_img_in_filter(img = np.array(X_train[1]).reshape((1, 28, 28, 1)).astype(np.float64),  layer_name = ln)\n",
    "vis_img_in_filter(img = np.array(X_train[3]).reshape((1, 28, 28, 1)).astype(np.float64),  layer_name = ln)\n",
    "vis_img_in_filter(img = np.array(X_train[5]).reshape((1, 28, 28, 1)).astype(np.float64),  layer_name = ln)\n",
    "vis_img_in_filter(img = np.array(X_train[7]).reshape((1, 28, 28, 1)).astype(np.float64),  layer_name = ln)\n",
    "vis_img_in_filter(img = np.array(X_train[2]).reshape((1, 28, 28, 1)).astype(np.float64),  layer_name = ln)\n",
    "vis_img_in_filter(img = np.array(X_train[0]).reshape((1, 28, 28, 1)).astype(np.float64),  layer_name = ln)\n",
    "vis_img_in_filter(img = np.array(X_train[13]).reshape((1, 28, 28, 1)).astype(np.float64),  layer_name = ln)\n",
    "vis_img_in_filter(img = np.array(X_train[15]).reshape((1, 28, 28, 1)).astype(np.float64),  layer_name = ln)\n",
    "vis_img_in_filter(img = np.array(X_train[17]).reshape((1, 28, 28, 1)).astype(np.float64),  layer_name = ln)\n",
    "vis_img_in_filter(img = np.array(X_train[4]).reshape((1, 28, 28, 1)).astype(np.float64),  layer_name = ln)"
   ]
  },
  {
   "cell_type": "code",
   "execution_count": null,
   "metadata": {},
   "outputs": [],
   "source": []
  }
 ],
 "metadata": {
  "accelerator": "GPU",
  "colab": {
   "collapsed_sections": [],
   "name": "1st DNN.ipynb",
   "provenance": [],
   "version": "0.3.2"
  },
  "kernelspec": {
   "display_name": "Python 3",
   "language": "python",
   "name": "python3"
  },
  "language_info": {
   "codemirror_mode": {
    "name": "ipython",
    "version": 3
   },
   "file_extension": ".py",
   "mimetype": "text/x-python",
   "name": "python",
   "nbconvert_exporter": "python",
   "pygments_lexer": "ipython3",
   "version": "3.7.3"
  }
 },
 "nbformat": 4,
 "nbformat_minor": 1
}
