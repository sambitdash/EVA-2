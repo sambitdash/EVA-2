{
 "cells": [
  {
   "cell_type": "markdown",
   "metadata": {
    "colab_type": "text",
    "id": "aNyZv-Ec52ot"
   },
   "source": [
    "# Session-3\n",
    "\n",
    "## Import Libraries and modules"
   ]
  },
  {
   "cell_type": "code",
   "execution_count": 1,
   "metadata": {
    "colab": {
     "base_uri": "https://localhost:8080/",
     "height": 34
    },
    "colab_type": "code",
    "id": "Eso6UHE080D4",
    "outputId": "f409d621-4f2e-4e66-db81-ac039bd2161b"
   },
   "outputs": [],
   "source": [
    "import tensorflow as tf\n",
    "import numpy as np\n",
    "import tensorflow.keras.backend as K\n",
    "import tensorflow.keras.utils as np_utils\n",
    "\n",
    "from tensorflow.keras.models import Sequential\n",
    "from tensorflow.keras.layers import Dense, Dropout, Activation, Flatten, Add\n",
    "\n",
    "from tensorflow.keras.layers import Conv2D, MaxPooling2D\n",
    "from tensorflow.keras.datasets import mnist"
   ]
  },
  {
   "cell_type": "markdown",
   "metadata": {
    "colab_type": "text",
    "id": "zByEi95J86RD"
   },
   "source": [
    "## Load pre-shuffled MNIST data into train and test sets\n",
    "\n",
    "- Training set contains - 60000 images mapping to categories of 0-9 numbers\n",
    "- Test set contains - 10000 images"
   ]
  },
  {
   "cell_type": "code",
   "execution_count": 2,
   "metadata": {
    "colab": {
     "base_uri": "https://localhost:8080/",
     "height": 51
    },
    "colab_type": "code",
    "id": "7eRM0QWN83PV",
    "outputId": "11f2c2b0-15c2-4b17-b2c7-38a62d689031"
   },
   "outputs": [],
   "source": [
    "(X_train, y_train), (X_test, y_test) = mnist.load_data()"
   ]
  },
  {
   "cell_type": "markdown",
   "metadata": {},
   "source": [
    "## Plot Image\n",
    "\n",
    "Plot the first image in the series to understand the image data and get a feel for a sample. Handwritten number 5 is in the set. "
   ]
  },
  {
   "cell_type": "code",
   "execution_count": 3,
   "metadata": {
    "colab": {
     "base_uri": "https://localhost:8080/",
     "height": 299
    },
    "colab_type": "code",
    "id": "4a4Be72j8-ZC",
    "outputId": "628a97c2-a516-4470-d2c8-b9f2e21ff451"
   },
   "outputs": [
    {
     "name": "stdout",
     "output_type": "stream",
     "text": [
      "(60000, 28, 28)\n"
     ]
    },
    {
     "data": {
      "text/plain": [
       "<matplotlib.image.AxesImage at 0x7fd0c5dc8780>"
      ]
     },
     "execution_count": 3,
     "metadata": {},
     "output_type": "execute_result"
    },
    {
     "data": {
      "image/png": "[encoded data removed]",
      "text/plain": [
       "<Figure size 432x288 with 1 Axes>"
      ]
     },
     "metadata": {
      "needs_background": "light"
     },
     "output_type": "display_data"
    }
   ],
   "source": [
    "print (X_train.shape)\n",
    "from matplotlib import pyplot as plt\n",
    "%matplotlib inline\n",
    "plt.imshow(X_train[0])"
   ]
  },
  {
   "cell_type": "markdown",
   "metadata": {},
   "source": [
    "## Add Channel Information\n",
    "\n",
    "The dataset does not have a channels layer as it's a grey scale image. The channel layer is needed for image manipulation and understanding later. So a single channel is extended as a 4th dimension. "
   ]
  },
  {
   "cell_type": "code",
   "execution_count": 4,
   "metadata": {
    "colab": {},
    "colab_type": "code",
    "id": "dkmprriw9AnZ"
   },
   "outputs": [],
   "source": [
    "X_train = X_train.reshape(X_train.shape[0], 28, 28,1)\n",
    "X_test = X_test.reshape(X_test.shape[0], 28, 28,1)"
   ]
  },
  {
   "cell_type": "markdown",
   "metadata": {},
   "source": [
    "## Convert the Data to Float\n",
    "\n",
    "The data is to be converted to float format for better computational resolutions. This also can be GPU dependent. Some GPUs may perform faster on fixed point or integral data type. Since the accuracy requirements higher in this problem one may prefer floats to gain better data resolution. "
   ]
  },
  {
   "cell_type": "code",
   "execution_count": 5,
   "metadata": {
    "colab": {},
    "colab_type": "code",
    "id": "X2m4YS4E9CRh"
   },
   "outputs": [],
   "source": [
    "X_train = X_train.astype('float32')\n",
    "X_test = X_test.astype('float32')\n",
    "X_train /= 255\n",
    "X_test /= 255"
   ]
  },
  {
   "cell_type": "markdown",
   "metadata": {},
   "source": [
    "## List Multiclass Data of the Dependent Variable\n",
    "\n",
    "First 10 category outputs of the dependent variable in the training set. "
   ]
  },
  {
   "cell_type": "code",
   "execution_count": 6,
   "metadata": {
    "colab": {
     "base_uri": "https://localhost:8080/",
     "height": 34
    },
    "colab_type": "code",
    "id": "0Mn0vAYD9DvB",
    "outputId": "7449b5c2-b754-4de4-aca8-334c3e066f8e"
   },
   "outputs": [
    {
     "data": {
      "text/plain": [
       "array([5, 0, 4, 1, 9, 2, 1, 3, 1, 4], dtype=uint8)"
      ]
     },
     "execution_count": 6,
     "metadata": {},
     "output_type": "execute_result"
    }
   ],
   "source": [
    "y_train[:10]"
   ]
  },
  {
   "cell_type": "markdown",
   "metadata": {},
   "source": [
    "## Conversion to Categorical One Hot Vector Notation\n",
    "\n",
    "Neural networks are best represented as 0 and 1 post final activation. Particularly, when softmax is used as the activation function. This notation makes it easier for modeling. "
   ]
  },
  {
   "cell_type": "code",
   "execution_count": 7,
   "metadata": {
    "colab": {},
    "colab_type": "code",
    "id": "ZG8JiXR39FHC"
   },
   "outputs": [],
   "source": [
    "# Convert 1-dimensional class arrays to 10-dimensional class matrices\n",
    "Y_train = np_utils.to_categorical(y_train, 10)\n",
    "Y_test = np_utils.to_categorical(y_test, 10)"
   ]
  },
  {
   "cell_type": "markdown",
   "metadata": {},
   "source": [
    "## List One Hot Vector Notation of the Dependent Variable\n",
    "\n",
    "First 10 category outputs of dependent variable in training set."
   ]
  },
  {
   "cell_type": "code",
   "execution_count": 8,
   "metadata": {
    "colab": {
     "base_uri": "https://localhost:8080/",
     "height": 185
    },
    "colab_type": "code",
    "id": "fYlFRvKS9HMB",
    "outputId": "deedbf1d-34d3-46da-a810-917c84df506e"
   },
   "outputs": [
    {
     "data": {
      "text/plain": [
       "array([[0., 0., 0., 0., 0., 1., 0., 0., 0., 0.],\n",
       "       [1., 0., 0., 0., 0., 0., 0., 0., 0., 0.],\n",
       "       [0., 0., 0., 0., 1., 0., 0., 0., 0., 0.],\n",
       "       [0., 1., 0., 0., 0., 0., 0., 0., 0., 0.],\n",
       "       [0., 0., 0., 0., 0., 0., 0., 0., 0., 1.],\n",
       "       [0., 0., 1., 0., 0., 0., 0., 0., 0., 0.],\n",
       "       [0., 1., 0., 0., 0., 0., 0., 0., 0., 0.],\n",
       "       [0., 0., 0., 1., 0., 0., 0., 0., 0., 0.],\n",
       "       [0., 1., 0., 0., 0., 0., 0., 0., 0., 0.],\n",
       "       [0., 0., 0., 0., 1., 0., 0., 0., 0., 0.]], dtype=float32)"
      ]
     },
     "execution_count": 8,
     "metadata": {},
     "output_type": "execute_result"
    }
   ],
   "source": [
    "Y_train[:10]\n"
   ]
  },
  {
   "cell_type": "markdown",
   "metadata": {},
   "source": [
    "## Definition of the Model\n",
    "\n",
    "1. Sequential model of Keras\n",
    "2. Extracting initial 32x3x3 kernel and extract simple edges \n",
    "3. Aggregate the features to 10x1x1 kernel\n",
    "4. Apply 10x26x26 to extract further features and output of 10x1x1\n",
    "5. Flatten the output to 10 outputs matching the One Hot Vector\n",
    "6. Apply the softmax activation."
   ]
  },
  {
   "cell_type": "code",
   "execution_count": 9,
   "metadata": {
    "colab": {
     "base_uri": "https://localhost:8080/",
     "height": 71
    },
    "colab_type": "code",
    "id": "osKqT73Q9JJB",
    "outputId": "7433f36c-750d-471e-ba6b-19dd86a57ce6"
   },
   "outputs": [
    {
     "name": "stderr",
     "output_type": "stream",
     "text": [
      "WARNING: Logging before flag parsing goes to stderr.\n",
      "W0822 00:52:46.021076 140536702244672 deprecation.py:506] From /home/sambit/anaconda3/lib/python3.7/site-packages/tensorflow/python/ops/init_ops.py:1251: calling VarianceScaling.__init__ (from tensorflow.python.ops.init_ops) with dtype is deprecated and will be removed in a future version.\n",
      "Instructions for updating:\n",
      "Call initializer instance with the dtype argument instead of passing it to the constructor\n"
     ]
    }
   ],
   "source": [
    "model = Sequential()\n",
    "model.add(Conv2D(32, (3, 3), activation='relu', input_shape=(28,28,1), name='c1'))\n",
    "model.add(Conv2D(10, (1, 1), activation='relu', name='c2'))\n",
    "model.add(Conv2D(10, (26, 26), name='c3'))\n",
    "model.add(Flatten(name='f'))\n",
    "model.add(Activation('softmax', name='softmax'))\n"
   ]
  },
  {
   "cell_type": "markdown",
   "metadata": {},
   "source": [
    "## Summary of the Model"
   ]
  },
  {
   "cell_type": "code",
   "execution_count": 10,
   "metadata": {
    "colab": {
     "base_uri": "https://localhost:8080/",
     "height": 303
    },
    "colab_type": "code",
    "id": "TzdAYg1k9K7Z",
    "outputId": "9db63fab-b5f0-475c-db19-9b1aedb4c838",
    "scrolled": true
   },
   "outputs": [
    {
     "name": "stdout",
     "output_type": "stream",
     "text": [
      "Model: \"sequential\"\n",
      "_________________________________________________________________\n",
      "Layer (type)                 Output Shape              Param #   \n",
      "=================================================================\n",
      "c1 (Conv2D)                  (None, 26, 26, 32)        320       \n",
      "_________________________________________________________________\n",
      "c2 (Conv2D)                  (None, 26, 26, 10)        330       \n",
      "_________________________________________________________________\n",
      "c3 (Conv2D)                  (None, 1, 1, 10)          67610     \n",
      "_________________________________________________________________\n",
      "f (Flatten)                  (None, 10)                0         \n",
      "_________________________________________________________________\n",
      "softmax (Activation)         (None, 10)                0         \n",
      "=================================================================\n",
      "Total params: 68,260\n",
      "Trainable params: 68,260\n",
      "Non-trainable params: 0\n",
      "_________________________________________________________________\n"
     ]
    }
   ],
   "source": [
    "model.summary()"
   ]
  },
  {
   "cell_type": "markdown",
   "metadata": {},
   "source": [
    "## Compile the Model\n",
    "\n",
    "The model is to be compiled with categorical cross entropy with ADAM optimizer with increased accuracy as the metric."
   ]
  },
  {
   "cell_type": "code",
   "execution_count": 11,
   "metadata": {
    "colab": {},
    "colab_type": "code",
    "id": "Zp6SuGrL9M3h"
   },
   "outputs": [],
   "source": [
    "model.compile(loss='categorical_crossentropy',\n",
    "             optimizer='adam',\n",
    "             metrics=['accuracy'])"
   ]
  },
  {
   "cell_type": "markdown",
   "metadata": {},
   "source": [
    "## Training\n",
    "\n",
    "The model is trained with the training data at batch size of 32 for 10 epochs. At every batch size the parameters are updated as part of the stochastic process. \n",
    "\n",
    "On training data 99.66% accuracy was observed. However, this may not be still good enough for the validation test data. There may be a possibility of overfitting the output to the training data."
   ]
  },
  {
   "cell_type": "code",
   "execution_count": 12,
   "metadata": {
    "colab": {
     "base_uri": "https://localhost:8080/",
     "height": 423
    },
    "colab_type": "code",
    "id": "4xWoKhPY9Of5",
    "outputId": "179d2338-2c40-4be6-f4cb-27d17c2da356",
    "scrolled": false
   },
   "outputs": [
    {
     "name": "stdout",
     "output_type": "stream",
     "text": [
      "Train on 60000 samples, validate on 10000 samples\n",
      "Epoch 1/10\n",
      "60000/60000 [==============================] - 6s 96us/sample - loss: 0.1887 - acc: 0.9459 - val_loss: 0.0812 - val_acc: 0.9754\n",
      "Epoch 2/10\n",
      "60000/60000 [==============================] - 5s 84us/sample - loss: 0.0688 - acc: 0.9794 - val_loss: 0.0613 - val_acc: 0.9781\n",
      "Epoch 3/10\n",
      "60000/60000 [==============================] - 5s 83us/sample - loss: 0.0505 - acc: 0.9847 - val_loss: 0.0605 - val_acc: 0.9810\n",
      "Epoch 4/10\n",
      "60000/60000 [==============================] - 5s 82us/sample - loss: 0.0387 - acc: 0.9877 - val_loss: 0.0597 - val_acc: 0.9810\n",
      "Epoch 5/10\n",
      "60000/60000 [==============================] - 5s 80us/sample - loss: 0.0306 - acc: 0.9904 - val_loss: 0.0566 - val_acc: 0.9828\n",
      "Epoch 6/10\n",
      "60000/60000 [==============================] - 5s 78us/sample - loss: 0.0239 - acc: 0.9924 - val_loss: 0.0585 - val_acc: 0.9824\n",
      "Epoch 7/10\n",
      "60000/60000 [==============================] - 5s 78us/sample - loss: 0.0197 - acc: 0.9937 - val_loss: 0.0612 - val_acc: 0.9820\n",
      "Epoch 8/10\n",
      "60000/60000 [==============================] - 5s 78us/sample - loss: 0.0161 - acc: 0.9948 - val_loss: 0.0650 - val_acc: 0.9819\n",
      "Epoch 9/10\n",
      "60000/60000 [==============================] - 5s 79us/sample - loss: 0.0124 - acc: 0.9958 - val_loss: 0.0874 - val_acc: 0.9767\n",
      "Epoch 10/10\n",
      "60000/60000 [==============================] - 5s 78us/sample - loss: 0.0096 - acc: 0.9967 - val_loss: 0.0785 - val_acc: 0.9828\n"
     ]
    },
    {
     "data": {
      "text/plain": [
       "<tensorflow.python.keras.callbacks.History at 0x7fd0c5da2358>"
      ]
     },
     "execution_count": 12,
     "metadata": {},
     "output_type": "execute_result"
    }
   ],
   "source": [
    "model.fit(X_train, Y_train, batch_size=32, epochs=10, verbose=1, validation_data=(X_test, Y_test))"
   ]
  },
  {
   "cell_type": "markdown",
   "metadata": {},
   "source": [
    "## Validation\n",
    "\n",
    "Validation is carried out with the test data and score is is computed. The score is essentially the accuracy obtained by the evaluating the model against the portion of the data specifically carved out for testing. \n",
    "\n",
    "As can be seen the validation outcome is 98.16% clearly a significant departure from the traing outcome confirming overfitting of the model. "
   ]
  },
  {
   "cell_type": "code",
   "execution_count": 13,
   "metadata": {
    "colab": {},
    "colab_type": "code",
    "id": "AtsH-lLk-eLb"
   },
   "outputs": [],
   "source": [
    "score = model.evaluate(X_test, Y_test, verbose=0)"
   ]
  },
  {
   "cell_type": "code",
   "execution_count": 14,
   "metadata": {
    "colab": {
     "base_uri": "https://localhost:8080/",
     "height": 34
    },
    "colab_type": "code",
    "id": "mkX8JMv79q9r",
    "outputId": "39da9c7f-7727-4e75-90f1-69a8872eb288"
   },
   "outputs": [
    {
     "name": "stdout",
     "output_type": "stream",
     "text": [
      "[0.07847292177852433, 0.9828]\n"
     ]
    }
   ],
   "source": [
    "print(score)"
   ]
  },
  {
   "cell_type": "markdown",
   "metadata": {},
   "source": [
    "## Prediction\n",
    "\n",
    "Taking a the test data values are predicted. This can be compared with the output of the test data to confirm the quality of the prediction."
   ]
  },
  {
   "cell_type": "code",
   "execution_count": 15,
   "metadata": {
    "colab": {},
    "colab_type": "code",
    "id": "OCWoJkwE9suh"
   },
   "outputs": [],
   "source": [
    "y_pred = model.predict(X_test)"
   ]
  },
  {
   "cell_type": "code",
   "execution_count": 16,
   "metadata": {
    "colab": {
     "base_uri": "https://localhost:8080/",
     "height": 340
    },
    "colab_type": "code",
    "id": "Ym7iCFBm9uBs",
    "outputId": "63105130-a938-481a-982d-795f6a299ddc"
   },
   "outputs": [
    {
     "name": "stdout",
     "output_type": "stream",
     "text": [
      "[[0. 0. 0. 0. 0. 0. 0. 1. 0. 0.]\n",
      " [0. 0. 1. 0. 0. 0. 0. 0. 0. 0.]\n",
      " [0. 1. 0. 0. 0. 0. 0. 0. 0. 0.]\n",
      " [1. 0. 0. 0. 0. 0. 0. 0. 0. 0.]\n",
      " [0. 0. 0. 0. 1. 0. 0. 0. 0. 0.]\n",
      " [0. 1. 0. 0. 0. 0. 0. 0. 0. 0.]\n",
      " [0. 0. 0. 0. 1. 0. 0. 0. 0. 0.]\n",
      " [0. 0. 0. 0. 0. 0. 0. 0. 0. 1.]\n",
      " [0. 0. 0. 0. 0. 1. 0. 0. 0. 0.]\n",
      " [0. 0. 0. 0. 0. 0. 0. 0. 0. 1.]]\n",
      "[7 2 1 0 4 1 4 9 5 9]\n"
     ]
    }
   ],
   "source": [
    "np.set_printoptions(precision=1, suppress=True)\n",
    "print(y_pred[:10])\n",
    "print(y_test[:10])"
   ]
  },
  {
   "cell_type": "markdown",
   "metadata": {},
   "source": [
    "## Kernel Visualization\n",
    "\n",
    "Although the kernels are an important entity in a CNN, it's never easy to visualize what features are extracted from the image. Kernels directly will have only floating point numbers which have little visualization ability. A reverse computation is carried out applying gradients over a short set of data over a few iterations to show actually what features are captured.\n",
    "\n",
    "Running the kernel over the input data for 20 iteration, gives an idea of the features extracted on application of the kernel. "
   ]
  },
  {
   "cell_type": "code",
   "execution_count": 17,
   "metadata": {
    "colab": {},
    "colab_type": "code",
    "id": "CT--y98_dr2T"
   },
   "outputs": [],
   "source": [
    "layer_dict = dict([(layer.name, layer) for layer in model.layers])"
   ]
  },
  {
   "cell_type": "code",
   "execution_count": 18,
   "metadata": {
    "colab": {
     "base_uri": "https://localhost:8080/",
     "height": 839
    },
    "colab_type": "code",
    "id": "2GY4Upv4dsUR",
    "outputId": "3a2e0c8a-cafa-41dd-95af-a906d7d91393",
    "scrolled": true
   },
   "outputs": [
    {
     "data": {
      "image/png": "[encoded data removed]",
      "text/plain": [
       "<Figure size 864x864 with 24 Axes>"
      ]
     },
     "metadata": {
      "needs_background": "light"
     },
     "output_type": "display_data"
    }
   ],
   "source": [
    "import numpy as np\n",
    "from tensorflow.keras import backend as K\n",
    "from matplotlib import pyplot as plt\n",
    "%matplotlib inline\n",
    "# util function to convert a tensor into a valid image\n",
    "def deprocess_image(x):\n",
    "    # normalize tensor: center on 0., ensure std is 0.1\n",
    "    x -= x.mean()\n",
    "    x /= (x.std() + 1e-5)\n",
    "    x *= 0.1\n",
    "\n",
    "    # clip to [0, 1]\n",
    "    x += 0.5\n",
    "    x = np.clip(x, 0, 1)\n",
    "\n",
    "    # convert to RGB array\n",
    "    x *= 255\n",
    "    #x = x.transpose((1, 2, 0))\n",
    "    x = np.clip(x, 0, 255).astype('uint8')\n",
    "    return x\n",
    "\n",
    "def vis_img_in_filter(img = np.array(X_train[2]).reshape((1, 28, 28, 1)).astype(np.float64), \n",
    "                      layer_name = 'c1'):\n",
    "    layer_output = layer_dict[layer_name].output\n",
    "    img_ascs = list()\n",
    "    for filter_index in range(layer_output.shape[3]):\n",
    "        # build a loss function that maximizes the activation\n",
    "        # of the nth filter of the layer considered\n",
    "        loss = K.mean(layer_output[:, :, :, filter_index])\n",
    "\n",
    "        # compute the gradient of the input picture wrt this loss\n",
    "        grads = K.gradients(loss, model.input)[0]\n",
    "\n",
    "        # normalization trick: we normalize the gradient\n",
    "        grads /= (K.sqrt(K.mean(K.square(grads))) + 1e-5)\n",
    "\n",
    "        # this function returns the loss and grads given the input picture\n",
    "        iterate = K.function([model.input], [loss, grads])\n",
    "\n",
    "        # step size for gradient ascent\n",
    "        step = 5.\n",
    "\n",
    "        img_asc = np.array(img)\n",
    "        # run gradient ascent for 20 steps\n",
    "        for i in range(20):\n",
    "            loss_value, grads_value = iterate([img_asc])\n",
    "            img_asc += grads_value * step\n",
    "\n",
    "        img_asc = img_asc[0]\n",
    "        img_ascs.append(deprocess_image(img_asc).reshape((28, 28)))\n",
    "        \n",
    "    if layer_output.shape[3] >= 35:\n",
    "        plot_x, plot_y = 6, 6\n",
    "    elif layer_output.shape[3] >= 23:\n",
    "        plot_x, plot_y = 4, 6\n",
    "    elif layer_output.shape[3] >= 11:\n",
    "        plot_x, plot_y = 2, 6\n",
    "    else:\n",
    "        plot_x, plot_y = 1, 2\n",
    "    fig, ax = plt.subplots(plot_x, plot_y, figsize = (12, 12))\n",
    "    ax[0, 0].imshow(img.reshape((28, 28)), cmap = 'gray')\n",
    "    ax[0, 0].set_title('Input image')\n",
    "    fig.suptitle('Input image and %s filters' % (layer_name,))\n",
    "    fig.tight_layout(pad = 0.3, rect = [0, 0, 0.9, 0.9])\n",
    "    for (x, y) in [(i, j) for i in range(plot_x) for j in range(plot_y)]:\n",
    "        if x == 0 and y == 0:\n",
    "            continue\n",
    "        ax[x, y].imshow(img_ascs[x * plot_y + y - 1], cmap = 'gray')\n",
    "        ax[x, y].set_title('filter %d' % (x * plot_y + y - 1))\n",
    "\n",
    "vis_img_in_filter()"
   ]
  },
  {
   "cell_type": "markdown",
   "metadata": {},
   "source": [
    "## Improved Model\n",
    "\n",
    "An improved model is proposed with a goal to show validation accuracy above 99.4%. A sequential Model is designed with:\n",
    "\n",
    "1. 2 16x3x3 Convolutiion with ReLu Activation\n",
    "2. MaxPool2D of 2x2 \n",
    "3. 2 16x3x3 Convolutiion with ReLu Activation\n",
    "4. MaxPool2D of 2x2 \n",
    "5. 1 64x3x3 Convolutiion with ReLu Activation\n",
    "6. 1 10x2x2 No activations \n",
    "7. Flatten the results \n",
    "8. Softmax activation to match the outcome to One Hot Vector notation\n",
    "\n",
    "Overall 18,970 parameters\n",
    "\n",
    "Loss function chosen is *poisson* of form:  $$\\sum_{i=1}^{N} y_p - y_t*log(y_p)$$\n",
    "\n",
    "unlike categorical crossentropy: $$\\sum_{i=1}^{N} - y_t*log(y_p)$$\n",
    "\n",
    "that does not penalize for other values of wrong prediction where the maximum predicted value may not be at the target category index.\n"
   ]
  },
  {
   "cell_type": "code",
   "execution_count": 19,
   "metadata": {},
   "outputs": [
    {
     "name": "stdout",
     "output_type": "stream",
     "text": [
      "Model: \"sequential_1\"\n",
      "_________________________________________________________________\n",
      "Layer (type)                 Output Shape              Param #   \n",
      "=================================================================\n",
      "conv2d (Conv2D)              (None, 26, 26, 16)        160       \n",
      "_________________________________________________________________\n",
      "conv2d_1 (Conv2D)            (None, 24, 24, 16)        2320      \n",
      "_________________________________________________________________\n",
      "max_pooling2d (MaxPooling2D) (None, 12, 12, 16)        0         \n",
      "_________________________________________________________________\n",
      "conv2d_2 (Conv2D)            (None, 10, 10, 16)        2320      \n",
      "_________________________________________________________________\n",
      "conv2d_3 (Conv2D)            (None, 8, 8, 16)          2320      \n",
      "_________________________________________________________________\n",
      "max_pooling2d_1 (MaxPooling2 (None, 4, 4, 16)          0         \n",
      "_________________________________________________________________\n",
      "conv2d_4 (Conv2D)            (None, 2, 2, 64)          9280      \n",
      "_________________________________________________________________\n",
      "conv2d_5 (Conv2D)            (None, 1, 1, 10)          2570      \n",
      "_________________________________________________________________\n",
      "flatten (Flatten)            (None, 10)                0         \n",
      "_________________________________________________________________\n",
      "activation (Activation)      (None, 10)                0         \n",
      "=================================================================\n",
      "Total params: 18,970\n",
      "Trainable params: 18,970\n",
      "Non-trainable params: 0\n",
      "_________________________________________________________________\n"
     ]
    }
   ],
   "source": [
    "model = Sequential()\n",
    "model.add(Conv2D(16, (3, 3), activation='relu', input_shape=(28,28,1)))\n",
    "model.add(Conv2D(16, (3, 3), activation='relu'))\n",
    "model.add(MaxPooling2D(2, 2))\n",
    "model.add(Conv2D(16, (3, 3), activation='relu'))\n",
    "model.add(Conv2D(16, (3, 3), activation='relu'))\n",
    "model.add(MaxPooling2D(2, 2))\n",
    "model.add(Conv2D(64, (3, 3), activation='relu'))\n",
    "model.add(Conv2D(10, (2, 2)))\n",
    "model.add(Flatten())\n",
    "model.add(Activation('softmax'))\n",
    "model.summary()\n",
    "\n",
    "model.compile(loss='poisson', optimizer='adam', metrics=['categorical_accuracy'])\n"
   ]
  },
  {
   "cell_type": "markdown",
   "metadata": {},
   "source": [
    "## Training Process\n",
    "\n",
    "While most of the model part is fairly kept standard with CNN with a combination of convolutions and maxpooling the training approach is enhanced with an ensemble technique called stratfied K-fold. \n",
    "\n",
    "The training for a neural network can be improved when optimal statistical mixing can be carried out for the input for a homogenized mix of batches. This is achieved by stratified k-fold. Here the training data is broken into disjoint sets of 5 with almost equal sample occurence of any of the classes of 0-9 in each of the groups. 4 such groups are used as a training set and validated against one of the set as validation set. Thus the results are cross validated against each other. This ensures the batches are homogeneous and uniformly exposed to the each category of the inputs. Each such groups is run for 10 epochs but parameters being fed from the previous run. \n",
    "\n",
    "Moreover, in every epoch the validation rsults are computed with the original test dataset of 10000 data points.\n",
    "\n",
    "\n",
    "The technique has been a small modification of explanation given in the [article](https://machinelearningmastery.com/evaluate-performance-deep-learning-models-keras/)\n",
    "\n",
    "The best output was shown with accuracy of: **99.36%**"
   ]
  },
  {
   "cell_type": "code",
   "execution_count": 20,
   "metadata": {},
   "outputs": [
    {
     "name": "stdout",
     "output_type": "stream",
     "text": [
      "Train on 47995 samples, validate on 10000 samples\n",
      "Epoch 1/15\n",
      "47995/47995 [==============================] - 2s 44us/sample - loss: 0.1373 - categorical_accuracy: 0.8866 - val_loss: 0.1091 - val_categorical_accuracy: 0.9711\n",
      "Epoch 2/15\n",
      "47995/47995 [==============================] - 2s 40us/sample - loss: 0.1095 - categorical_accuracy: 0.9703 - val_loss: 0.1053 - val_categorical_accuracy: 0.9830\n",
      "Epoch 3/15\n",
      "47995/47995 [==============================] - 2s 39us/sample - loss: 0.1066 - categorical_accuracy: 0.9791 - val_loss: 0.1045 - val_categorical_accuracy: 0.9839\n",
      "Epoch 4/15\n",
      "47995/47995 [==============================] - 2s 39us/sample - loss: 0.1051 - categorical_accuracy: 0.9837 - val_loss: 0.1044 - val_categorical_accuracy: 0.9845\n",
      "Epoch 5/15\n",
      "47995/47995 [==============================] - 2s 40us/sample - loss: 0.1044 - categorical_accuracy: 0.9859 - val_loss: 0.1039 - val_categorical_accuracy: 0.9874\n",
      "Epoch 6/15\n",
      "47995/47995 [==============================] - 2s 39us/sample - loss: 0.1036 - categorical_accuracy: 0.9887 - val_loss: 0.1045 - val_categorical_accuracy: 0.9864\n",
      "Epoch 7/15\n",
      "47995/47995 [==============================] - 2s 41us/sample - loss: 0.1030 - categorical_accuracy: 0.9902 - val_loss: 0.1033 - val_categorical_accuracy: 0.9894\n",
      "Epoch 8/15\n",
      "47995/47995 [==============================] - 2s 42us/sample - loss: 0.1028 - categorical_accuracy: 0.9901 - val_loss: 0.1033 - val_categorical_accuracy: 0.9896\n",
      "Epoch 9/15\n",
      "47995/47995 [==============================] - 2s 40us/sample - loss: 0.1023 - categorical_accuracy: 0.9929 - val_loss: 0.1032 - val_categorical_accuracy: 0.9895\n",
      "Epoch 10/15\n",
      "47995/47995 [==============================] - 2s 39us/sample - loss: 0.1021 - categorical_accuracy: 0.9929 - val_loss: 0.1026 - val_categorical_accuracy: 0.9904\n",
      "Epoch 11/15\n",
      "47995/47995 [==============================] - 2s 40us/sample - loss: 0.1018 - categorical_accuracy: 0.9940 - val_loss: 0.1033 - val_categorical_accuracy: 0.9882\n",
      "Epoch 12/15\n",
      "47995/47995 [==============================] - 2s 39us/sample - loss: 0.1017 - categorical_accuracy: 0.9944 - val_loss: 0.1030 - val_categorical_accuracy: 0.9907\n",
      "Epoch 13/15\n",
      "47995/47995 [==============================] - 2s 38us/sample - loss: 0.1015 - categorical_accuracy: 0.9951 - val_loss: 0.1034 - val_categorical_accuracy: 0.9899\n",
      "Epoch 14/15\n",
      "47995/47995 [==============================] - 2s 38us/sample - loss: 0.1013 - categorical_accuracy: 0.9958 - val_loss: 0.1034 - val_categorical_accuracy: 0.9898\n",
      "Epoch 15/15\n",
      "47995/47995 [==============================] - 2s 38us/sample - loss: 0.1012 - categorical_accuracy: 0.9961 - val_loss: 0.1031 - val_categorical_accuracy: 0.9910\n",
      "categorical_accuracy: 99.04%\n",
      "Train on 47998 samples, validate on 10000 samples\n",
      "Epoch 1/15\n",
      "47998/47998 [==============================] - 2s 39us/sample - loss: 0.1021 - categorical_accuracy: 0.9942 - val_loss: 0.1036 - val_categorical_accuracy: 0.9899\n",
      "Epoch 2/15\n",
      "47998/47998 [==============================] - 2s 38us/sample - loss: 0.1015 - categorical_accuracy: 0.9955 - val_loss: 0.1030 - val_categorical_accuracy: 0.9909\n",
      "Epoch 3/15\n",
      "47998/47998 [==============================] - 2s 38us/sample - loss: 0.1012 - categorical_accuracy: 0.9957 - val_loss: 0.1035 - val_categorical_accuracy: 0.9902\n",
      "Epoch 4/15\n",
      "47998/47998 [==============================] - 2s 38us/sample - loss: 0.1012 - categorical_accuracy: 0.9964 - val_loss: 0.1028 - val_categorical_accuracy: 0.9914\n",
      "Epoch 5/15\n",
      "47998/47998 [==============================] - 2s 38us/sample - loss: 0.1010 - categorical_accuracy: 0.9972 - val_loss: 0.1026 - val_categorical_accuracy: 0.9924\n",
      "Epoch 6/15\n",
      "47998/47998 [==============================] - 2s 38us/sample - loss: 0.1009 - categorical_accuracy: 0.9970 - val_loss: 0.1031 - val_categorical_accuracy: 0.9906\n",
      "Epoch 7/15\n",
      "47998/47998 [==============================] - 2s 37us/sample - loss: 0.1009 - categorical_accuracy: 0.9970 - val_loss: 0.1039 - val_categorical_accuracy: 0.9898\n",
      "Epoch 8/15\n",
      "47998/47998 [==============================] - 2s 37us/sample - loss: 0.1008 - categorical_accuracy: 0.9971 - val_loss: 0.1038 - val_categorical_accuracy: 0.9902\n",
      "Epoch 9/15\n",
      "47998/47998 [==============================] - 2s 37us/sample - loss: 0.1008 - categorical_accuracy: 0.9973 - val_loss: 0.1031 - val_categorical_accuracy: 0.9922\n",
      "Epoch 10/15\n",
      "47998/47998 [==============================] - 2s 38us/sample - loss: 0.1007 - categorical_accuracy: 0.9980 - val_loss: 0.1029 - val_categorical_accuracy: 0.9912\n",
      "Epoch 11/15\n",
      "47998/47998 [==============================] - 2s 38us/sample - loss: 0.1006 - categorical_accuracy: 0.9982 - val_loss: 0.1041 - val_categorical_accuracy: 0.9908\n",
      "Epoch 12/15\n",
      "47998/47998 [==============================] - 2s 38us/sample - loss: 0.1006 - categorical_accuracy: 0.9983 - val_loss: 0.1038 - val_categorical_accuracy: 0.9916\n",
      "Epoch 13/15\n",
      "47998/47998 [==============================] - 2s 38us/sample - loss: 0.1008 - categorical_accuracy: 0.9971 - val_loss: 0.1033 - val_categorical_accuracy: 0.9923\n",
      "Epoch 14/15\n",
      "47998/47998 [==============================] - 2s 38us/sample - loss: 0.1005 - categorical_accuracy: 0.9985 - val_loss: 0.1038 - val_categorical_accuracy: 0.9920\n",
      "Epoch 15/15\n",
      "47998/47998 [==============================] - 2s 37us/sample - loss: 0.1006 - categorical_accuracy: 0.9981 - val_loss: 0.1032 - val_categorical_accuracy: 0.9920\n",
      "categorical_accuracy: 99.36%\n",
      "Train on 48000 samples, validate on 10000 samples\n",
      "Epoch 1/15\n",
      "48000/48000 [==============================] - 2s 37us/sample - loss: 0.1014 - categorical_accuracy: 0.9955 - val_loss: 0.1028 - val_categorical_accuracy: 0.9928\n",
      "Epoch 2/15\n",
      "48000/48000 [==============================] - 2s 38us/sample - loss: 0.1006 - categorical_accuracy: 0.9980 - val_loss: 0.1030 - val_categorical_accuracy: 0.9924\n",
      "Epoch 3/15\n",
      "48000/48000 [==============================] - 2s 38us/sample - loss: 0.1007 - categorical_accuracy: 0.9979 - val_loss: 0.1037 - val_categorical_accuracy: 0.9907\n",
      "Epoch 4/15\n",
      "48000/48000 [==============================] - 2s 38us/sample - loss: 0.1005 - categorical_accuracy: 0.9984 - val_loss: 0.1041 - val_categorical_accuracy: 0.9908\n",
      "Epoch 5/15\n",
      "48000/48000 [==============================] - 2s 38us/sample - loss: 0.1005 - categorical_accuracy: 0.9982 - val_loss: 0.1034 - val_categorical_accuracy: 0.9916\n",
      "Epoch 6/15\n",
      "48000/48000 [==============================] - 2s 38us/sample - loss: 0.1004 - categorical_accuracy: 0.9986 - val_loss: 0.1033 - val_categorical_accuracy: 0.9919\n",
      "Epoch 7/15\n",
      "48000/48000 [==============================] - 2s 38us/sample - loss: 0.1004 - categorical_accuracy: 0.9989 - val_loss: 0.1035 - val_categorical_accuracy: 0.9927\n",
      "Epoch 8/15\n",
      "48000/48000 [==============================] - 2s 37us/sample - loss: 0.1006 - categorical_accuracy: 0.9978 - val_loss: 0.1040 - val_categorical_accuracy: 0.9913\n",
      "Epoch 9/15\n",
      "48000/48000 [==============================] - 2s 39us/sample - loss: 0.1005 - categorical_accuracy: 0.9983 - val_loss: 0.1035 - val_categorical_accuracy: 0.9899\n",
      "Epoch 10/15\n",
      "48000/48000 [==============================] - 2s 39us/sample - loss: 0.1003 - categorical_accuracy: 0.9991 - val_loss: 0.1035 - val_categorical_accuracy: 0.9918\n",
      "Epoch 11/15\n",
      "48000/48000 [==============================] - 2s 39us/sample - loss: 0.1003 - categorical_accuracy: 0.9990 - val_loss: 0.1041 - val_categorical_accuracy: 0.9916\n",
      "Epoch 12/15\n",
      "48000/48000 [==============================] - 2s 39us/sample - loss: 0.1005 - categorical_accuracy: 0.9984 - val_loss: 0.1041 - val_categorical_accuracy: 0.9915\n",
      "Epoch 13/15\n",
      "48000/48000 [==============================] - 2s 38us/sample - loss: 0.1004 - categorical_accuracy: 0.9986 - val_loss: 0.1042 - val_categorical_accuracy: 0.9922\n",
      "Epoch 14/15\n",
      "48000/48000 [==============================] - 2s 39us/sample - loss: 0.1005 - categorical_accuracy: 0.9986 - val_loss: 0.1032 - val_categorical_accuracy: 0.9928\n",
      "Epoch 15/15\n",
      "48000/48000 [==============================] - 2s 38us/sample - loss: 0.1002 - categorical_accuracy: 0.9996 - val_loss: 0.1031 - val_categorical_accuracy: 0.9933\n",
      "categorical_accuracy: 99.72%\n",
      "Train on 48003 samples, validate on 10000 samples\n",
      "Epoch 1/15\n"
     ]
    },
    {
     "name": "stdout",
     "output_type": "stream",
     "text": [
      "48003/48003 [==============================] - 2s 38us/sample - loss: 0.1009 - categorical_accuracy: 0.9971 - val_loss: 0.1041 - val_categorical_accuracy: 0.9895\n",
      "Epoch 2/15\n",
      "48003/48003 [==============================] - 2s 39us/sample - loss: 0.1004 - categorical_accuracy: 0.9988 - val_loss: 0.1034 - val_categorical_accuracy: 0.9929\n",
      "Epoch 3/15\n",
      "48003/48003 [==============================] - 2s 38us/sample - loss: 0.1003 - categorical_accuracy: 0.9991 - val_loss: 0.1037 - val_categorical_accuracy: 0.9917\n",
      "Epoch 4/15\n",
      "48003/48003 [==============================] - 2s 38us/sample - loss: 0.1004 - categorical_accuracy: 0.9987 - val_loss: 0.1043 - val_categorical_accuracy: 0.9910\n",
      "Epoch 5/15\n",
      "48003/48003 [==============================] - 2s 38us/sample - loss: 0.1002 - categorical_accuracy: 0.9993 - val_loss: 0.1039 - val_categorical_accuracy: 0.9915\n",
      "Epoch 6/15\n",
      "48003/48003 [==============================] - 2s 39us/sample - loss: 0.1004 - categorical_accuracy: 0.9988 - val_loss: 0.1046 - val_categorical_accuracy: 0.9909\n",
      "Epoch 7/15\n",
      "48003/48003 [==============================] - 2s 37us/sample - loss: 0.1004 - categorical_accuracy: 0.9987 - val_loss: 0.1040 - val_categorical_accuracy: 0.9916\n",
      "Epoch 8/15\n",
      "48003/48003 [==============================] - 2s 38us/sample - loss: 0.1003 - categorical_accuracy: 0.9990 - val_loss: 0.1037 - val_categorical_accuracy: 0.9930\n",
      "Epoch 9/15\n",
      "48003/48003 [==============================] - 2s 37us/sample - loss: 0.1001 - categorical_accuracy: 0.9996 - val_loss: 0.1033 - val_categorical_accuracy: 0.9934\n",
      "Epoch 10/15\n",
      "48003/48003 [==============================] - 2s 37us/sample - loss: 0.1005 - categorical_accuracy: 0.9985 - val_loss: 0.1038 - val_categorical_accuracy: 0.9920\n",
      "Epoch 11/15\n",
      "48003/48003 [==============================] - 2s 38us/sample - loss: 0.1003 - categorical_accuracy: 0.9990 - val_loss: 0.1044 - val_categorical_accuracy: 0.9916\n",
      "Epoch 12/15\n",
      "48003/48003 [==============================] - 2s 38us/sample - loss: 0.1001 - categorical_accuracy: 0.9995 - val_loss: 0.1039 - val_categorical_accuracy: 0.9926\n",
      "Epoch 13/15\n",
      "48003/48003 [==============================] - 2s 37us/sample - loss: 0.1002 - categorical_accuracy: 0.9994 - val_loss: 0.1047 - val_categorical_accuracy: 0.9918\n",
      "Epoch 14/15\n",
      "48003/48003 [==============================] - 2s 38us/sample - loss: 0.1005 - categorical_accuracy: 0.9985 - val_loss: 0.1042 - val_categorical_accuracy: 0.9913\n",
      "Epoch 15/15\n",
      "48003/48003 [==============================] - 2s 38us/sample - loss: 0.1004 - categorical_accuracy: 0.9989 - val_loss: 0.1045 - val_categorical_accuracy: 0.9923\n",
      "categorical_accuracy: 99.64%\n",
      "Train on 48004 samples, validate on 10000 samples\n",
      "Epoch 1/15\n",
      "48004/48004 [==============================] - 2s 38us/sample - loss: 0.1007 - categorical_accuracy: 0.9977 - val_loss: 0.1056 - val_categorical_accuracy: 0.9899\n",
      "Epoch 2/15\n",
      "48004/48004 [==============================] - 2s 38us/sample - loss: 0.1003 - categorical_accuracy: 0.9993 - val_loss: 0.1038 - val_categorical_accuracy: 0.9928\n",
      "Epoch 3/15\n",
      "48004/48004 [==============================] - 2s 38us/sample - loss: 0.1002 - categorical_accuracy: 0.9991 - val_loss: 0.1050 - val_categorical_accuracy: 0.9912\n",
      "Epoch 4/15\n",
      "48004/48004 [==============================] - 2s 37us/sample - loss: 0.1003 - categorical_accuracy: 0.9989 - val_loss: 0.1046 - val_categorical_accuracy: 0.9924\n",
      "Epoch 5/15\n",
      "48004/48004 [==============================] - 2s 38us/sample - loss: 0.1005 - categorical_accuracy: 0.9983 - val_loss: 0.1039 - val_categorical_accuracy: 0.9915\n",
      "Epoch 6/15\n",
      "48004/48004 [==============================] - 2s 38us/sample - loss: 0.1002 - categorical_accuracy: 0.9994 - val_loss: 0.1039 - val_categorical_accuracy: 0.9928\n",
      "Epoch 7/15\n",
      "48004/48004 [==============================] - 2s 38us/sample - loss: 0.1001 - categorical_accuracy: 0.9997 - val_loss: 0.1040 - val_categorical_accuracy: 0.9919\n",
      "Epoch 8/15\n",
      "48004/48004 [==============================] - 2s 37us/sample - loss: 0.1001 - categorical_accuracy: 0.9999 - val_loss: 0.1035 - val_categorical_accuracy: 0.9939\n",
      "Epoch 9/15\n",
      "48004/48004 [==============================] - 2s 38us/sample - loss: 0.1000 - categorical_accuracy: 1.0000 - val_loss: 0.1036 - val_categorical_accuracy: 0.9932\n",
      "Epoch 10/15\n",
      "48004/48004 [==============================] - 2s 38us/sample - loss: 0.1000 - categorical_accuracy: 1.0000 - val_loss: 0.1036 - val_categorical_accuracy: 0.9933\n",
      "Epoch 11/15\n",
      "48004/48004 [==============================] - 2s 38us/sample - loss: 0.1000 - categorical_accuracy: 1.0000 - val_loss: 0.1036 - val_categorical_accuracy: 0.9933\n",
      "Epoch 12/15\n",
      "48004/48004 [==============================] - 2s 37us/sample - loss: 0.1000 - categorical_accuracy: 1.0000 - val_loss: 0.1037 - val_categorical_accuracy: 0.9933\n",
      "Epoch 13/15\n",
      "48004/48004 [==============================] - 2s 38us/sample - loss: 0.1000 - categorical_accuracy: 1.0000 - val_loss: 0.1037 - val_categorical_accuracy: 0.9932\n",
      "Epoch 14/15\n",
      "48004/48004 [==============================] - 2s 38us/sample - loss: 0.1000 - categorical_accuracy: 1.0000 - val_loss: 0.1037 - val_categorical_accuracy: 0.9933\n",
      "Epoch 15/15\n",
      "48004/48004 [==============================] - 2s 38us/sample - loss: 0.1000 - categorical_accuracy: 1.0000 - val_loss: 0.1038 - val_categorical_accuracy: 0.9934\n",
      "categorical_accuracy: 99.97%\n"
     ]
    }
   ],
   "source": [
    "from tensorflow.keras.callbacks import EarlyStopping\n",
    "from sklearn.model_selection import StratifiedKFold\n",
    "\n",
    "earlystop = EarlyStopping(monitor='acc', patience=5, verbose=1, restore_best_weights=True)\n",
    "\n",
    "seed = 7\n",
    "np.random.seed(seed)\n",
    "# define 10-fold cross validation test harness\n",
    "kfold = StratifiedKFold(n_splits=5, shuffle=True, random_state=seed)\n",
    "cvscores = []\n",
    "(X, Y) = (X_train, y_train)\n",
    "for train, test in kfold.split(X, Y):\n",
    "    # Fit the model\n",
    "    model.fit(X[train], Y_train[train], epochs=15, batch_size=128, verbose=1, validation_data=(X_test, Y_test))\n",
    "    # evaluate the model\n",
    "    scores = model.evaluate(X[test], Y_train[test], verbose=0)\n",
    "    print(\"%s: %.2f%%\" % (model.metrics_names[1], scores[1]*100))\n",
    "    cvscores.append(scores[1] * 100)"
   ]
  },
  {
   "cell_type": "markdown",
   "metadata": {},
   "source": [
    "## Results\n",
    "\n",
    "The final cross validation score is averaged over each of the iterations are stated. As expected, the cross validation being on the training data there is a continuous pattern of overfitting of the data. However, what is interesting to observe the validation score over the test data has also significantly improved at **99.39%**. "
   ]
  },
  {
   "cell_type": "code",
   "execution_count": 21,
   "metadata": {},
   "outputs": [
    {
     "data": {
      "text/plain": [
       "[99.04206395149231,\n",
       " 99.3584394454956,\n",
       " 99.71666932106018,\n",
       " 99.64157938957214,\n",
       " 99.97498989105225]"
      ]
     },
     "execution_count": 21,
     "metadata": {},
     "output_type": "execute_result"
    }
   ],
   "source": [
    "cvscores"
   ]
  },
  {
   "cell_type": "code",
   "execution_count": 22,
   "metadata": {},
   "outputs": [
    {
     "name": "stdout",
     "output_type": "stream",
     "text": [
      "10000/10000 [==============================] - 0s 42us/sample - loss: 0.1038 - categorical_accuracy: 0.9934\n"
     ]
    }
   ],
   "source": [
    "score = model.evaluate(X_test, Y_test, verbose=1)"
   ]
  },
  {
   "cell_type": "code",
   "execution_count": 23,
   "metadata": {},
   "outputs": [
    {
     "name": "stdout",
     "output_type": "stream",
     "text": [
      "[0.1037611630320549, 0.9934]\n"
     ]
    }
   ],
   "source": [
    "print(score)"
   ]
  },
  {
   "cell_type": "code",
   "execution_count": 24,
   "metadata": {},
   "outputs": [
    {
     "name": "stdout",
     "output_type": "stream",
     "text": [
      "[[0. 0. 0. 0. 0. 0. 0. 1. 0. 0.]\n",
      " [0. 0. 1. 0. 0. 0. 0. 0. 0. 0.]\n",
      " [0. 1. 0. 0. 0. 0. 0. 0. 0. 0.]\n",
      " [1. 0. 0. 0. 0. 0. 0. 0. 0. 0.]\n",
      " [0. 0. 0. 0. 1. 0. 0. 0. 0. 0.]\n",
      " [0. 1. 0. 0. 0. 0. 0. 0. 0. 0.]\n",
      " [0. 0. 0. 0. 1. 0. 0. 0. 0. 0.]\n",
      " [0. 0. 0. 0. 0. 0. 0. 0. 0. 1.]\n",
      " [0. 0. 0. 0. 0. 1. 0. 0. 0. 0.]\n",
      " [0. 0. 0. 0. 0. 0. 0. 0. 0. 1.]]\n",
      "[7 2 1 0 4 1 4 9 5 9]\n"
     ]
    }
   ],
   "source": [
    "y_pred = model.predict(X_test)\n",
    "np.set_printoptions(precision=1, suppress=True)\n",
    "print(y_pred[:10])\n",
    "print(y_test[:10])"
   ]
  },
  {
   "cell_type": "code",
   "execution_count": null,
   "metadata": {},
   "outputs": [],
   "source": []
  }
 ],
 "metadata": {
  "accelerator": "GPU",
  "colab": {
   "collapsed_sections": [],
   "name": "1st DNN.ipynb",
   "provenance": [],
   "version": "0.3.2"
  },
  "kernelspec": {
   "display_name": "Python 3",
   "language": "python",
   "name": "python3"
  },
  "language_info": {
   "codemirror_mode": {
    "name": "ipython",
    "version": 3
   },
   "file_extension": ".py",
   "mimetype": "text/x-python",
   "name": "python",
   "nbconvert_exporter": "python",
   "pygments_lexer": "ipython3",
   "version": "3.7.3"
  }
 },
 "nbformat": 4,
 "nbformat_minor": 1
}
