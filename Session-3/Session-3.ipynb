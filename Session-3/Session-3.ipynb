{
 "cells": [
  {
   "cell_type": "markdown",
   "metadata": {
    "colab_type": "text",
    "id": "aNyZv-Ec52ot"
   },
   "source": [
    "# Session-3\n",
    "\n",
    "## Import Libraries and modules"
   ]
  },
  {
   "cell_type": "code",
   "execution_count": 30,
   "metadata": {
    "colab": {
     "base_uri": "https://localhost:8080/",
     "height": 34
    },
    "colab_type": "code",
    "id": "Eso6UHE080D4",
    "outputId": "f409d621-4f2e-4e66-db81-ac039bd2161b"
   },
   "outputs": [],
   "source": [
    "import numpy as np\n",
    "\n",
    "from keras.models import Sequential\n",
    "from keras.layers import Dense, Dropout, Activation, Flatten, Add\n",
    "from keras.layers import Conv2D, MaxPooling2D\n",
    "from keras.utils import np_utils\n",
    "from keras.datasets import mnist"
   ]
  },
  {
   "cell_type": "markdown",
   "metadata": {
    "colab_type": "text",
    "id": "zByEi95J86RD"
   },
   "source": [
    "## Load pre-shuffled MNIST data into train and test sets\n",
    "\n",
    "- Training set contains - 60000 images mapping to categories of 0-9 numbers\n",
    "- Test set contains - 10000 images"
   ]
  },
  {
   "cell_type": "code",
   "execution_count": 33,
   "metadata": {
    "colab": {
     "base_uri": "https://localhost:8080/",
     "height": 51
    },
    "colab_type": "code",
    "id": "7eRM0QWN83PV",
    "outputId": "11f2c2b0-15c2-4b17-b2c7-38a62d689031"
   },
   "outputs": [],
   "source": [
    "(X_train, y_train), (X_test, y_test) = mnist.load_data()"
   ]
  },
  {
   "cell_type": "markdown",
   "metadata": {},
   "source": [
    "## Plot Image\n",
    "\n",
    "Plot the first image in the series to understand the image data and get a feel for a sample. Handwritten number 5 is in the set. "
   ]
  },
  {
   "cell_type": "code",
   "execution_count": 34,
   "metadata": {
    "colab": {
     "base_uri": "https://localhost:8080/",
     "height": 299
    },
    "colab_type": "code",
    "id": "4a4Be72j8-ZC",
    "outputId": "628a97c2-a516-4470-d2c8-b9f2e21ff451"
   },
   "outputs": [
    {
     "name": "stdout",
     "output_type": "stream",
     "text": [
      "(60000, 28, 28)\n"
     ]
    },
    {
     "data": {
      "text/plain": [
       "<matplotlib.image.AxesImage at 0x7f4065a7e518>"
      ]
     },
     "execution_count": 34,
     "metadata": {},
     "output_type": "execute_result"
    },
    {
     "data": {
      "image/png": "[encoded data removed]",
      "text/plain": [
       "<Figure size 432x288 with 1 Axes>"
      ]
     },
     "metadata": {
      "needs_background": "light"
     },
     "output_type": "display_data"
    }
   ],
   "source": [
    "print (X_train.shape)\n",
    "from matplotlib import pyplot as plt\n",
    "%matplotlib inline\n",
    "plt.imshow(X_train[0])"
   ]
  },
  {
   "cell_type": "markdown",
   "metadata": {},
   "source": [
    "## Add Channel Information\n",
    "\n",
    "The dataset does not have a channels layer as it's a grey scale image. The channel layer is needed for image manipulation and understanding later. So a single channel is extended as a 4th dimension. "
   ]
  },
  {
   "cell_type": "code",
   "execution_count": 35,
   "metadata": {
    "colab": {},
    "colab_type": "code",
    "id": "dkmprriw9AnZ"
   },
   "outputs": [],
   "source": [
    "X_train = X_train.reshape(X_train.shape[0], 28, 28,1)\n",
    "X_test = X_test.reshape(X_test.shape[0], 28, 28,1)"
   ]
  },
  {
   "cell_type": "markdown",
   "metadata": {},
   "source": [
    "## Convert the Data to Float\n",
    "\n",
    "The data is to be converted to float format for better computational resolutions. This also can be GPU dependent. Some GPUs may perform faster on fixed point or integral data type. Since the accuracy requirements higher in this problem one may prefer floats to gain better data resolution. "
   ]
  },
  {
   "cell_type": "code",
   "execution_count": 36,
   "metadata": {
    "colab": {},
    "colab_type": "code",
    "id": "X2m4YS4E9CRh"
   },
   "outputs": [],
   "source": [
    "X_train = X_train.astype('float32')\n",
    "X_test = X_test.astype('float32')\n",
    "X_train /= 255\n",
    "X_test /= 255"
   ]
  },
  {
   "cell_type": "markdown",
   "metadata": {},
   "source": [
    "## List Multiclass Data of the Dependent Variable\n",
    "\n",
    "First 10 category outputs of the dependent variable in the training set. "
   ]
  },
  {
   "cell_type": "code",
   "execution_count": 37,
   "metadata": {
    "colab": {
     "base_uri": "https://localhost:8080/",
     "height": 34
    },
    "colab_type": "code",
    "id": "0Mn0vAYD9DvB",
    "outputId": "7449b5c2-b754-4de4-aca8-334c3e066f8e"
   },
   "outputs": [
    {
     "data": {
      "text/plain": [
       "array([5, 0, 4, 1, 9, 2, 1, 3, 1, 4], dtype=uint8)"
      ]
     },
     "execution_count": 37,
     "metadata": {},
     "output_type": "execute_result"
    }
   ],
   "source": [
    "y_train[:10]"
   ]
  },
  {
   "cell_type": "markdown",
   "metadata": {},
   "source": [
    "## Conversion to Categorical One Hot Vector Notation\n",
    "\n",
    "Neural networks are best represented as 0 and 1 post final activation. Particularly, when softmax is used as the activation function. This notation makes it easier for modeling. "
   ]
  },
  {
   "cell_type": "code",
   "execution_count": 38,
   "metadata": {
    "colab": {},
    "colab_type": "code",
    "id": "ZG8JiXR39FHC"
   },
   "outputs": [],
   "source": [
    "# Convert 1-dimensional class arrays to 10-dimensional class matrices\n",
    "Y_train = np_utils.to_categorical(y_train, 10)\n",
    "Y_test = np_utils.to_categorical(y_test, 10)"
   ]
  },
  {
   "cell_type": "markdown",
   "metadata": {},
   "source": [
    "## List One Hot Vector Notation of the Dependent Variable\n",
    "\n",
    "First 10 category outputs of dependent variable in training set."
   ]
  },
  {
   "cell_type": "code",
   "execution_count": 39,
   "metadata": {
    "colab": {
     "base_uri": "https://localhost:8080/",
     "height": 185
    },
    "colab_type": "code",
    "id": "fYlFRvKS9HMB",
    "outputId": "deedbf1d-34d3-46da-a810-917c84df506e"
   },
   "outputs": [
    {
     "data": {
      "text/plain": [
       "array([[0., 0., 0., 0., 0., 1., 0., 0., 0., 0.],\n",
       "       [1., 0., 0., 0., 0., 0., 0., 0., 0., 0.],\n",
       "       [0., 0., 0., 0., 1., 0., 0., 0., 0., 0.],\n",
       "       [0., 1., 0., 0., 0., 0., 0., 0., 0., 0.],\n",
       "       [0., 0., 0., 0., 0., 0., 0., 0., 0., 1.],\n",
       "       [0., 0., 1., 0., 0., 0., 0., 0., 0., 0.],\n",
       "       [0., 1., 0., 0., 0., 0., 0., 0., 0., 0.],\n",
       "       [0., 0., 0., 1., 0., 0., 0., 0., 0., 0.],\n",
       "       [0., 1., 0., 0., 0., 0., 0., 0., 0., 0.],\n",
       "       [0., 0., 0., 0., 1., 0., 0., 0., 0., 0.]], dtype=float32)"
      ]
     },
     "execution_count": 39,
     "metadata": {},
     "output_type": "execute_result"
    }
   ],
   "source": [
    "Y_train[:10]\n"
   ]
  },
  {
   "cell_type": "markdown",
   "metadata": {},
   "source": [
    "## Definition of the Model\n",
    "\n",
    "1. Sequential model of Keras\n",
    "2. Extracting initial 32x3x3 kernel and extract simple edges \n",
    "3. Aggregate the features to 10x1x1 kernel\n",
    "4. Apply 10x26x26 to extract further features and output of 10x1x1\n",
    "5. Flatten the output to 10 outputs matching the One Hot Vector\n",
    "6. Apply the softmax activation."
   ]
  },
  {
   "cell_type": "code",
   "execution_count": 40,
   "metadata": {
    "colab": {
     "base_uri": "https://localhost:8080/",
     "height": 71
    },
    "colab_type": "code",
    "id": "osKqT73Q9JJB",
    "outputId": "7433f36c-750d-471e-ba6b-19dd86a57ce6"
   },
   "outputs": [],
   "source": [
    "from keras.layers import Activation, Flatten\n",
    "model = Sequential()\n",
    "model.add(Conv2D(32, (3, 3), activation='relu', input_shape=(28,28,1), name='c1'))\n",
    "model.add(Conv2D(10, (1, 1), activation='relu', name='c2'))\n",
    "model.add(Conv2D(10, (26, 26), name='c3'))\n",
    "model.add(Flatten(name='f'))\n",
    "model.add(Activation('softmax', name='softmax'))\n"
   ]
  },
  {
   "cell_type": "markdown",
   "metadata": {},
   "source": [
    "## Summary of the Model"
   ]
  },
  {
   "cell_type": "code",
   "execution_count": 41,
   "metadata": {
    "colab": {
     "base_uri": "https://localhost:8080/",
     "height": 303
    },
    "colab_type": "code",
    "id": "TzdAYg1k9K7Z",
    "outputId": "9db63fab-b5f0-475c-db19-9b1aedb4c838",
    "scrolled": true
   },
   "outputs": [
    {
     "name": "stdout",
     "output_type": "stream",
     "text": [
      "_________________________________________________________________\n",
      "Layer (type)                 Output Shape              Param #   \n",
      "=================================================================\n",
      "c1 (Conv2D)                  (None, 26, 26, 32)        320       \n",
      "_________________________________________________________________\n",
      "c2 (Conv2D)                  (None, 26, 26, 10)        330       \n",
      "_________________________________________________________________\n",
      "c3 (Conv2D)                  (None, 1, 1, 10)          67610     \n",
      "_________________________________________________________________\n",
      "f (Flatten)                  (None, 10)                0         \n",
      "_________________________________________________________________\n",
      "softmax (Activation)         (None, 10)                0         \n",
      "=================================================================\n",
      "Total params: 68,260\n",
      "Trainable params: 68,260\n",
      "Non-trainable params: 0\n",
      "_________________________________________________________________\n"
     ]
    }
   ],
   "source": [
    "model.summary()"
   ]
  },
  {
   "cell_type": "markdown",
   "metadata": {},
   "source": [
    "## Compile the Model\n",
    "\n",
    "The model is to be compiled with categorical cross entropy with ADAM optimizer with increased accuracy as the metric."
   ]
  },
  {
   "cell_type": "code",
   "execution_count": 42,
   "metadata": {
    "colab": {},
    "colab_type": "code",
    "id": "Zp6SuGrL9M3h"
   },
   "outputs": [],
   "source": [
    "model.compile(loss='categorical_crossentropy',\n",
    "             optimizer='adam',\n",
    "             metrics=['accuracy'])"
   ]
  },
  {
   "cell_type": "markdown",
   "metadata": {},
   "source": [
    "## Training\n",
    "\n",
    "The model is trained with the training data at batch size of 32 for 10 epochs. At every batch size the parameters are updated as part of the stochastic process. \n",
    "\n",
    "On training data 99.66% accuracy was observed. However, this may not be still good enough for the validation test data. There may be a possibility of overfitting the output to the training data."
   ]
  },
  {
   "cell_type": "code",
   "execution_count": 43,
   "metadata": {
    "colab": {
     "base_uri": "https://localhost:8080/",
     "height": 423
    },
    "colab_type": "code",
    "id": "4xWoKhPY9Of5",
    "outputId": "179d2338-2c40-4be6-f4cb-27d17c2da356",
    "scrolled": false
   },
   "outputs": [
    {
     "name": "stdout",
     "output_type": "stream",
     "text": [
      "Epoch 1/10\n",
      "60000/60000 [==============================] - 7s 117us/step - loss: 0.1995 - acc: 0.9422\n",
      "Epoch 2/10\n",
      "60000/60000 [==============================] - 7s 110us/step - loss: 0.0763 - acc: 0.9772\n",
      "Epoch 3/10\n",
      "60000/60000 [==============================] - 7s 109us/step - loss: 0.0556 - acc: 0.9826\n",
      "Epoch 4/10\n",
      "60000/60000 [==============================] - 7s 108us/step - loss: 0.0441 - acc: 0.9867\n",
      "Epoch 5/10\n",
      "60000/60000 [==============================] - 7s 110us/step - loss: 0.0344 - acc: 0.9894\n",
      "Epoch 6/10\n",
      "60000/60000 [==============================] - 6s 108us/step - loss: 0.0271 - acc: 0.9909\n",
      "Epoch 7/10\n",
      "60000/60000 [==============================] - 7s 109us/step - loss: 0.0206 - acc: 0.9937\n",
      "Epoch 8/10\n",
      "60000/60000 [==============================] - 7s 109us/step - loss: 0.0163 - acc: 0.9947\n",
      "Epoch 9/10\n",
      "60000/60000 [==============================] - 7s 110us/step - loss: 0.0132 - acc: 0.9957\n",
      "Epoch 10/10\n",
      "60000/60000 [==============================] - 7s 109us/step - loss: 0.0104 - acc: 0.9966\n"
     ]
    },
    {
     "data": {
      "text/plain": [
       "<keras.callbacks.History at 0x7f4065a10be0>"
      ]
     },
     "execution_count": 43,
     "metadata": {},
     "output_type": "execute_result"
    }
   ],
   "source": [
    "model.fit(X_train, Y_train, batch_size=32, epochs=10, verbose=1)"
   ]
  },
  {
   "cell_type": "markdown",
   "metadata": {},
   "source": [
    "## Validation\n",
    "\n",
    "Validation is carried out with the test data and score is is computed. The score is essentially the accuracy obtained by the evaluating the model against the portion of the data specifically carved out for testing. \n",
    "\n",
    "As can be seen the validation outcome is 98.16% clearly a significant departure from the traing outcome confirming overfitting of the model. "
   ]
  },
  {
   "cell_type": "code",
   "execution_count": 46,
   "metadata": {
    "colab": {},
    "colab_type": "code",
    "id": "AtsH-lLk-eLb"
   },
   "outputs": [],
   "source": [
    "score = model.evaluate(X_test, Y_test, verbose=0)"
   ]
  },
  {
   "cell_type": "code",
   "execution_count": 47,
   "metadata": {
    "colab": {
     "base_uri": "https://localhost:8080/",
     "height": 34
    },
    "colab_type": "code",
    "id": "mkX8JMv79q9r",
    "outputId": "39da9c7f-7727-4e75-90f1-69a8872eb288"
   },
   "outputs": [
    {
     "name": "stdout",
     "output_type": "stream",
     "text": [
      "[0.07710221854167212, 0.9816]\n"
     ]
    }
   ],
   "source": [
    "print(score)"
   ]
  },
  {
   "cell_type": "markdown",
   "metadata": {},
   "source": [
    "## Prediction\n",
    "\n",
    "Taking a the test data values are predicted. This can be compared with the output of the test data to confirm the quality of the prediction."
   ]
  },
  {
   "cell_type": "code",
   "execution_count": 48,
   "metadata": {
    "colab": {},
    "colab_type": "code",
    "id": "OCWoJkwE9suh"
   },
   "outputs": [],
   "source": [
    "y_pred = model.predict(X_test)"
   ]
  },
  {
   "cell_type": "code",
   "execution_count": 63,
   "metadata": {
    "colab": {
     "base_uri": "https://localhost:8080/",
     "height": 340
    },
    "colab_type": "code",
    "id": "Ym7iCFBm9uBs",
    "outputId": "63105130-a938-481a-982d-795f6a299ddc"
   },
   "outputs": [
    {
     "name": "stdout",
     "output_type": "stream",
     "text": [
      "[[0.  0.  0.  0.  0.  0.  0.  1.  0.  0. ]\n",
      " [0.  0.  1.  0.  0.  0.  0.  0.  0.  0. ]\n",
      " [0.  1.  0.  0.  0.  0.  0.  0.  0.  0. ]\n",
      " [1.  0.  0.  0.  0.  0.  0.  0.  0.  0. ]\n",
      " [0.  0.  0.  0.  1.  0.  0.  0.  0.  0. ]\n",
      " [0.  1.  0.  0.  0.  0.  0.  0.  0.  0. ]\n",
      " [0.  0.  0.  0.  1.  0.  0.  0.  0.  0. ]\n",
      " [0.  0.  0.  0.  0.  0.  0.  0.  0.  1. ]\n",
      " [0.  0.  0.  0.  0.  0.3 0.7 0.  0.  0. ]\n",
      " [0.  0.  0.  0.  0.  0.  0.  0.  0.  1. ]]\n",
      "[7 2 1 0 4 1 4 9 5 9]\n"
     ]
    }
   ],
   "source": [
    "np.set_printoptions(precision=1, suppress=True)\n",
    "print(y_pred[:10])\n",
    "print(y_test[:10])"
   ]
  },
  {
   "cell_type": "markdown",
   "metadata": {},
   "source": [
    "## Kernel Visualization\n",
    "\n",
    "Although the kernels are an important entity in a CNN, it's never easy to visualize what features are extracted from the image. Kernels directly will have only floating point numbers which have little visualization ability. A reverse computation is carried out applying gradients over a short set of data over a few iterations to show actually what features are captured.\n",
    "\n",
    "Running the kernel over the input data for 20 iteration, gives an idea of the features extracted on application of the kernel. "
   ]
  },
  {
   "cell_type": "code",
   "execution_count": 66,
   "metadata": {
    "colab": {},
    "colab_type": "code",
    "id": "CT--y98_dr2T"
   },
   "outputs": [],
   "source": [
    "layer_dict = dict([(layer.name, layer) for layer in model.layers])"
   ]
  },
  {
   "cell_type": "code",
   "execution_count": 67,
   "metadata": {
    "colab": {
     "base_uri": "https://localhost:8080/",
     "height": 839
    },
    "colab_type": "code",
    "id": "2GY4Upv4dsUR",
    "outputId": "3a2e0c8a-cafa-41dd-95af-a906d7d91393",
    "scrolled": true
   },
   "outputs": [
    {
     "data": {
      "image/png": "[encoded data removed]",
      "text/plain": [
       "<Figure size 864x864 with 24 Axes>"
      ]
     },
     "metadata": {
      "needs_background": "light"
     },
     "output_type": "display_data"
    }
   ],
   "source": [
    "import numpy as np\n",
    "from matplotlib import pyplot as plt\n",
    "from keras import backend as K\n",
    "%matplotlib inline\n",
    "# util function to convert a tensor into a valid image\n",
    "def deprocess_image(x):\n",
    "    # normalize tensor: center on 0., ensure std is 0.1\n",
    "    x -= x.mean()\n",
    "    x /= (x.std() + 1e-5)\n",
    "    x *= 0.1\n",
    "\n",
    "    # clip to [0, 1]\n",
    "    x += 0.5\n",
    "    x = np.clip(x, 0, 1)\n",
    "\n",
    "    # convert to RGB array\n",
    "    x *= 255\n",
    "    #x = x.transpose((1, 2, 0))\n",
    "    x = np.clip(x, 0, 255).astype('uint8')\n",
    "    return x\n",
    "\n",
    "def vis_img_in_filter(img = np.array(X_train[2]).reshape((1, 28, 28, 1)).astype(np.float64), \n",
    "                      layer_name = 'c1'):\n",
    "    layer_output = layer_dict[layer_name].output\n",
    "    img_ascs = list()\n",
    "    for filter_index in range(layer_output.shape[3]):\n",
    "        # build a loss function that maximizes the activation\n",
    "        # of the nth filter of the layer considered\n",
    "        loss = K.mean(layer_output[:, :, :, filter_index])\n",
    "\n",
    "        # compute the gradient of the input picture wrt this loss\n",
    "        grads = K.gradients(loss, model.input)[0]\n",
    "\n",
    "        # normalization trick: we normalize the gradient\n",
    "        grads /= (K.sqrt(K.mean(K.square(grads))) + 1e-5)\n",
    "\n",
    "        # this function returns the loss and grads given the input picture\n",
    "        iterate = K.function([model.input], [loss, grads])\n",
    "\n",
    "        # step size for gradient ascent\n",
    "        step = 5.\n",
    "\n",
    "        img_asc = np.array(img)\n",
    "        # run gradient ascent for 20 steps\n",
    "        for i in range(20):\n",
    "            loss_value, grads_value = iterate([img_asc])\n",
    "            img_asc += grads_value * step\n",
    "\n",
    "        img_asc = img_asc[0]\n",
    "        img_ascs.append(deprocess_image(img_asc).reshape((28, 28)))\n",
    "        \n",
    "    if layer_output.shape[3] >= 35:\n",
    "        plot_x, plot_y = 6, 6\n",
    "    elif layer_output.shape[3] >= 23:\n",
    "        plot_x, plot_y = 4, 6\n",
    "    elif layer_output.shape[3] >= 11:\n",
    "        plot_x, plot_y = 2, 6\n",
    "    else:\n",
    "        plot_x, plot_y = 1, 2\n",
    "    fig, ax = plt.subplots(plot_x, plot_y, figsize = (12, 12))\n",
    "    ax[0, 0].imshow(img.reshape((28, 28)), cmap = 'gray')\n",
    "    ax[0, 0].set_title('Input image')\n",
    "    fig.suptitle('Input image and %s filters' % (layer_name,))\n",
    "    fig.tight_layout(pad = 0.3, rect = [0, 0, 0.9, 0.9])\n",
    "    for (x, y) in [(i, j) for i in range(plot_x) for j in range(plot_y)]:\n",
    "        if x == 0 and y == 0:\n",
    "            continue\n",
    "        ax[x, y].imshow(img_ascs[x * plot_y + y - 1], cmap = 'gray')\n",
    "        ax[x, y].set_title('filter %d' % (x * plot_y + y - 1))\n",
    "\n",
    "vis_img_in_filter()"
   ]
  },
  {
   "cell_type": "markdown",
   "metadata": {},
   "source": [
    "## Improved Model\n",
    "\n",
    "An improved model is proposed with a goal to show validation accuracy above 99.4%. A sequential Model is designed with:\n",
    "\n",
    "1. Two 16x3x3 Convolutiion with ReLu Activation\n",
    "2. MaxPool2D of 2x2 \n",
    "3. Five 10x3x3 Convolutiion with ReLu Activation\n",
    "4. Flatten the results \n",
    "5. One dense layer of 40 to 10 as the final outcome\n",
    "6. Softmax activation to match the outcome to One Hot Vector notation\n",
    "\n",
    "Overall 11,740 parameters"
   ]
  },
  {
   "cell_type": "code",
   "execution_count": 73,
   "metadata": {},
   "outputs": [
    {
     "name": "stdout",
     "output_type": "stream",
     "text": [
      "_________________________________________________________________\n",
      "Layer (type)                 Output Shape              Param #   \n",
      "=================================================================\n",
      "conv2d_51 (Conv2D)           (None, 26, 26, 16)        160       \n",
      "_________________________________________________________________\n",
      "conv2d_52 (Conv2D)           (None, 24, 24, 32)        4640      \n",
      "_________________________________________________________________\n",
      "max_pooling2d_10 (MaxPooling (None, 12, 12, 32)        0         \n",
      "_________________________________________________________________\n",
      "conv2d_53 (Conv2D)           (None, 10, 10, 10)        2890      \n",
      "_________________________________________________________________\n",
      "conv2d_54 (Conv2D)           (None, 8, 8, 10)          910       \n",
      "_________________________________________________________________\n",
      "conv2d_55 (Conv2D)           (None, 6, 6, 10)          910       \n",
      "_________________________________________________________________\n",
      "conv2d_56 (Conv2D)           (None, 4, 4, 10)          910       \n",
      "_________________________________________________________________\n",
      "conv2d_57 (Conv2D)           (None, 2, 2, 10)          910       \n",
      "_________________________________________________________________\n",
      "flatten_10 (Flatten)         (None, 40)                0         \n",
      "_________________________________________________________________\n",
      "dense_10 (Dense)             (None, 10)                410       \n",
      "_________________________________________________________________\n",
      "activation_10 (Activation)   (None, 10)                0         \n",
      "=================================================================\n",
      "Total params: 11,740\n",
      "Trainable params: 11,740\n",
      "Non-trainable params: 0\n",
      "_________________________________________________________________\n"
     ]
    }
   ],
   "source": [
    "model = Sequential()\n",
    "model.add(Conv2D(16, (3, 3), activation='relu', input_shape=(28,28,1)))\n",
    "model.add(Conv2D(32, (3, 3), activation='relu'))\n",
    "model.add(MaxPooling2D(2, 2))\n",
    "model.add(Conv2D(10, (3, 3), activation='relu'))\n",
    "model.add(Conv2D(10, (3, 3), activation='relu'))\n",
    "model.add(Conv2D(10, (3, 3), activation='relu'))\n",
    "model.add(Conv2D(10, (3, 3), activation='relu'))\n",
    "model.add(Conv2D(10, (3, 3), activation='relu'))\n",
    "model.add(Flatten())\n",
    "model.add(Dense(10))\n",
    "model.add(Activation('softmax'))\n",
    "model.summary()\n",
    "model.compile(loss='binary_crossentropy', optimizer='adam', metrics=['accuracy'])\n"
   ]
  },
  {
   "cell_type": "markdown",
   "metadata": {},
   "source": [
    "## Training Process\n",
    "\n",
    "While most of the model part is fairly kept standard with CNN with a combination of convolutions and maxpooling the training approach is enhanced with an ensemble technique called stratfied K-fold. \n",
    "\n",
    "The training for a neural network can be improved when optimal statistical mixing can be carried out for the input for a homogenized mix of batches. This is achieved by stratified k-fold. Here the training data is broken into disjoint sets of 5 with almost equal sample occurence of any of the classes of 0-9 in each of the groups. 4 such groups are used as a training set and validated against one of the set as validation set. Thus the results are cross validated against each other. This ensures the batches are homogeneous and uniformly exposed to the each category of the inputs. Each such groups is run for 10 epochs but parameters being fed from the previous run. \n",
    "\n",
    "Moreover, in every epoch the validation rsults are computed with the original test dataset of 10000 data points.\n",
    "\n",
    "\n",
    "The technique has been a small modification of explanation given in the [article](https://machinelearningmastery.com/evaluate-performance-deep-learning-models-keras/)"
   ]
  },
  {
   "cell_type": "code",
   "execution_count": 74,
   "metadata": {},
   "outputs": [
    {
     "name": "stdout",
     "output_type": "stream",
     "text": [
      "Train on 47995 samples, validate on 10000 samples\n",
      "Epoch 1/10\n",
      "47995/47995 [==============================] - 10s 213us/step - loss: 0.0653 - acc: 0.9775 - val_loss: 0.0233 - val_acc: 0.9917\n",
      "Epoch 2/10\n",
      "47995/47995 [==============================] - 9s 189us/step - loss: 0.0223 - acc: 0.9925 - val_loss: 0.0161 - val_acc: 0.9948\n",
      "Epoch 3/10\n",
      "47995/47995 [==============================] - 9s 190us/step - loss: 0.0165 - acc: 0.9944 - val_loss: 0.0133 - val_acc: 0.9957\n",
      "Epoch 4/10\n",
      "47995/47995 [==============================] - 9s 189us/step - loss: 0.0136 - acc: 0.9956 - val_loss: 0.0151 - val_acc: 0.9949\n",
      "Epoch 5/10\n",
      "47995/47995 [==============================] - 9s 190us/step - loss: 0.0116 - acc: 0.9962 - val_loss: 0.0130 - val_acc: 0.9957\n",
      "Epoch 6/10\n",
      "47995/47995 [==============================] - 9s 191us/step - loss: 0.0109 - acc: 0.9965 - val_loss: 0.0083 - val_acc: 0.9974\n",
      "Epoch 7/10\n",
      "47995/47995 [==============================] - 9s 192us/step - loss: 0.0096 - acc: 0.9968 - val_loss: 0.0086 - val_acc: 0.9970\n",
      "Epoch 8/10\n",
      "47995/47995 [==============================] - 9s 190us/step - loss: 0.0090 - acc: 0.9971 - val_loss: 0.0088 - val_acc: 0.9970\n",
      "Epoch 9/10\n",
      "47995/47995 [==============================] - 9s 191us/step - loss: 0.0084 - acc: 0.9972 - val_loss: 0.0088 - val_acc: 0.9968\n",
      "Epoch 10/10\n",
      "47995/47995 [==============================] - 9s 189us/step - loss: 0.0077 - acc: 0.9975 - val_loss: 0.0078 - val_acc: 0.9974\n",
      "acc: 99.69%\n",
      "Train on 47998 samples, validate on 10000 samples\n",
      "Epoch 1/10\n",
      "47998/47998 [==============================] - 9s 187us/step - loss: 0.0082 - acc: 0.9974 - val_loss: 0.0087 - val_acc: 0.9970\n",
      "Epoch 2/10\n",
      "47998/47998 [==============================] - 9s 187us/step - loss: 0.0074 - acc: 0.9977 - val_loss: 0.0086 - val_acc: 0.9974\n",
      "Epoch 3/10\n",
      "47998/47998 [==============================] - 9s 184us/step - loss: 0.0069 - acc: 0.9978 - val_loss: 0.0086 - val_acc: 0.9972\n",
      "Epoch 4/10\n",
      "47998/47998 [==============================] - 9s 186us/step - loss: 0.0064 - acc: 0.9979 - val_loss: 0.0077 - val_acc: 0.9976\n",
      "Epoch 5/10\n",
      "47998/47998 [==============================] - 9s 186us/step - loss: 0.0060 - acc: 0.9979 - val_loss: 0.0082 - val_acc: 0.9975\n",
      "Epoch 6/10\n",
      "47998/47998 [==============================] - 9s 185us/step - loss: 0.0055 - acc: 0.9982 - val_loss: 0.0073 - val_acc: 0.9978\n",
      "Epoch 7/10\n",
      "47998/47998 [==============================] - 9s 181us/step - loss: 0.0053 - acc: 0.9983 - val_loss: 0.0072 - val_acc: 0.9978\n",
      "Epoch 8/10\n",
      "47998/47998 [==============================] - 9s 186us/step - loss: 0.0051 - acc: 0.9983 - val_loss: 0.0085 - val_acc: 0.9973\n",
      "Epoch 9/10\n",
      "47998/47998 [==============================] - 9s 186us/step - loss: 0.0049 - acc: 0.9984 - val_loss: 0.0083 - val_acc: 0.9974\n",
      "Epoch 10/10\n",
      "47998/47998 [==============================] - 9s 183us/step - loss: 0.0048 - acc: 0.9984 - val_loss: 0.0080 - val_acc: 0.9976\n",
      "acc: 99.78%\n",
      "Train on 48000 samples, validate on 10000 samples\n",
      "Epoch 1/10\n",
      "48000/48000 [==============================] - 9s 185us/step - loss: 0.0057 - acc: 0.9982 - val_loss: 0.0073 - val_acc: 0.9978\n",
      "Epoch 2/10\n",
      "48000/48000 [==============================] - 9s 185us/step - loss: 0.0050 - acc: 0.9984 - val_loss: 0.0090 - val_acc: 0.9973\n",
      "Epoch 3/10\n",
      "48000/48000 [==============================] - 9s 184us/step - loss: 0.0044 - acc: 0.9985 - val_loss: 0.0080 - val_acc: 0.9976\n",
      "Epoch 4/10\n",
      "48000/48000 [==============================] - 9s 184us/step - loss: 0.0041 - acc: 0.9987 - val_loss: 0.0097 - val_acc: 0.9974\n",
      "Epoch 5/10\n",
      "48000/48000 [==============================] - 9s 186us/step - loss: 0.0041 - acc: 0.9986 - val_loss: 0.0086 - val_acc: 0.9974\n",
      "Epoch 6/10\n",
      "48000/48000 [==============================] - 9s 187us/step - loss: 0.0040 - acc: 0.9987 - val_loss: 0.0085 - val_acc: 0.9976\n",
      "Epoch 7/10\n",
      "48000/48000 [==============================] - 9s 186us/step - loss: 0.0038 - acc: 0.9987 - val_loss: 0.0083 - val_acc: 0.9978\n",
      "Epoch 8/10\n",
      "48000/48000 [==============================] - 9s 186us/step - loss: 0.0037 - acc: 0.9988 - val_loss: 0.0086 - val_acc: 0.9977\n",
      "Epoch 9/10\n",
      "48000/48000 [==============================] - 9s 186us/step - loss: 0.0034 - acc: 0.9989 - val_loss: 0.0092 - val_acc: 0.9975\n",
      "Epoch 10/10\n",
      "48000/48000 [==============================] - 9s 184us/step - loss: 0.0033 - acc: 0.9989 - val_loss: 0.0083 - val_acc: 0.9978\n",
      "acc: 99.77%\n",
      "Train on 48003 samples, validate on 10000 samples\n",
      "Epoch 1/10\n",
      "48003/48003 [==============================] - 9s 187us/step - loss: 0.0050 - acc: 0.9983 - val_loss: 0.0070 - val_acc: 0.9978\n",
      "Epoch 2/10\n",
      "48003/48003 [==============================] - 9s 185us/step - loss: 0.0039 - acc: 0.9988 - val_loss: 0.0068 - val_acc: 0.9980\n",
      "Epoch 3/10\n",
      "48003/48003 [==============================] - 9s 187us/step - loss: 0.0035 - acc: 0.9989 - val_loss: 0.0072 - val_acc: 0.9979\n",
      "Epoch 4/10\n",
      "48003/48003 [==============================] - 9s 185us/step - loss: 0.0034 - acc: 0.9988 - val_loss: 0.0081 - val_acc: 0.9977\n",
      "Epoch 5/10\n",
      "48003/48003 [==============================] - 9s 185us/step - loss: 0.0032 - acc: 0.9990 - val_loss: 0.0093 - val_acc: 0.9976\n",
      "Epoch 6/10\n",
      "48003/48003 [==============================] - 9s 187us/step - loss: 0.0036 - acc: 0.9987 - val_loss: 0.0072 - val_acc: 0.9980\n",
      "Epoch 7/10\n",
      "48003/48003 [==============================] - 9s 188us/step - loss: 0.0029 - acc: 0.9989 - val_loss: 0.0095 - val_acc: 0.9976\n",
      "Epoch 8/10\n",
      "48003/48003 [==============================] - 9s 187us/step - loss: 0.0030 - acc: 0.9989 - val_loss: 0.0104 - val_acc: 0.9973\n",
      "Epoch 9/10\n",
      "48003/48003 [==============================] - 9s 186us/step - loss: 0.0031 - acc: 0.9990 - val_loss: 0.0090 - val_acc: 0.9977\n",
      "Epoch 10/10\n",
      "48003/48003 [==============================] - 9s 183us/step - loss: 0.0029 - acc: 0.9989 - val_loss: 0.0113 - val_acc: 0.9972\n",
      "acc: 99.73%\n",
      "Train on 48004 samples, validate on 10000 samples\n",
      "Epoch 1/10\n",
      "48004/48004 [==============================] - 9s 187us/step - loss: 0.0039 - acc: 0.9988 - val_loss: 0.0069 - val_acc: 0.9979\n",
      "Epoch 2/10\n",
      "48004/48004 [==============================] - 9s 185us/step - loss: 0.0033 - acc: 0.9989 - val_loss: 0.0066 - val_acc: 0.9979\n",
      "Epoch 3/10\n",
      "48004/48004 [==============================] - 9s 185us/step - loss: 0.0032 - acc: 0.9989 - val_loss: 0.0100 - val_acc: 0.9973\n",
      "Epoch 4/10\n",
      "48004/48004 [==============================] - 9s 186us/step - loss: 0.0031 - acc: 0.9988 - val_loss: 0.0078 - val_acc: 0.9980\n",
      "Epoch 5/10\n",
      "48004/48004 [==============================] - 9s 186us/step - loss: 0.0030 - acc: 0.9990 - val_loss: 0.0084 - val_acc: 0.9978\n",
      "Epoch 6/10\n",
      "48004/48004 [==============================] - 9s 184us/step - loss: 0.0029 - acc: 0.9990 - val_loss: 0.0091 - val_acc: 0.9979\n",
      "Epoch 7/10\n",
      "48004/48004 [==============================] - 9s 184us/step - loss: 0.0027 - acc: 0.9991 - val_loss: 0.0124 - val_acc: 0.9973\n",
      "Epoch 8/10\n",
      "48004/48004 [==============================] - 9s 186us/step - loss: 0.0025 - acc: 0.9991 - val_loss: 0.0102 - val_acc: 0.9976\n",
      "Epoch 9/10\n",
      "48004/48004 [==============================] - 9s 185us/step - loss: 0.0027 - acc: 0.9991 - val_loss: 0.0086 - val_acc: 0.9979\n",
      "Epoch 10/10\n",
      "48004/48004 [==============================] - 9s 186us/step - loss: 0.0031 - acc: 0.9989 - val_loss: 0.0075 - val_acc: 0.9982\n",
      "acc: 99.90%\n"
     ]
    }
   ],
   "source": [
    "from sklearn.model_selection import StratifiedKFold\n",
    "seed = 7\n",
    "np.random.seed(seed)\n",
    "# define 10-fold cross validation test harness\n",
    "kfold = StratifiedKFold(n_splits=5, shuffle=True, random_state=seed)\n",
    "cvscores = []\n",
    "(X, Y) = (X_train, y_train)\n",
    "for train, test in kfold.split(X, Y):\n",
    "    # Fit the model\n",
    "    model.fit(X[train], Y_train[train], epochs=10, batch_size=32, verbose=1, validation_data=(X_test, Y_test))\n",
    "    # evaluate the model\n",
    "    scores = model.evaluate(X[test], Y_train[test], verbose=0)\n",
    "    print(\"%s: %.2f%%\" % (model.metrics_names[1], scores[1]*100))\n",
    "    cvscores.append(scores[1] * 100)"
   ]
  },
  {
   "cell_type": "markdown",
   "metadata": {},
   "source": [
    "## Results\n",
    "\n",
    "The final cross validation score is averaged over each of the iterations are stated. As expected, the cross validation being on the training data there is a continuous pattern of overfitting of the data. However, what is interesting to observe the validation score over the test data has also significantly improved at 99.81%. \n",
    "\n",
    "Now that the test data is not used for any of the training purposes, the result cannot be construed as overfitting. Although, the learning curve has not been plotted to confirm the same. The crossvalidation results are not significantly different from the test data validation confirming the training is fairly uniform for the overall population. \n",
    "\n",
    "The state of art is reported as: https://paperswithcode.com/sota/image-classification-on-mnist with https://paperswithcode.com/paper/rmdl-random-multimodel-deep-learning-for using a random combination of DNN, CNN, and RNN, a simple statistical mixing of training data can almost produce similar outcome with the MNIST dataset."
   ]
  },
  {
   "cell_type": "code",
   "execution_count": 79,
   "metadata": {},
   "outputs": [
    {
     "data": {
      "text/plain": [
       "[99.6859636191575,\n",
       " 99.77670344406914,\n",
       " 99.76749939918518,\n",
       " 99.72743130062108,\n",
       " 99.89663188001958]"
      ]
     },
     "execution_count": 79,
     "metadata": {},
     "output_type": "execute_result"
    }
   ],
   "source": [
    "cvscores"
   ]
  },
  {
   "cell_type": "code",
   "execution_count": 80,
   "metadata": {},
   "outputs": [],
   "source": [
    "score = model.evaluate(X_test, Y_test, verbose=0)"
   ]
  },
  {
   "cell_type": "code",
   "execution_count": 81,
   "metadata": {},
   "outputs": [
    {
     "name": "stdout",
     "output_type": "stream",
     "text": [
      "[0.00748667949671003, 0.9981799970626831]\n"
     ]
    }
   ],
   "source": [
    "print(score)"
   ]
  },
  {
   "cell_type": "code",
   "execution_count": 82,
   "metadata": {},
   "outputs": [
    {
     "name": "stdout",
     "output_type": "stream",
     "text": [
      "[[0.  0.  0.  0.  0.  0.  0.  1.  0.  0. ]\n",
      " [0.  0.  1.  0.  0.  0.  0.  0.  0.  0. ]\n",
      " [0.  1.  0.  0.  0.  0.  0.  0.  0.  0. ]\n",
      " [1.  0.  0.  0.  0.  0.  0.  0.  0.  0. ]\n",
      " [0.  0.  0.  0.  1.  0.  0.  0.  0.  0. ]\n",
      " [0.  1.  0.  0.  0.  0.  0.  0.  0.  0. ]\n",
      " [0.  0.  0.  0.  1.  0.  0.  0.  0.  0. ]\n",
      " [0.  0.  0.  0.  0.  0.  0.  0.  0.  1. ]\n",
      " [0.  0.  0.  0.  0.  0.8 0.  0.  0.2 0. ]\n",
      " [0.  0.  0.  0.  0.  0.  0.  0.  0.  1. ]]\n",
      "[7 2 1 0 4 1 4 9 5 9]\n"
     ]
    }
   ],
   "source": [
    "y_pred = model.predict(X_test)\n",
    "np.set_printoptions(precision=1, suppress=True)\n",
    "print(y_pred[:10])\n",
    "print(y_test[:10])"
   ]
  },
  {
   "cell_type": "code",
   "execution_count": null,
   "metadata": {},
   "outputs": [],
   "source": []
  }
 ],
 "metadata": {
  "accelerator": "GPU",
  "colab": {
   "collapsed_sections": [],
   "name": "1st DNN.ipynb",
   "provenance": [],
   "version": "0.3.2"
  },
  "kernelspec": {
   "display_name": "Python 3",
   "language": "python",
   "name": "python3"
  },
  "language_info": {
   "codemirror_mode": {
    "name": "ipython",
    "version": 3
   },
   "file_extension": ".py",
   "mimetype": "text/x-python",
   "name": "python",
   "nbconvert_exporter": "python",
   "pygments_lexer": "ipython3",
   "version": "3.7.3"
  }
 },
 "nbformat": 4,
 "nbformat_minor": 1
}
